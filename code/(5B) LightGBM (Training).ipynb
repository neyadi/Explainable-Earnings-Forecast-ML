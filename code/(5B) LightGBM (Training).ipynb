{
 "cells": [
  {
   "cell_type": "code",
   "execution_count": 1,
   "id": "a6e3168c",
   "metadata": {},
   "outputs": [],
   "source": [
    "import pandas as pd\n",
    "import numpy as np\n",
    "import lightgbm as lgb\n",
    "import pickle"
   ]
  },
  {
   "cell_type": "markdown",
   "id": "74391fa8",
   "metadata": {
    "tags": []
   },
   "source": [
    "### Read Data"
   ]
  },
  {
   "cell_type": "code",
   "execution_count": 2,
   "id": "a1c03577",
   "metadata": {},
   "outputs": [],
   "source": [
    "file = open('../data/subsets.pkl', 'rb')\n",
    "subsets = pickle.load(file)\n",
    "file.close()"
   ]
  },
  {
   "cell_type": "code",
   "execution_count": 3,
   "id": "89989652",
   "metadata": {},
   "outputs": [
    {
     "name": "stdout",
     "output_type": "stream",
     "text": [
      "dict_keys(['2013', '2014', '2015', '2016', '2017', '2018', '2019'])\n"
     ]
    }
   ],
   "source": [
    "file = open('../model/best_parameters3.pkl','rb')\n",
    "params_dict = pickle.load(file)\n",
    "file.close()\n",
    "print(params_dict.keys())"
   ]
  },
  {
   "cell_type": "markdown",
   "id": "e52fea2a",
   "metadata": {},
   "source": [
    "### Train model"
   ]
  },
  {
   "cell_type": "code",
   "execution_count": 4,
   "id": "05c77020",
   "metadata": {},
   "outputs": [],
   "source": [
    "non_features = ['gvkey','datacqtr', 'cusip','tic', 'announcement_date','analyst_date',\n",
    "                'nq_eps_actual_direction','nq_eps_actual_change',\n",
    "                'nq_eps_predicted_mean_direction','nq_eps_predicted_mean_change',\n",
    "                'nq_eps_predicted_median_direction','nq_eps_predicted_median_change',\n",
    "                'mkvaltq', 'gsector']"
   ]
  },
  {
   "cell_type": "code",
   "execution_count": 5,
   "id": "c994eea2",
   "metadata": {},
   "outputs": [],
   "source": [
    "models_by_year = {}"
   ]
  },
  {
   "cell_type": "code",
   "execution_count": 6,
   "id": "feb47fcc",
   "metadata": {},
   "outputs": [
    {
     "name": "stderr",
     "output_type": "stream",
     "text": [
      "/Users/neyadi/anaconda3/lib/python3.11/site-packages/lightgbm/engine.py:177: UserWarning: Found `num_iterations` in params. Will use it instead of argument\n",
      "  _log_warning(f\"Found `{alias}` in params. Will use it instead of argument\")\n"
     ]
    },
    {
     "name": "stdout",
     "output_type": "stream",
     "text": [
      "2013\n"
     ]
    },
    {
     "name": "stderr",
     "output_type": "stream",
     "text": [
      "/Users/neyadi/anaconda3/lib/python3.11/site-packages/lightgbm/engine.py:177: UserWarning: Found `num_iterations` in params. Will use it instead of argument\n",
      "  _log_warning(f\"Found `{alias}` in params. Will use it instead of argument\")\n"
     ]
    },
    {
     "name": "stdout",
     "output_type": "stream",
     "text": [
      "2014\n"
     ]
    },
    {
     "name": "stderr",
     "output_type": "stream",
     "text": [
      "/Users/neyadi/anaconda3/lib/python3.11/site-packages/lightgbm/engine.py:177: UserWarning: Found `num_iterations` in params. Will use it instead of argument\n",
      "  _log_warning(f\"Found `{alias}` in params. Will use it instead of argument\")\n"
     ]
    },
    {
     "name": "stdout",
     "output_type": "stream",
     "text": [
      "2015\n"
     ]
    },
    {
     "name": "stderr",
     "output_type": "stream",
     "text": [
      "/Users/neyadi/anaconda3/lib/python3.11/site-packages/lightgbm/engine.py:177: UserWarning: Found `num_iterations` in params. Will use it instead of argument\n",
      "  _log_warning(f\"Found `{alias}` in params. Will use it instead of argument\")\n"
     ]
    },
    {
     "name": "stdout",
     "output_type": "stream",
     "text": [
      "2016\n"
     ]
    },
    {
     "name": "stderr",
     "output_type": "stream",
     "text": [
      "/Users/neyadi/anaconda3/lib/python3.11/site-packages/lightgbm/engine.py:177: UserWarning: Found `num_iterations` in params. Will use it instead of argument\n",
      "  _log_warning(f\"Found `{alias}` in params. Will use it instead of argument\")\n"
     ]
    },
    {
     "name": "stdout",
     "output_type": "stream",
     "text": [
      "2017\n"
     ]
    },
    {
     "name": "stderr",
     "output_type": "stream",
     "text": [
      "/Users/neyadi/anaconda3/lib/python3.11/site-packages/lightgbm/engine.py:177: UserWarning: Found `num_iterations` in params. Will use it instead of argument\n",
      "  _log_warning(f\"Found `{alias}` in params. Will use it instead of argument\")\n"
     ]
    },
    {
     "name": "stdout",
     "output_type": "stream",
     "text": [
      "2018\n"
     ]
    },
    {
     "name": "stderr",
     "output_type": "stream",
     "text": [
      "/Users/neyadi/anaconda3/lib/python3.11/site-packages/lightgbm/engine.py:177: UserWarning: Found `num_iterations` in params. Will use it instead of argument\n",
      "  _log_warning(f\"Found `{alias}` in params. Will use it instead of argument\")\n"
     ]
    },
    {
     "name": "stdout",
     "output_type": "stream",
     "text": [
      "2019\n"
     ]
    }
   ],
   "source": [
    "for i, year in enumerate(sorted(subsets.keys())):\n",
    "\n",
    "    # split into training and testing\n",
    "    df_train = subsets[year]['train']\n",
    "    df_test = subsets[year]['test']\n",
    "\n",
    "    # create train and test features\n",
    "    train_features = np.array(df_train.drop(non_features, axis = 1))\n",
    "    test_features = np.array(df_test.drop(non_features, axis = 1))\n",
    "\n",
    "    # create train and test labels\n",
    "    train_labels = np.array(df_train['nq_eps_actual_direction'])\n",
    "    test_labels = np.array(df_test['nq_eps_actual_direction'])\n",
    "\n",
    "    # create feature names\n",
    "    feature_names = list(df_test.drop(non_features, axis = 1).columns)\n",
    "\n",
    "    # train model\n",
    "    params = params_dict[year]\n",
    "\n",
    "    train_data = lgb.Dataset(train_features, label=train_labels)\n",
    "    model = lgb.train(params,train_data)\n",
    "\n",
    "    # save model\n",
    "    models_by_year[year] = model\n",
    "\n",
    "    print(year)\n",
    "    \n",
    "with open('../model/models_by_year.pkl', 'wb') as file:\n",
    "    pickle.dump(models_by_year, file)"
   ]
  }
 ],
 "metadata": {
  "kernelspec": {
   "display_name": "base",
   "language": "python",
   "name": "python3"
  },
  "language_info": {
   "codemirror_mode": {
    "name": "ipython",
    "version": 3
   },
   "file_extension": ".py",
   "mimetype": "text/x-python",
   "name": "python",
   "nbconvert_exporter": "python",
   "pygments_lexer": "ipython3",
   "version": "3.11.4"
  }
 },
 "nbformat": 4,
 "nbformat_minor": 5
}
