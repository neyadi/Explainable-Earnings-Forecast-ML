{
 "cells": [
  {
   "cell_type": "code",
   "execution_count": 1,
   "id": "a6e3168c",
   "metadata": {},
   "outputs": [],
   "source": [
    "import pandas as pd\n",
    "import numpy as np\n",
    "from sklearn.metrics import accuracy_score, f1_score, roc_auc_score\n",
    "import pickle"
   ]
  },
  {
   "cell_type": "markdown",
   "id": "74391fa8",
   "metadata": {
    "tags": []
   },
   "source": [
    "### Read Data"
   ]
  },
  {
   "cell_type": "code",
   "execution_count": 2,
   "id": "a1c03577",
   "metadata": {},
   "outputs": [],
   "source": [
    "file = open('../data/subsets.pkl', 'rb')\n",
    "subsets = pickle.load(file)\n",
    "file.close()"
   ]
  },
  {
   "cell_type": "code",
   "execution_count": 3,
   "id": "89989652",
   "metadata": {},
   "outputs": [
    {
     "name": "stdout",
     "output_type": "stream",
     "text": [
      "dict_keys(['2013', '2014', '2015', '2016', '2017', '2018', '2019'])\n"
     ]
    }
   ],
   "source": [
    "file = open('../model/models_by_year.pkl','rb')\n",
    "models_by_year = pickle.load(file)\n",
    "file.close()\n",
    "print(models_by_year.keys())"
   ]
  },
  {
   "cell_type": "markdown",
   "id": "e52fea2a",
   "metadata": {},
   "source": [
    "### Test model"
   ]
  },
  {
   "cell_type": "code",
   "execution_count": 4,
   "id": "05c77020",
   "metadata": {},
   "outputs": [],
   "source": [
    "non_features = ['gvkey','datacqtr', 'cusip','tic','announcement_date','analyst_date',\n",
    "                'nq_eps_actual_direction','nq_eps_actual_change',\n",
    "                'nq_eps_predicted_mean_direction','nq_eps_predicted_mean_change',\n",
    "                'nq_eps_predicted_median_direction','nq_eps_predicted_median_change',\n",
    "                'mkvaltq', 'gsector']"
   ]
  },
  {
   "cell_type": "code",
   "execution_count": 5,
   "id": "1fb53bd7",
   "metadata": {},
   "outputs": [],
   "source": [
    "predictions = {'datacqtr': [],'gvkey': [],'cusip':[],'tic':[], 'mkvaltq':[],'gsector':[],'atq':[],\n",
    "               'announcement_date':[], 'analyst_date':[],\n",
    "               'direction_pred':[],'value_pred':[],\n",
    "               'direction_actual': [],'value_actual': [], \n",
    "               'direction_analyst_mean': [],'value_analyst_mean': [],\n",
    "               'direction_analyst_median': [],'value_analyst_median': []}\n",
    "\n",
    "results = []\n",
    "splits = {}"
   ]
  },
  {
   "cell_type": "code",
   "execution_count": 6,
   "id": "feb47fcc",
   "metadata": {},
   "outputs": [
    {
     "name": "stdout",
     "output_type": "stream",
     "text": [
      "1 {'year': '2013', 'accuracy': 0.7450826121164438, 'f1': 0.7437691331292466, 'auc': 0.82391674461856}\n",
      "2 {'year': '2014', 'accuracy': 0.749507874015748, 'f1': 0.748631223654944, 'auc': 0.8353993781298868}\n",
      "3 {'year': '2015', 'accuracy': 0.7519739897816999, 'f1': 0.7519705652977287, 'auc': 0.8370062984532708}\n",
      "4 {'year': '2016', 'accuracy': 0.7544398158298619, 'f1': 0.7538619284683155, 'auc': 0.836826439582014}\n",
      "5 {'year': '2017', 'accuracy': 0.745288879685235, 'f1': 0.7437600819184997, 'auc': 0.8273249687269688}\n",
      "6 {'year': '2018', 'accuracy': 0.7307311274024173, 'f1': 0.7305888077079031, 'auc': 0.8219471607788794}\n",
      "7 {'year': '2019', 'accuracy': 0.74285169653069, 'f1': 0.7427525291161472, 'auc': 0.8273055366600968}\n"
     ]
    }
   ],
   "source": [
    "for i, year in enumerate(sorted(subsets.keys())):\n",
    "\n",
    "    # split into training and testing\n",
    "    df_train = subsets[year]['train']\n",
    "    df_test = subsets[year]['test']\n",
    "\n",
    "    # create train and test features\n",
    "    train_features = np.array(df_train.drop(non_features, axis = 1))\n",
    "    test_features = np.array(df_test.drop(non_features, axis = 1))\n",
    "\n",
    "    # create train and test labels\n",
    "    train_labels = np.array(df_train['nq_eps_actual_direction'])\n",
    "    test_labels = np.array(df_test['nq_eps_actual_direction'])\n",
    "\n",
    "    # create feature names\n",
    "    feature_names = list(df_test.drop(non_features, axis = 1).columns)\n",
    "\n",
    "    # load model\n",
    "    model = models_by_year[year]\n",
    "\n",
    "    # make predictions\n",
    "    cb_predict_proba = model.predict(test_features)\n",
    "    cb_predict = (cb_predict_proba>0.5).astype(int)\n",
    "\n",
    "    # results \n",
    "    results.append({'year': year, \n",
    "                    'accuracy': accuracy_score(test_labels, cb_predict), \n",
    "                    'f1': f1_score(test_labels, cb_predict, average='macro'), \n",
    "                    'auc': roc_auc_score(test_labels, cb_predict_proba)})\n",
    "    \n",
    "    # predictions\n",
    "    predictions['direction_pred'] += list(cb_predict)\n",
    "    predictions['value_pred'] += list(cb_predict_proba)\n",
    "\n",
    "    predictions['direction_actual'] += list(test_labels)\n",
    "    predictions['value_actual'] += list(df_test['nq_eps_actual_change'])\n",
    "\n",
    "    predictions['direction_analyst_mean'] += list(df_test['nq_eps_predicted_mean_direction'])\n",
    "    predictions['value_analyst_mean'] += list(df_test['nq_eps_predicted_mean_change'])\n",
    "\n",
    "    predictions['direction_analyst_median'] += list(df_test['nq_eps_predicted_median_direction'])\n",
    "    predictions['value_analyst_median'] += list(df_test['nq_eps_predicted_median_change'])\n",
    "\n",
    "    predictions['datacqtr'] += list(df_test['datacqtr'])\n",
    "    predictions['gvkey'] += list(df_test['gvkey'])\n",
    "    predictions['cusip'] += list(df_test['cusip'])\n",
    "    predictions['tic'] += list(df_test['tic'])\n",
    "    predictions['announcement_date'] += list(df_test['announcement_date'])\n",
    "    predictions['analyst_date'] += list(df_test['analyst_date'])\n",
    "\n",
    "    predictions['mkvaltq'] += list(df_test['mkvaltq'])\n",
    "    predictions['gsector'] += list(df_test['gsector'])\n",
    "    predictions['atq'] += list(df_test['atq_current'])\n",
    "\n",
    "    #  splits data\n",
    "    split_data = {}\n",
    "    split_data['model'] = model\n",
    "    split_data['train_features'] = train_features\n",
    "    split_data['test_features'] = test_features\n",
    "    split_data['feature_names'] = feature_names\n",
    "    split_data['predictions'] = predictions\n",
    "\n",
    "    splits[year] = split_data\n",
    "\n",
    "    print(i+1, results[-1])"
   ]
  },
  {
   "cell_type": "markdown",
   "id": "90758a85",
   "metadata": {},
   "source": [
    "### Save data"
   ]
  },
  {
   "cell_type": "code",
   "execution_count": 7,
   "id": "5e151a49",
   "metadata": {},
   "outputs": [],
   "source": [
    "pickle.dump(splits, open('../data/splits_data.pkl', 'wb'))"
   ]
  },
  {
   "cell_type": "code",
   "execution_count": 8,
   "id": "4ea65faf",
   "metadata": {},
   "outputs": [],
   "source": [
    "predictions_df = pd.DataFrame(predictions)"
   ]
  },
  {
   "cell_type": "code",
   "execution_count": 13,
   "id": "71361509",
   "metadata": {},
   "outputs": [
    {
     "data": {
      "text/plain": [
       "0.13456348459172787"
      ]
     },
     "execution_count": 13,
     "metadata": {},
     "output_type": "execute_result"
    }
   ],
   "source": [
    "((predictions_df['value_analyst_mean']<-1)|(predictions_df['value_analyst_mean']>1)).sum()/len(predictions_df)"
   ]
  },
  {
   "cell_type": "code",
   "execution_count": 14,
   "id": "2458bc92",
   "metadata": {},
   "outputs": [
    {
     "data": {
      "text/plain": [
       "31866"
      ]
     },
     "execution_count": 14,
     "metadata": {},
     "output_type": "execute_result"
    }
   ],
   "source": [
    "for value_analyst in ['value_analyst_mean','value_analyst_median']:\n",
    "    predictions_df.loc[predictions_df[value_analyst]>1,value_analyst] = 1\n",
    "    predictions_df.loc[predictions_df[value_analyst]<-1,value_analyst] = -1\n",
    "\n",
    "    predictions_df[value_analyst] = (predictions_df[value_analyst]+1)/2\n",
    "    \n",
    "len(predictions_df)"
   ]
  },
  {
   "cell_type": "code",
   "execution_count": 15,
   "id": "559fede4",
   "metadata": {},
   "outputs": [],
   "source": [
    "predictions_df.to_pickle('../results/lgbm_predictions.pkl')"
   ]
  }
 ],
 "metadata": {
  "kernelspec": {
   "display_name": "base",
   "language": "python",
   "name": "python3"
  },
  "language_info": {
   "codemirror_mode": {
    "name": "ipython",
    "version": 3
   },
   "file_extension": ".py",
   "mimetype": "text/x-python",
   "name": "python",
   "nbconvert_exporter": "python",
   "pygments_lexer": "ipython3",
   "version": "3.11.4"
  }
 },
 "nbformat": 4,
 "nbformat_minor": 5
}
