{
 "cells": [
  {
   "cell_type": "code",
   "execution_count": 1,
   "metadata": {},
   "outputs": [],
   "source": [
    "import pandas as pd\n",
    "import numpy as np"
   ]
  },
  {
   "cell_type": "markdown",
   "metadata": {},
   "source": [
    "### Read Data"
   ]
  },
  {
   "cell_type": "code",
   "execution_count": 2,
   "metadata": {},
   "outputs": [],
   "source": [
    "df = pd.read_pickle('../data/preprocessed_data_1.pkl')"
   ]
  },
  {
   "cell_type": "code",
   "execution_count": 3,
   "metadata": {},
   "outputs": [
    {
     "name": "stdout",
     "output_type": "stream",
     "text": [
      "Number of Companies: 2545\n",
      "Number of Rows: 111528\n",
      "Number of Columns: 85\n"
     ]
    }
   ],
   "source": [
    "print(f'Number of Companies: {df[\"gvkey\"].nunique()}')\n",
    "print(f'Number of Rows: {len(df)}')\n",
    "print(f'Number of Columns: {len(df.columns)}')"
   ]
  },
  {
   "cell_type": "markdown",
   "metadata": {},
   "source": [
    "### Fix Outliers"
   ]
  },
  {
   "cell_type": "code",
   "execution_count": 4,
   "metadata": {},
   "outputs": [],
   "source": [
    "general_variables = ['gsector','gvkey','datacqtr','cusip','tic', 'announcement_date', 'analyst_date', 'eps_predicted_mean', 'eps_predicted_median']\n",
    "columns_to_fix = [x for x in df.columns if x not in (general_variables + ['atq','mkvaltq'])]"
   ]
  },
  {
   "cell_type": "code",
   "execution_count": 5,
   "metadata": {},
   "outputs": [
    {
     "data": {
      "text/plain": [
       "74"
      ]
     },
     "execution_count": 5,
     "metadata": {},
     "output_type": "execute_result"
    }
   ],
   "source": [
    "len(columns_to_fix)"
   ]
  },
  {
   "cell_type": "code",
   "execution_count": 6,
   "metadata": {},
   "outputs": [],
   "source": [
    "for column in columns_to_fix:\n",
    "    series = df[column]/df['atq']\n",
    "    if column in ['eps_actual','prccq']:\n",
    "        series = df[column]\n",
    "    \n",
    "    lower_threshold = (series).quantile(0.01)\n",
    "    upper_threshold = (series).quantile(0.99)\n",
    "    \n",
    "    df[column] = df[column].mask((series) < lower_threshold, np.nan)\n",
    "    df[column] = df[column].mask((series) > upper_threshold, np.nan)"
   ]
  },
  {
   "cell_type": "code",
   "execution_count": 7,
   "metadata": {},
   "outputs": [
    {
     "data": {
      "text/html": [
       "<div>\n",
       "<style scoped>\n",
       "    .dataframe tbody tr th:only-of-type {\n",
       "        vertical-align: middle;\n",
       "    }\n",
       "\n",
       "    .dataframe tbody tr th {\n",
       "        vertical-align: top;\n",
       "    }\n",
       "\n",
       "    .dataframe thead th {\n",
       "        text-align: right;\n",
       "    }\n",
       "</style>\n",
       "<table border=\"1\" class=\"dataframe\">\n",
       "  <thead>\n",
       "    <tr style=\"text-align: right;\">\n",
       "      <th></th>\n",
       "      <th>acchgq</th>\n",
       "      <th>esoptq</th>\n",
       "      <th>xiq</th>\n",
       "    </tr>\n",
       "  </thead>\n",
       "  <tbody>\n",
       "    <tr>\n",
       "      <th>count</th>\n",
       "      <td>107738.0</td>\n",
       "      <td>105745.0</td>\n",
       "      <td>109729.0</td>\n",
       "    </tr>\n",
       "    <tr>\n",
       "      <th>mean</th>\n",
       "      <td>0.0</td>\n",
       "      <td>0.0</td>\n",
       "      <td>0.0</td>\n",
       "    </tr>\n",
       "    <tr>\n",
       "      <th>std</th>\n",
       "      <td>0.0</td>\n",
       "      <td>0.0</td>\n",
       "      <td>0.0</td>\n",
       "    </tr>\n",
       "    <tr>\n",
       "      <th>min</th>\n",
       "      <td>0.0</td>\n",
       "      <td>0.0</td>\n",
       "      <td>0.0</td>\n",
       "    </tr>\n",
       "    <tr>\n",
       "      <th>25%</th>\n",
       "      <td>0.0</td>\n",
       "      <td>0.0</td>\n",
       "      <td>0.0</td>\n",
       "    </tr>\n",
       "    <tr>\n",
       "      <th>50%</th>\n",
       "      <td>0.0</td>\n",
       "      <td>0.0</td>\n",
       "      <td>0.0</td>\n",
       "    </tr>\n",
       "    <tr>\n",
       "      <th>75%</th>\n",
       "      <td>0.0</td>\n",
       "      <td>0.0</td>\n",
       "      <td>0.0</td>\n",
       "    </tr>\n",
       "    <tr>\n",
       "      <th>max</th>\n",
       "      <td>0.0</td>\n",
       "      <td>0.0</td>\n",
       "      <td>0.0</td>\n",
       "    </tr>\n",
       "  </tbody>\n",
       "</table>\n",
       "</div>"
      ],
      "text/plain": [
       "         acchgq    esoptq       xiq\n",
       "count  107738.0  105745.0  109729.0\n",
       "mean        0.0       0.0       0.0\n",
       "std         0.0       0.0       0.0\n",
       "min         0.0       0.0       0.0\n",
       "25%         0.0       0.0       0.0\n",
       "50%         0.0       0.0       0.0\n",
       "75%         0.0       0.0       0.0\n",
       "max         0.0       0.0       0.0"
      ]
     },
     "execution_count": 7,
     "metadata": {},
     "output_type": "execute_result"
    }
   ],
   "source": [
    "df[columns_to_fix].describe().loc[:,df[columns_to_fix].describe().iloc[2]==0]"
   ]
  },
  {
   "cell_type": "code",
   "execution_count": 8,
   "metadata": {},
   "outputs": [],
   "source": [
    "df = df.drop(columns=['acchgq','esoptq','xiq'])"
   ]
  },
  {
   "cell_type": "markdown",
   "metadata": {},
   "source": [
    "### Drop samples containing missing values in crucial financial variables"
   ]
  },
  {
   "cell_type": "code",
   "execution_count": 9,
   "metadata": {},
   "outputs": [],
   "source": [
    "df = df.dropna(subset=['atq','ltq','seqq','niq','revtq','chechy'])"
   ]
  },
  {
   "cell_type": "markdown",
   "metadata": {
    "tags": []
   },
   "source": [
    "### Save Data"
   ]
  },
  {
   "cell_type": "code",
   "execution_count": 10,
   "metadata": {},
   "outputs": [
    {
     "data": {
      "text/html": [
       "<div>\n",
       "<style scoped>\n",
       "    .dataframe tbody tr th:only-of-type {\n",
       "        vertical-align: middle;\n",
       "    }\n",
       "\n",
       "    .dataframe tbody tr th {\n",
       "        vertical-align: top;\n",
       "    }\n",
       "\n",
       "    .dataframe thead th {\n",
       "        text-align: right;\n",
       "    }\n",
       "</style>\n",
       "<table border=\"1\" class=\"dataframe\">\n",
       "  <thead>\n",
       "    <tr style=\"text-align: right;\">\n",
       "      <th></th>\n",
       "      <th>gvkey</th>\n",
       "      <th>datacqtr</th>\n",
       "      <th>cusip</th>\n",
       "      <th>tic</th>\n",
       "      <th>gsector</th>\n",
       "      <th>announcement_date</th>\n",
       "      <th>analyst_date</th>\n",
       "      <th>eps_actual</th>\n",
       "      <th>eps_predicted_mean</th>\n",
       "      <th>eps_predicted_median</th>\n",
       "      <th>...</th>\n",
       "      <th>txdbq</th>\n",
       "      <th>txpq</th>\n",
       "      <th>txtq</th>\n",
       "      <th>wcapq</th>\n",
       "      <th>xaccq</th>\n",
       "      <th>xintq</th>\n",
       "      <th>xoprq</th>\n",
       "      <th>xrdq</th>\n",
       "      <th>xsgaq</th>\n",
       "      <th>prccq</th>\n",
       "    </tr>\n",
       "  </thead>\n",
       "  <tbody>\n",
       "    <tr>\n",
       "      <th>0</th>\n",
       "      <td>1004</td>\n",
       "      <td>1985Q4</td>\n",
       "      <td>000361105</td>\n",
       "      <td>AIR</td>\n",
       "      <td>20</td>\n",
       "      <td>1985-12-19</td>\n",
       "      <td>1985-11-14</td>\n",
       "      <td>0.1732</td>\n",
       "      <td>0.13</td>\n",
       "      <td>0.13</td>\n",
       "      <td>...</td>\n",
       "      <td>NaN</td>\n",
       "      <td>NaN</td>\n",
       "      <td>2.33</td>\n",
       "      <td>57.965</td>\n",
       "      <td>NaN</td>\n",
       "      <td>0.723</td>\n",
       "      <td>54.194</td>\n",
       "      <td>NaN</td>\n",
       "      <td>8.243</td>\n",
       "      <td>24.000</td>\n",
       "    </tr>\n",
       "    <tr>\n",
       "      <th>1</th>\n",
       "      <td>1004</td>\n",
       "      <td>1986Q1</td>\n",
       "      <td>000361105</td>\n",
       "      <td>AIR</td>\n",
       "      <td>20</td>\n",
       "      <td>1986-03-21</td>\n",
       "      <td>1985-12-19</td>\n",
       "      <td>0.1419</td>\n",
       "      <td>0.13</td>\n",
       "      <td>0.13</td>\n",
       "      <td>...</td>\n",
       "      <td>NaN</td>\n",
       "      <td>NaN</td>\n",
       "      <td>2.35</td>\n",
       "      <td>59.787</td>\n",
       "      <td>NaN</td>\n",
       "      <td>0.751</td>\n",
       "      <td>57.559</td>\n",
       "      <td>NaN</td>\n",
       "      <td>8.746</td>\n",
       "      <td>20.375</td>\n",
       "    </tr>\n",
       "    <tr>\n",
       "      <th>2</th>\n",
       "      <td>1004</td>\n",
       "      <td>1986Q2</td>\n",
       "      <td>000361105</td>\n",
       "      <td>AIR</td>\n",
       "      <td>20</td>\n",
       "      <td>1986-07-08</td>\n",
       "      <td>1986-03-20</td>\n",
       "      <td>0.1599</td>\n",
       "      <td>0.15</td>\n",
       "      <td>0.15</td>\n",
       "      <td>...</td>\n",
       "      <td>NaN</td>\n",
       "      <td>1.054</td>\n",
       "      <td>2.46</td>\n",
       "      <td>70.657</td>\n",
       "      <td>NaN</td>\n",
       "      <td>0.799</td>\n",
       "      <td>61.242</td>\n",
       "      <td>NaN</td>\n",
       "      <td>10.526</td>\n",
       "      <td>23.625</td>\n",
       "    </tr>\n",
       "    <tr>\n",
       "      <th>3</th>\n",
       "      <td>1004</td>\n",
       "      <td>1986Q3</td>\n",
       "      <td>000361105</td>\n",
       "      <td>AIR</td>\n",
       "      <td>20</td>\n",
       "      <td>1986-09-24</td>\n",
       "      <td>1986-07-17</td>\n",
       "      <td>0.1466</td>\n",
       "      <td>0.16</td>\n",
       "      <td>0.16</td>\n",
       "      <td>...</td>\n",
       "      <td>NaN</td>\n",
       "      <td>NaN</td>\n",
       "      <td>2.53</td>\n",
       "      <td>88.918</td>\n",
       "      <td>NaN</td>\n",
       "      <td>1.100</td>\n",
       "      <td>58.741</td>\n",
       "      <td>NaN</td>\n",
       "      <td>8.962</td>\n",
       "      <td>23.500</td>\n",
       "    </tr>\n",
       "    <tr>\n",
       "      <th>4</th>\n",
       "      <td>1004</td>\n",
       "      <td>1986Q4</td>\n",
       "      <td>000361105</td>\n",
       "      <td>AIR</td>\n",
       "      <td>20</td>\n",
       "      <td>1986-12-16</td>\n",
       "      <td>1986-10-16</td>\n",
       "      <td>0.1665</td>\n",
       "      <td>0.18</td>\n",
       "      <td>0.18</td>\n",
       "      <td>...</td>\n",
       "      <td>NaN</td>\n",
       "      <td>NaN</td>\n",
       "      <td>3.36</td>\n",
       "      <td>91.195</td>\n",
       "      <td>NaN</td>\n",
       "      <td>0.700</td>\n",
       "      <td>66.944</td>\n",
       "      <td>NaN</td>\n",
       "      <td>9.385</td>\n",
       "      <td>23.500</td>\n",
       "    </tr>\n",
       "  </tbody>\n",
       "</table>\n",
       "<p>5 rows × 82 columns</p>\n",
       "</div>"
      ],
      "text/plain": [
       "   gvkey datacqtr      cusip  tic gsector announcement_date analyst_date  \\\n",
       "0   1004   1985Q4  000361105  AIR      20        1985-12-19   1985-11-14   \n",
       "1   1004   1986Q1  000361105  AIR      20        1986-03-21   1985-12-19   \n",
       "2   1004   1986Q2  000361105  AIR      20        1986-07-08   1986-03-20   \n",
       "3   1004   1986Q3  000361105  AIR      20        1986-09-24   1986-07-17   \n",
       "4   1004   1986Q4  000361105  AIR      20        1986-12-16   1986-10-16   \n",
       "\n",
       "   eps_actual  eps_predicted_mean  eps_predicted_median  ...  txdbq   txpq  \\\n",
       "0      0.1732                0.13                  0.13  ...    NaN    NaN   \n",
       "1      0.1419                0.13                  0.13  ...    NaN    NaN   \n",
       "2      0.1599                0.15                  0.15  ...    NaN  1.054   \n",
       "3      0.1466                0.16                  0.16  ...    NaN    NaN   \n",
       "4      0.1665                0.18                  0.18  ...    NaN    NaN   \n",
       "\n",
       "   txtq   wcapq  xaccq  xintq   xoprq  xrdq   xsgaq   prccq  \n",
       "0  2.33  57.965    NaN  0.723  54.194   NaN   8.243  24.000  \n",
       "1  2.35  59.787    NaN  0.751  57.559   NaN   8.746  20.375  \n",
       "2  2.46  70.657    NaN  0.799  61.242   NaN  10.526  23.625  \n",
       "3  2.53  88.918    NaN  1.100  58.741   NaN   8.962  23.500  \n",
       "4  3.36  91.195    NaN  0.700  66.944   NaN   9.385  23.500  \n",
       "\n",
       "[5 rows x 82 columns]"
      ]
     },
     "execution_count": 10,
     "metadata": {},
     "output_type": "execute_result"
    }
   ],
   "source": [
    "df.head()"
   ]
  },
  {
   "cell_type": "code",
   "execution_count": 12,
   "metadata": {},
   "outputs": [],
   "source": [
    "df.to_pickle('../data/preprocessed_data_2.pkl')"
   ]
  }
 ],
 "metadata": {
  "kernelspec": {
   "display_name": "base",
   "language": "python",
   "name": "python3"
  },
  "language_info": {
   "codemirror_mode": {
    "name": "ipython",
    "version": 3
   },
   "file_extension": ".py",
   "mimetype": "text/x-python",
   "name": "python",
   "nbconvert_exporter": "python",
   "pygments_lexer": "ipython3",
   "version": "3.11.4"
  }
 },
 "nbformat": 4,
 "nbformat_minor": 4
}
