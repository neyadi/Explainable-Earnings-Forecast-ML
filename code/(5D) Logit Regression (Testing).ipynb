{
 "cells": [
  {
   "cell_type": "code",
   "execution_count": 1,
   "id": "a6e3168c",
   "metadata": {},
   "outputs": [],
   "source": [
    "import pandas as pd\n",
    "import numpy as np\n",
    "from sklearn.metrics import accuracy_score, f1_score, roc_auc_score\n",
    "from sklearn.impute import SimpleImputer\n",
    "from sklearn.preprocessing import StandardScaler\n",
    "from sklearn.linear_model import LogisticRegression\n",
    "import pickle"
   ]
  },
  {
   "cell_type": "markdown",
   "id": "74391fa8",
   "metadata": {
    "tags": []
   },
   "source": [
    "### Read Data"
   ]
  },
  {
   "cell_type": "code",
   "execution_count": 2,
   "id": "a1c03577",
   "metadata": {},
   "outputs": [],
   "source": [
    "file = open('../data/subsets.pkl', 'rb')\n",
    "subsets = pickle.load(file)\n",
    "file.close()"
   ]
  },
  {
   "cell_type": "markdown",
   "id": "e52fea2a",
   "metadata": {},
   "source": [
    "### Train Logistic Regression"
   ]
  },
  {
   "cell_type": "code",
   "execution_count": 3,
   "id": "05c77020",
   "metadata": {},
   "outputs": [],
   "source": [
    "non_features = ['gvkey','datacqtr', 'cusip','tic', 'announcement_date','analyst_date',\n",
    "                'nq_eps_actual_direction','nq_eps_actual_change',\n",
    "                'nq_eps_predicted_mean_direction','nq_eps_predicted_mean_change',\n",
    "                'nq_eps_predicted_median_direction','nq_eps_predicted_median_change']"
   ]
  },
  {
   "cell_type": "code",
   "execution_count": 4,
   "id": "1fb53bd7",
   "metadata": {},
   "outputs": [],
   "source": [
    "predictions = {'datacqtr': [],'gvkey': [],'cusip':[],'tic':[], \n",
    "               'announcement_date':[], 'analyst_date':[],\n",
    "               'direction_pred':[],'value_pred':[],\n",
    "               'direction_actual': [],'value_actual': [], \n",
    "               'direction_analyst_mean': [],'value_analyst_mean': [],\n",
    "               'direction_analyst_median': [],'value_analyst_median': []}\n",
    "\n",
    "results = []"
   ]
  },
  {
   "cell_type": "code",
   "execution_count": 5,
   "id": "feb47fcc",
   "metadata": {},
   "outputs": [
    {
     "name": "stdout",
     "output_type": "stream",
     "text": [
      "1 {'year': '2013', 'accuracy': 0.6750590086546027, 'f1': 0.6749730738469741, 'auc': 0.7339150062223547}\n",
      "2 {'year': '2014', 'accuracy': 0.6993110236220472, 'f1': 0.6982232009605895, 'auc': 0.7630745453107222}\n",
      "3 {'year': '2015', 'accuracy': 0.7057594054807246, 'f1': 0.7056037893711011, 'auc': 0.7804733925676309}\n",
      "4 {'year': '2016', 'accuracy': 0.7037930278447709, 'f1': 0.7037848260359689, 'auc': 0.7663873953840297}\n",
      "5 {'year': '2017', 'accuracy': 0.6962103955270242, 'f1': 0.6944744508123069, 'auc': 0.7609348396956702}\n",
      "6 {'year': '2018', 'accuracy': 0.6889241133346542, 'f1': 0.6883479802651865, 'auc': 0.7599006006424418}\n",
      "7 {'year': '2019', 'accuracy': 0.6961494471978651, 'f1': 0.6961240068940525, 'auc': 0.7535334507758765}\n"
     ]
    }
   ],
   "source": [
    "for i, year in enumerate(sorted(subsets.keys())):\n",
    "\n",
    "    # split into training and testing\n",
    "    df_train = subsets[year]['train']\n",
    "    df_test = subsets[year]['test']\n",
    "\n",
    "    # create train and test features, and fill missing values\n",
    "    imputer = SimpleImputer(strategy='constant', fill_value=0)\n",
    "    train_features = imputer.fit_transform(df_train.drop(non_features, axis=1))\n",
    "    test_features = imputer.transform(df_test.drop(non_features, axis=1))\n",
    "\n",
    "    # Standardize the features\n",
    "    scaler = StandardScaler()\n",
    "    train_features = scaler.fit_transform(train_features)\n",
    "    test_features = scaler.transform(test_features)\n",
    "\n",
    "    # create train and test labels\n",
    "    train_labels = np.array(df_train['nq_eps_actual_direction'])\n",
    "    test_labels = np.array(df_test['nq_eps_actual_direction'])\n",
    "\n",
    "    # train logistic regression model\n",
    "    model = LogisticRegression(max_iter=1000) \n",
    "    model.fit(train_features, train_labels)\n",
    "\n",
    "    # make predictions\n",
    "    cb_predict_proba = model.predict_proba(test_features)[:, 1]\n",
    "    cb_predict = model.predict(test_features)\n",
    "\n",
    "    # results \n",
    "    results.append({'year': year, \n",
    "                    'accuracy': accuracy_score(test_labels, cb_predict), \n",
    "                    'f1': f1_score(test_labels, cb_predict, average='macro'), \n",
    "                    'auc': roc_auc_score(test_labels, cb_predict_proba)})\n",
    "    \n",
    "    predictions['direction_pred'] += list(cb_predict)\n",
    "    predictions['value_pred'] += list(cb_predict_proba)\n",
    "\n",
    "    predictions['direction_actual'] += list(test_labels)\n",
    "    predictions['value_actual'] += list(df_test['nq_eps_actual_change'])\n",
    "\n",
    "    predictions['direction_analyst_mean'] += list(df_test['nq_eps_predicted_mean_direction'])\n",
    "    predictions['value_analyst_mean'] += list(df_test['nq_eps_predicted_mean_change'])\n",
    "\n",
    "    predictions['direction_analyst_median'] += list(df_test['nq_eps_predicted_median_direction'])\n",
    "    predictions['value_analyst_median'] += list(df_test['nq_eps_predicted_median_change'])\n",
    "\n",
    "    predictions['datacqtr'] += list(df_test['datacqtr'])\n",
    "    predictions['gvkey'] += list(df_test['gvkey'])\n",
    "    predictions['cusip'] += list(df_test['cusip'])\n",
    "    predictions['tic'] += list(df_test['tic'])\n",
    "    predictions['announcement_date'] += list(df_test['announcement_date'])\n",
    "    predictions['analyst_date'] += list(df_test['analyst_date'])\n",
    "\n",
    "\n",
    "    print(i+1, results[-1])"
   ]
  },
  {
   "cell_type": "code",
   "execution_count": 6,
   "id": "2458bc92",
   "metadata": {},
   "outputs": [],
   "source": [
    "predictions_df = pd.DataFrame(predictions)\n",
    "predictions_df.to_pickle('../results/lr_predictions.pkl')"
   ]
  }
 ],
 "metadata": {
  "kernelspec": {
   "display_name": "base",
   "language": "python",
   "name": "python3"
  },
  "language_info": {
   "codemirror_mode": {
    "name": "ipython",
    "version": 3
   },
   "file_extension": ".py",
   "mimetype": "text/x-python",
   "name": "python",
   "nbconvert_exporter": "python",
   "pygments_lexer": "ipython3",
   "version": "3.11.4"
  }
 },
 "nbformat": 4,
 "nbformat_minor": 5
}
