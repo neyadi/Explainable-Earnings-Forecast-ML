{
 "cells": [
  {
   "cell_type": "code",
   "execution_count": 2,
   "id": "a6e3168c",
   "metadata": {},
   "outputs": [],
   "source": [
    "import pandas as pd\n",
    "import matplotlib.pyplot as plt"
   ]
  },
  {
   "cell_type": "markdown",
   "id": "74391fa8",
   "metadata": {
    "tags": []
   },
   "source": [
    "### Read Data"
   ]
  },
  {
   "cell_type": "code",
   "execution_count": 3,
   "id": "a1c03577",
   "metadata": {},
   "outputs": [],
   "source": [
    "df = pd.read_pickle('../data/preprocessed_data_4.pkl')"
   ]
  },
  {
   "cell_type": "code",
   "execution_count": 4,
   "id": "74395b17-ce18-4659-a1c9-628fba34f35b",
   "metadata": {},
   "outputs": [
    {
     "data": {
      "text/html": [
       "<div>\n",
       "<style scoped>\n",
       "    .dataframe tbody tr th:only-of-type {\n",
       "        vertical-align: middle;\n",
       "    }\n",
       "\n",
       "    .dataframe tbody tr th {\n",
       "        vertical-align: top;\n",
       "    }\n",
       "\n",
       "    .dataframe thead th {\n",
       "        text-align: right;\n",
       "    }\n",
       "</style>\n",
       "<table border=\"1\" class=\"dataframe\">\n",
       "  <thead>\n",
       "    <tr style=\"text-align: right;\">\n",
       "      <th></th>\n",
       "      <th>datacqtr</th>\n",
       "      <th>gvkey</th>\n",
       "      <th>nq_eps_actual_direction</th>\n",
       "      <th>nq_eps_actual_change</th>\n",
       "      <th>nq_eps_predicted_mean_direction</th>\n",
       "      <th>nq_eps_predicted_mean_change</th>\n",
       "      <th>nq_eps_predicted_median_direction</th>\n",
       "      <th>nq_eps_predicted_median_change</th>\n",
       "      <th>cusip</th>\n",
       "      <th>tic</th>\n",
       "      <th>...</th>\n",
       "      <th>txdbq_percChange_4Q</th>\n",
       "      <th>txpq_percChange_4Q</th>\n",
       "      <th>txtq_percChange_4Q</th>\n",
       "      <th>wcapq_percChange_4Q</th>\n",
       "      <th>xaccq_percChange_4Q</th>\n",
       "      <th>xintq_percChange_4Q</th>\n",
       "      <th>xoprq_percChange_4Q</th>\n",
       "      <th>xrdq_percChange_4Q</th>\n",
       "      <th>xsgaq_percChange_4Q</th>\n",
       "      <th>prccq_percChange_4Q</th>\n",
       "    </tr>\n",
       "  </thead>\n",
       "  <tbody>\n",
       "    <tr>\n",
       "      <th>0</th>\n",
       "      <td>1986Q2</td>\n",
       "      <td>1078</td>\n",
       "      <td>0.0</td>\n",
       "      <td>-0.070126</td>\n",
       "      <td>0.0</td>\n",
       "      <td>-0.018233</td>\n",
       "      <td>0.0</td>\n",
       "      <td>-0.018233</td>\n",
       "      <td>002824100</td>\n",
       "      <td>ABT</td>\n",
       "      <td>...</td>\n",
       "      <td>NaN</td>\n",
       "      <td>NaN</td>\n",
       "      <td>0.215460</td>\n",
       "      <td>0.003846</td>\n",
       "      <td>NaN</td>\n",
       "      <td>-0.228619</td>\n",
       "      <td>0.122464</td>\n",
       "      <td>NaN</td>\n",
       "      <td>0.151169</td>\n",
       "      <td>-0.063181</td>\n",
       "    </tr>\n",
       "    <tr>\n",
       "      <th>1</th>\n",
       "      <td>1986Q2</td>\n",
       "      <td>1209</td>\n",
       "      <td>0.0</td>\n",
       "      <td>-0.245902</td>\n",
       "      <td>1.0</td>\n",
       "      <td>0.049180</td>\n",
       "      <td>1.0</td>\n",
       "      <td>0.049180</td>\n",
       "      <td>009158106</td>\n",
       "      <td>APD</td>\n",
       "      <td>...</td>\n",
       "      <td>NaN</td>\n",
       "      <td>-0.163255</td>\n",
       "      <td>-1.223304</td>\n",
       "      <td>0.230693</td>\n",
       "      <td>NaN</td>\n",
       "      <td>0.386834</td>\n",
       "      <td>0.062878</td>\n",
       "      <td>NaN</td>\n",
       "      <td>-0.010275</td>\n",
       "      <td>-0.370787</td>\n",
       "    </tr>\n",
       "    <tr>\n",
       "      <th>2</th>\n",
       "      <td>1986Q2</td>\n",
       "      <td>1230</td>\n",
       "      <td>1.0</td>\n",
       "      <td>5.217391</td>\n",
       "      <td>1.0</td>\n",
       "      <td>2.652174</td>\n",
       "      <td>1.0</td>\n",
       "      <td>3.173913</td>\n",
       "      <td>011659109</td>\n",
       "      <td>ALK</td>\n",
       "      <td>...</td>\n",
       "      <td>NaN</td>\n",
       "      <td>0.329233</td>\n",
       "      <td>-0.633446</td>\n",
       "      <td>-0.188379</td>\n",
       "      <td>NaN</td>\n",
       "      <td>0.241703</td>\n",
       "      <td>0.015390</td>\n",
       "      <td>NaN</td>\n",
       "      <td>NaN</td>\n",
       "      <td>-0.295699</td>\n",
       "    </tr>\n",
       "    <tr>\n",
       "      <th>3</th>\n",
       "      <td>1986Q2</td>\n",
       "      <td>1618</td>\n",
       "      <td>0.0</td>\n",
       "      <td>-0.550000</td>\n",
       "      <td>1.0</td>\n",
       "      <td>0.500000</td>\n",
       "      <td>1.0</td>\n",
       "      <td>0.500000</td>\n",
       "      <td>032159105</td>\n",
       "      <td>AXR</td>\n",
       "      <td>...</td>\n",
       "      <td>NaN</td>\n",
       "      <td>NaN</td>\n",
       "      <td>-0.058403</td>\n",
       "      <td>NaN</td>\n",
       "      <td>NaN</td>\n",
       "      <td>0.320497</td>\n",
       "      <td>0.008626</td>\n",
       "      <td>NaN</td>\n",
       "      <td>0.096117</td>\n",
       "      <td>0.193182</td>\n",
       "    </tr>\n",
       "    <tr>\n",
       "      <th>4</th>\n",
       "      <td>1986Q2</td>\n",
       "      <td>1632</td>\n",
       "      <td>0.0</td>\n",
       "      <td>-0.214592</td>\n",
       "      <td>1.0</td>\n",
       "      <td>0.287554</td>\n",
       "      <td>1.0</td>\n",
       "      <td>0.287554</td>\n",
       "      <td>032654105</td>\n",
       "      <td>ADI</td>\n",
       "      <td>...</td>\n",
       "      <td>NaN</td>\n",
       "      <td>0.123781</td>\n",
       "      <td>1.093974</td>\n",
       "      <td>0.061268</td>\n",
       "      <td>NaN</td>\n",
       "      <td>-0.014607</td>\n",
       "      <td>0.067954</td>\n",
       "      <td>NaN</td>\n",
       "      <td>0.168251</td>\n",
       "      <td>-0.222222</td>\n",
       "    </tr>\n",
       "  </tbody>\n",
       "</table>\n",
       "<p>5 rows × 662 columns</p>\n",
       "</div>"
      ],
      "text/plain": [
       "  datacqtr  gvkey  nq_eps_actual_direction  nq_eps_actual_change  \\\n",
       "0   1986Q2   1078                      0.0             -0.070126   \n",
       "1   1986Q2   1209                      0.0             -0.245902   \n",
       "2   1986Q2   1230                      1.0              5.217391   \n",
       "3   1986Q2   1618                      0.0             -0.550000   \n",
       "4   1986Q2   1632                      0.0             -0.214592   \n",
       "\n",
       "   nq_eps_predicted_mean_direction  nq_eps_predicted_mean_change  \\\n",
       "0                              0.0                     -0.018233   \n",
       "1                              1.0                      0.049180   \n",
       "2                              1.0                      2.652174   \n",
       "3                              1.0                      0.500000   \n",
       "4                              1.0                      0.287554   \n",
       "\n",
       "   nq_eps_predicted_median_direction  nq_eps_predicted_median_change  \\\n",
       "0                                0.0                       -0.018233   \n",
       "1                                1.0                        0.049180   \n",
       "2                                1.0                        3.173913   \n",
       "3                                1.0                        0.500000   \n",
       "4                                1.0                        0.287554   \n",
       "\n",
       "       cusip  tic  ... txdbq_percChange_4Q txpq_percChange_4Q  \\\n",
       "0  002824100  ABT  ...                 NaN                NaN   \n",
       "1  009158106  APD  ...                 NaN          -0.163255   \n",
       "2  011659109  ALK  ...                 NaN           0.329233   \n",
       "3  032159105  AXR  ...                 NaN                NaN   \n",
       "4  032654105  ADI  ...                 NaN           0.123781   \n",
       "\n",
       "  txtq_percChange_4Q  wcapq_percChange_4Q  xaccq_percChange_4Q  \\\n",
       "0           0.215460             0.003846                  NaN   \n",
       "1          -1.223304             0.230693                  NaN   \n",
       "2          -0.633446            -0.188379                  NaN   \n",
       "3          -0.058403                  NaN                  NaN   \n",
       "4           1.093974             0.061268                  NaN   \n",
       "\n",
       "   xintq_percChange_4Q  xoprq_percChange_4Q  xrdq_percChange_4Q  \\\n",
       "0            -0.228619             0.122464                 NaN   \n",
       "1             0.386834             0.062878                 NaN   \n",
       "2             0.241703             0.015390                 NaN   \n",
       "3             0.320497             0.008626                 NaN   \n",
       "4            -0.014607             0.067954                 NaN   \n",
       "\n",
       "   xsgaq_percChange_4Q  prccq_percChange_4Q  \n",
       "0             0.151169            -0.063181  \n",
       "1            -0.010275            -0.370787  \n",
       "2                  NaN            -0.295699  \n",
       "3             0.096117             0.193182  \n",
       "4             0.168251            -0.222222  \n",
       "\n",
       "[5 rows x 662 columns]"
      ]
     },
     "execution_count": 4,
     "metadata": {},
     "output_type": "execute_result"
    }
   ],
   "source": [
    "df.head()"
   ]
  },
  {
   "cell_type": "markdown",
   "id": "89dd8e56-097e-4c2a-9d1c-306a246a18ad",
   "metadata": {
    "tags": []
   },
   "source": [
    "### Change in Earnings"
   ]
  },
  {
   "cell_type": "code",
   "execution_count": 5,
   "id": "d94d3062",
   "metadata": {},
   "outputs": [
    {
     "data": {
      "text/plain": [
       "1.0    0.528185\n",
       "0.0    0.471815\n",
       "Name: nq_eps_actual_direction, dtype: float64"
      ]
     },
     "execution_count": 5,
     "metadata": {},
     "output_type": "execute_result"
    }
   ],
   "source": [
    "df['nq_eps_actual_direction'].value_counts()/len(df)"
   ]
  },
  {
   "cell_type": "code",
   "execution_count": 6,
   "id": "622ce8c2",
   "metadata": {},
   "outputs": [
    {
     "data": {
      "image/png": "[encoded data removed]",
      "text/plain": [
       "<Figure size 1000x600 with 1 Axes>"
      ]
     },
     "metadata": {},
     "output_type": "display_data"
    }
   ],
   "source": [
    "plt.figure(figsize=(10, 6))\n",
    "series1 = df[(df['nq_eps_actual_change']>-1)&(df['nq_eps_actual_change']<1)]['nq_eps_actual_change']\n",
    "series1.plot(kind='density', #bw_method=0.5\n",
    "             )\n",
    "plt.xlabel('Quarterly Percentage Change in $\\it{eps}$')\n",
    "plt.ylabel('Density')\n",
    "plt.xlim(-1, 1)\n",
    "plt.axvline(x=0, color='red', linestyle='--')\n",
    "plt.grid(False)\n",
    "plt.savefig('../figures/eps_perc_change.png', dpi=300, bbox_inches='tight',format='png')\n",
    "plt.show()"
   ]
  }
 ],
 "metadata": {
  "kernelspec": {
   "display_name": "base",
   "language": "python",
   "name": "python3"
  },
  "language_info": {
   "codemirror_mode": {
    "name": "ipython",
    "version": 3
   },
   "file_extension": ".py",
   "mimetype": "text/x-python",
   "name": "python",
   "nbconvert_exporter": "python",
   "pygments_lexer": "ipython3",
   "version": "3.11.4"
  }
 },
 "nbformat": 4,
 "nbformat_minor": 5
}
