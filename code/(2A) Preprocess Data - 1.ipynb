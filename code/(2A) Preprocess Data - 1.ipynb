{
 "cells": [
  {
   "cell_type": "code",
   "execution_count": 1,
   "metadata": {},
   "outputs": [],
   "source": [
    "import pandas as pd"
   ]
  },
  {
   "cell_type": "markdown",
   "metadata": {},
   "source": [
    "### Read Data"
   ]
  },
  {
   "cell_type": "code",
   "execution_count": 2,
   "metadata": {},
   "outputs": [],
   "source": [
    "df = pd.read_pickle('../data/merged_data.pkl')"
   ]
  },
  {
   "cell_type": "code",
   "execution_count": 3,
   "metadata": {},
   "outputs": [
    {
     "name": "stdout",
     "output_type": "stream",
     "text": [
      "Number of Companies: 3165\n",
      "Number of Rows: 141178\n",
      "Number of Columns: 85\n"
     ]
    }
   ],
   "source": [
    "print(f'Number of Companies: {df[\"gvkey\"].nunique()}')\n",
    "print(f'Number of Rows: {len(df)}')\n",
    "print(f'Number of Columns: {len(df.columns)}')"
   ]
  },
  {
   "cell_type": "markdown",
   "metadata": {
    "tags": []
   },
   "source": [
    "### Sort columns"
   ]
  },
  {
   "cell_type": "code",
   "execution_count": 4,
   "metadata": {},
   "outputs": [],
   "source": [
    "general_variables = ['gvkey','datacqtr','cusip','tic', 'gsector','announcement_date', 'analyst_date', 'eps_actual', 'eps_predicted_mean', 'eps_predicted_median']\n",
    "\n",
    "df = df[general_variables + [x for x in df.columns if x not in general_variables]]"
   ]
  },
  {
   "cell_type": "markdown",
   "metadata": {},
   "source": [
    "### Check column types"
   ]
  },
  {
   "cell_type": "code",
   "execution_count": 5,
   "metadata": {},
   "outputs": [
    {
     "data": {
      "text/plain": [
       "gvkey                     int64\n",
       "datacqtr                 object\n",
       "cusip                    object\n",
       "tic                      object\n",
       "gsector                  object\n",
       "announcement_date        object\n",
       "analyst_date             object\n",
       "eps_actual              float64\n",
       "eps_predicted_mean      float64\n",
       "eps_predicted_median    float64\n",
       "mkvaltq                 float64\n",
       "acchgq                  float64\n",
       "acomincq                float64\n",
       "acoq                    float64\n",
       "actq                    float64\n",
       "ancq                    float64\n",
       "aocipenq                float64\n",
       "aoq                     float64\n",
       "apq                     float64\n",
       "atq                     float64\n",
       "capxy                   float64\n",
       "chechy                  float64\n",
       "cheq                    float64\n",
       "ciotherq                float64\n",
       "cogsq                   float64\n",
       "cshopq                  float64\n",
       "dcomq                   float64\n",
       "diladq                  float64\n",
       "dlcq                    float64\n",
       "dlttq                   float64\n",
       "doq                     float64\n",
       "dpactq                  float64\n",
       "dpq                     float64\n",
       "drcq                    float64\n",
       "drltq                   float64\n",
       "dvpq                    float64\n",
       "dvy                     float64\n",
       "esopctq                 float64\n",
       "esoptq                  float64\n",
       "fincfy                  float64\n",
       "gdwlq                   float64\n",
       "intanq                  float64\n",
       "invchy                  float64\n",
       "invtq                   float64\n",
       "ivchy                   float64\n",
       "ivltq                   float64\n",
       "ivncfy                  float64\n",
       "lcoq                    float64\n",
       "lctq                    float64\n",
       "lltq                    float64\n",
       "loq                     float64\n",
       "ltq                     float64\n",
       "mibq                    float64\n",
       "mibtq                   float64\n",
       "miiq                    float64\n",
       "niq                     float64\n",
       "nopiq                   float64\n",
       "oancfy                  float64\n",
       "oibdpq                  float64\n",
       "ppentq                  float64\n",
       "pstkq                   float64\n",
       "rcpq                    float64\n",
       "rdipq                   float64\n",
       "recchy                  float64\n",
       "recdq                   float64\n",
       "rectq                   float64\n",
       "req                     float64\n",
       "revtq                   float64\n",
       "seqq                    float64\n",
       "sivy                    float64\n",
       "spiq                    float64\n",
       "sppivy                  float64\n",
       "stkcoq                  float64\n",
       "tstkq                   float64\n",
       "txdbq                   float64\n",
       "txpq                    float64\n",
       "txtq                    float64\n",
       "wcapq                   float64\n",
       "xaccq                   float64\n",
       "xintq                   float64\n",
       "xiq                     float64\n",
       "xoprq                   float64\n",
       "xrdq                    float64\n",
       "xsgaq                   float64\n",
       "prccq                   float64\n",
       "dtype: object"
      ]
     },
     "metadata": {},
     "output_type": "display_data"
    }
   ],
   "source": [
    "with pd.option_context('display.max_rows', None):\n",
    "    display(df.dtypes)"
   ]
  },
  {
   "cell_type": "markdown",
   "metadata": {},
   "source": [
    "### Check missing values"
   ]
  },
  {
   "cell_type": "code",
   "execution_count": 6,
   "metadata": {},
   "outputs": [
    {
     "data": {
      "text/html": [
       "<div>\n",
       "<style scoped>\n",
       "    .dataframe tbody tr th:only-of-type {\n",
       "        vertical-align: middle;\n",
       "    }\n",
       "\n",
       "    .dataframe tbody tr th {\n",
       "        vertical-align: top;\n",
       "    }\n",
       "\n",
       "    .dataframe thead th {\n",
       "        text-align: right;\n",
       "    }\n",
       "</style>\n",
       "<table border=\"1\" class=\"dataframe\">\n",
       "  <thead>\n",
       "    <tr style=\"text-align: right;\">\n",
       "      <th></th>\n",
       "      <th>perc</th>\n",
       "    </tr>\n",
       "  </thead>\n",
       "  <tbody>\n",
       "    <tr>\n",
       "      <th>gvkey</th>\n",
       "      <td>0.000000</td>\n",
       "    </tr>\n",
       "    <tr>\n",
       "      <th>datacqtr</th>\n",
       "      <td>0.000000</td>\n",
       "    </tr>\n",
       "    <tr>\n",
       "      <th>cusip</th>\n",
       "      <td>0.000000</td>\n",
       "    </tr>\n",
       "    <tr>\n",
       "      <th>tic</th>\n",
       "      <td>0.000000</td>\n",
       "    </tr>\n",
       "    <tr>\n",
       "      <th>announcement_date</th>\n",
       "      <td>0.000000</td>\n",
       "    </tr>\n",
       "    <tr>\n",
       "      <th>analyst_date</th>\n",
       "      <td>0.000000</td>\n",
       "    </tr>\n",
       "    <tr>\n",
       "      <th>eps_actual</th>\n",
       "      <td>0.000000</td>\n",
       "    </tr>\n",
       "    <tr>\n",
       "      <th>eps_predicted_mean</th>\n",
       "      <td>0.000000</td>\n",
       "    </tr>\n",
       "    <tr>\n",
       "      <th>eps_predicted_median</th>\n",
       "      <td>0.000000</td>\n",
       "    </tr>\n",
       "    <tr>\n",
       "      <th>gsector</th>\n",
       "      <td>0.007792</td>\n",
       "    </tr>\n",
       "  </tbody>\n",
       "</table>\n",
       "</div>"
      ],
      "text/plain": [
       "                          perc\n",
       "gvkey                 0.000000\n",
       "datacqtr              0.000000\n",
       "cusip                 0.000000\n",
       "tic                   0.000000\n",
       "announcement_date     0.000000\n",
       "analyst_date          0.000000\n",
       "eps_actual            0.000000\n",
       "eps_predicted_mean    0.000000\n",
       "eps_predicted_median  0.000000\n",
       "gsector               0.007792"
      ]
     },
     "execution_count": 6,
     "metadata": {},
     "output_type": "execute_result"
    }
   ],
   "source": [
    "# percent of missing values by columns\n",
    "missing_df = pd.DataFrame((df.isna().sum()/len(df)*100).sort_values()).rename(columns={0:'perc'})\n",
    "missing_df.head(10)"
   ]
  },
  {
   "cell_type": "code",
   "execution_count": 7,
   "metadata": {},
   "outputs": [
    {
     "data": {
      "text/html": [
       "<div>\n",
       "<style scoped>\n",
       "    .dataframe tbody tr th:only-of-type {\n",
       "        vertical-align: middle;\n",
       "    }\n",
       "\n",
       "    .dataframe tbody tr th {\n",
       "        vertical-align: top;\n",
       "    }\n",
       "\n",
       "    .dataframe thead th {\n",
       "        text-align: right;\n",
       "    }\n",
       "</style>\n",
       "<table border=\"1\" class=\"dataframe\">\n",
       "  <thead>\n",
       "    <tr style=\"text-align: right;\">\n",
       "      <th></th>\n",
       "      <th>perc</th>\n",
       "    </tr>\n",
       "  </thead>\n",
       "  <tbody>\n",
       "    <tr>\n",
       "      <th>drltq</th>\n",
       "      <td>38.198586</td>\n",
       "    </tr>\n",
       "    <tr>\n",
       "      <th>dpactq</th>\n",
       "      <td>39.212909</td>\n",
       "    </tr>\n",
       "    <tr>\n",
       "      <th>ivltq</th>\n",
       "      <td>41.241553</td>\n",
       "    </tr>\n",
       "    <tr>\n",
       "      <th>drcq</th>\n",
       "      <td>44.151355</td>\n",
       "    </tr>\n",
       "    <tr>\n",
       "      <th>cshopq</th>\n",
       "      <td>51.904688</td>\n",
       "    </tr>\n",
       "    <tr>\n",
       "      <th>txdbq</th>\n",
       "      <td>56.921050</td>\n",
       "    </tr>\n",
       "    <tr>\n",
       "      <th>xrdq</th>\n",
       "      <td>57.722875</td>\n",
       "    </tr>\n",
       "    <tr>\n",
       "      <th>recdq</th>\n",
       "      <td>65.044837</td>\n",
       "    </tr>\n",
       "    <tr>\n",
       "      <th>xaccq</th>\n",
       "      <td>72.810211</td>\n",
       "    </tr>\n",
       "    <tr>\n",
       "      <th>rcpq</th>\n",
       "      <td>80.007508</td>\n",
       "    </tr>\n",
       "  </tbody>\n",
       "</table>\n",
       "</div>"
      ],
      "text/plain": [
       "             perc\n",
       "drltq   38.198586\n",
       "dpactq  39.212909\n",
       "ivltq   41.241553\n",
       "drcq    44.151355\n",
       "cshopq  51.904688\n",
       "txdbq   56.921050\n",
       "xrdq    57.722875\n",
       "recdq   65.044837\n",
       "xaccq   72.810211\n",
       "rcpq    80.007508"
      ]
     },
     "execution_count": 7,
     "metadata": {},
     "output_type": "execute_result"
    }
   ],
   "source": [
    "missing_df.tail(10)"
   ]
  },
  {
   "cell_type": "markdown",
   "metadata": {},
   "source": [
    "### Remove companies from utility and finance sectors"
   ]
  },
  {
   "cell_type": "code",
   "execution_count": 8,
   "metadata": {},
   "outputs": [],
   "source": [
    "df = df[~(df['gsector'].isin(['40','55']))].reset_index(drop=True)"
   ]
  },
  {
   "cell_type": "code",
   "execution_count": 9,
   "metadata": {},
   "outputs": [
    {
     "name": "stdout",
     "output_type": "stream",
     "text": [
      "Number of Companies: 2551\n",
      "Number of Rows: 111678\n"
     ]
    }
   ],
   "source": [
    "print(f'Number of Companies: {df[\"gvkey\"].nunique()}')\n",
    "print(f'Number of Rows: {len(df)}')"
   ]
  },
  {
   "cell_type": "markdown",
   "metadata": {},
   "source": [
    "### Require non-missing total assets"
   ]
  },
  {
   "cell_type": "code",
   "execution_count": 10,
   "metadata": {},
   "outputs": [
    {
     "data": {
      "text/plain": [
       "150"
      ]
     },
     "execution_count": 10,
     "metadata": {},
     "output_type": "execute_result"
    }
   ],
   "source": [
    "df['atq'].isna().sum()"
   ]
  },
  {
   "cell_type": "code",
   "execution_count": 11,
   "metadata": {},
   "outputs": [],
   "source": [
    "df = df[(df['atq'].isna()==False)]"
   ]
  },
  {
   "cell_type": "code",
   "execution_count": 12,
   "metadata": {},
   "outputs": [
    {
     "name": "stdout",
     "output_type": "stream",
     "text": [
      "Number of Companies: 2545\n",
      "Number of Rows: 111528\n"
     ]
    }
   ],
   "source": [
    "print(f'Number of Companies: {df[\"gvkey\"].nunique()}')\n",
    "print(f'Number of Rows: {len(df)}')"
   ]
  },
  {
   "cell_type": "markdown",
   "metadata": {
    "tags": []
   },
   "source": [
    "### Save Data"
   ]
  },
  {
   "cell_type": "code",
   "execution_count": 13,
   "metadata": {},
   "outputs": [],
   "source": [
    "df.to_pickle('../data/preprocessed_data_1.pkl')"
   ]
  }
 ],
 "metadata": {
  "kernelspec": {
   "display_name": "base",
   "language": "python",
   "name": "python3"
  },
  "language_info": {
   "codemirror_mode": {
    "name": "ipython",
    "version": 3
   },
   "file_extension": ".py",
   "mimetype": "text/x-python",
   "name": "python",
   "nbconvert_exporter": "python",
   "pygments_lexer": "ipython3",
   "version": "3.11.4"
  }
 },
 "nbformat": 4,
 "nbformat_minor": 4
}
