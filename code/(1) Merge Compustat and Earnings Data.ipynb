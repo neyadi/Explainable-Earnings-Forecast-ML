{
 "cells": [
  {
   "cell_type": "code",
   "execution_count": 1,
   "metadata": {},
   "outputs": [],
   "source": [
    "import pandas as pd"
   ]
  },
  {
   "cell_type": "markdown",
   "metadata": {
    "tags": []
   },
   "source": [
    "### Read Compustat Data"
   ]
  },
  {
   "cell_type": "code",
   "execution_count": 5,
   "metadata": {},
   "outputs": [],
   "source": [
    "compustat_df = pd.read_pickle('../get_data/compustat_data.pkl')\n",
    "compustat_variables = pd.read_csv('../get_data/compustat_variables.csv')"
   ]
  },
  {
   "cell_type": "code",
   "execution_count": 3,
   "metadata": {},
   "outputs": [],
   "source": [
    "compustat_variables = compustat_variables['Name']\n",
    "general_items = ['gvkey','datadate','datacqtr', 'cusip','tic', 'gsector'] + ['mkvaltq']"
   ]
  },
  {
   "cell_type": "code",
   "execution_count": 4,
   "metadata": {},
   "outputs": [
    {
     "data": {
      "text/html": [
       "<div>\n",
       "<style scoped>\n",
       "    .dataframe tbody tr th:only-of-type {\n",
       "        vertical-align: middle;\n",
       "    }\n",
       "\n",
       "    .dataframe tbody tr th {\n",
       "        vertical-align: top;\n",
       "    }\n",
       "\n",
       "    .dataframe thead th {\n",
       "        text-align: right;\n",
       "    }\n",
       "</style>\n",
       "<table border=\"1\" class=\"dataframe\">\n",
       "  <thead>\n",
       "    <tr style=\"text-align: right;\">\n",
       "      <th></th>\n",
       "      <th>gvkey</th>\n",
       "      <th>datadate</th>\n",
       "      <th>datacqtr</th>\n",
       "      <th>cusip</th>\n",
       "      <th>tic</th>\n",
       "      <th>gsector</th>\n",
       "      <th>mkvaltq</th>\n",
       "      <th>acchgq</th>\n",
       "      <th>acomincq</th>\n",
       "      <th>acoq</th>\n",
       "      <th>...</th>\n",
       "      <th>txpq</th>\n",
       "      <th>txtq</th>\n",
       "      <th>wcapq</th>\n",
       "      <th>xaccq</th>\n",
       "      <th>xintq</th>\n",
       "      <th>xiq</th>\n",
       "      <th>xoprq</th>\n",
       "      <th>xrdq</th>\n",
       "      <th>xsgaq</th>\n",
       "      <th>prccq</th>\n",
       "    </tr>\n",
       "  </thead>\n",
       "  <tbody>\n",
       "    <tr>\n",
       "      <th>0</th>\n",
       "      <td>1004</td>\n",
       "      <td>1985-08-31</td>\n",
       "      <td>1985Q3</td>\n",
       "      <td>000361105</td>\n",
       "      <td>AIR</td>\n",
       "      <td>20</td>\n",
       "      <td>NaN</td>\n",
       "      <td>NaN</td>\n",
       "      <td>NaN</td>\n",
       "      <td>6.138</td>\n",
       "      <td>...</td>\n",
       "      <td>NaN</td>\n",
       "      <td>1.96</td>\n",
       "      <td>58.163</td>\n",
       "      <td>NaN</td>\n",
       "      <td>0.735</td>\n",
       "      <td>0.0</td>\n",
       "      <td>47.735</td>\n",
       "      <td>NaN</td>\n",
       "      <td>7.475</td>\n",
       "      <td>22.625</td>\n",
       "    </tr>\n",
       "    <tr>\n",
       "      <th>1</th>\n",
       "      <td>1004</td>\n",
       "      <td>1985-11-30</td>\n",
       "      <td>1985Q4</td>\n",
       "      <td>000361105</td>\n",
       "      <td>AIR</td>\n",
       "      <td>20</td>\n",
       "      <td>NaN</td>\n",
       "      <td>NaN</td>\n",
       "      <td>NaN</td>\n",
       "      <td>6.665</td>\n",
       "      <td>...</td>\n",
       "      <td>NaN</td>\n",
       "      <td>2.33</td>\n",
       "      <td>57.965</td>\n",
       "      <td>NaN</td>\n",
       "      <td>0.723</td>\n",
       "      <td>0.0</td>\n",
       "      <td>54.194</td>\n",
       "      <td>NaN</td>\n",
       "      <td>8.243</td>\n",
       "      <td>24.000</td>\n",
       "    </tr>\n",
       "    <tr>\n",
       "      <th>2</th>\n",
       "      <td>1004</td>\n",
       "      <td>1986-02-28</td>\n",
       "      <td>1986Q1</td>\n",
       "      <td>000361105</td>\n",
       "      <td>AIR</td>\n",
       "      <td>20</td>\n",
       "      <td>NaN</td>\n",
       "      <td>NaN</td>\n",
       "      <td>NaN</td>\n",
       "      <td>7.025</td>\n",
       "      <td>...</td>\n",
       "      <td>NaN</td>\n",
       "      <td>2.35</td>\n",
       "      <td>59.787</td>\n",
       "      <td>NaN</td>\n",
       "      <td>0.751</td>\n",
       "      <td>0.0</td>\n",
       "      <td>57.559</td>\n",
       "      <td>NaN</td>\n",
       "      <td>8.746</td>\n",
       "      <td>20.375</td>\n",
       "    </tr>\n",
       "    <tr>\n",
       "      <th>3</th>\n",
       "      <td>1004</td>\n",
       "      <td>1986-05-31</td>\n",
       "      <td>1986Q2</td>\n",
       "      <td>000361105</td>\n",
       "      <td>AIR</td>\n",
       "      <td>20</td>\n",
       "      <td>NaN</td>\n",
       "      <td>NaN</td>\n",
       "      <td>NaN</td>\n",
       "      <td>6.162</td>\n",
       "      <td>...</td>\n",
       "      <td>1.054</td>\n",
       "      <td>2.46</td>\n",
       "      <td>70.657</td>\n",
       "      <td>NaN</td>\n",
       "      <td>0.799</td>\n",
       "      <td>0.0</td>\n",
       "      <td>61.242</td>\n",
       "      <td>NaN</td>\n",
       "      <td>10.526</td>\n",
       "      <td>23.625</td>\n",
       "    </tr>\n",
       "    <tr>\n",
       "      <th>4</th>\n",
       "      <td>1004</td>\n",
       "      <td>1986-08-31</td>\n",
       "      <td>1986Q3</td>\n",
       "      <td>000361105</td>\n",
       "      <td>AIR</td>\n",
       "      <td>20</td>\n",
       "      <td>NaN</td>\n",
       "      <td>NaN</td>\n",
       "      <td>NaN</td>\n",
       "      <td>8.478</td>\n",
       "      <td>...</td>\n",
       "      <td>NaN</td>\n",
       "      <td>2.53</td>\n",
       "      <td>88.918</td>\n",
       "      <td>NaN</td>\n",
       "      <td>1.100</td>\n",
       "      <td>0.0</td>\n",
       "      <td>58.741</td>\n",
       "      <td>NaN</td>\n",
       "      <td>8.962</td>\n",
       "      <td>23.500</td>\n",
       "    </tr>\n",
       "  </tbody>\n",
       "</table>\n",
       "<p>5 rows × 81 columns</p>\n",
       "</div>"
      ],
      "text/plain": [
       "   gvkey    datadate datacqtr      cusip  tic gsector  mkvaltq  acchgq  \\\n",
       "0   1004  1985-08-31   1985Q3  000361105  AIR      20      NaN     NaN   \n",
       "1   1004  1985-11-30   1985Q4  000361105  AIR      20      NaN     NaN   \n",
       "2   1004  1986-02-28   1986Q1  000361105  AIR      20      NaN     NaN   \n",
       "3   1004  1986-05-31   1986Q2  000361105  AIR      20      NaN     NaN   \n",
       "4   1004  1986-08-31   1986Q3  000361105  AIR      20      NaN     NaN   \n",
       "\n",
       "   acomincq   acoq  ...   txpq  txtq   wcapq  xaccq  xintq  xiq   xoprq  xrdq  \\\n",
       "0       NaN  6.138  ...    NaN  1.96  58.163    NaN  0.735  0.0  47.735   NaN   \n",
       "1       NaN  6.665  ...    NaN  2.33  57.965    NaN  0.723  0.0  54.194   NaN   \n",
       "2       NaN  7.025  ...    NaN  2.35  59.787    NaN  0.751  0.0  57.559   NaN   \n",
       "3       NaN  6.162  ...  1.054  2.46  70.657    NaN  0.799  0.0  61.242   NaN   \n",
       "4       NaN  8.478  ...    NaN  2.53  88.918    NaN  1.100  0.0  58.741   NaN   \n",
       "\n",
       "    xsgaq   prccq  \n",
       "0   7.475  22.625  \n",
       "1   8.243  24.000  \n",
       "2   8.746  20.375  \n",
       "3  10.526  23.625  \n",
       "4   8.962  23.500  \n",
       "\n",
       "[5 rows x 81 columns]"
      ]
     },
     "execution_count": 4,
     "metadata": {},
     "output_type": "execute_result"
    }
   ],
   "source": [
    "compustat_df = compustat_df[general_items + list(compustat_variables)]\n",
    "compustat_df.head()"
   ]
  },
  {
   "cell_type": "code",
   "execution_count": 5,
   "metadata": {},
   "outputs": [
    {
     "name": "stdout",
     "output_type": "stream",
     "text": [
      "Number of Companies: 5664\n",
      "Number of Rows: 359988\n",
      "Number of Columns: 81\n"
     ]
    }
   ],
   "source": [
    "print(f'Number of Companies: {compustat_df[\"gvkey\"].nunique()}')\n",
    "print(f'Number of Rows: {len(compustat_df)}')\n",
    "print(f'Number of Columns: {len(compustat_df.columns)}')"
   ]
  },
  {
   "cell_type": "markdown",
   "metadata": {},
   "source": [
    "### Read Earnings Data"
   ]
  },
  {
   "cell_type": "code",
   "execution_count": 6,
   "metadata": {},
   "outputs": [],
   "source": [
    "earnings_df = pd.read_csv('../get_data/earnings_data.csv')\n",
    "earnings_df = earnings_df[earnings_df['FPI']==6].reset_index(drop=True)"
   ]
  },
  {
   "cell_type": "code",
   "execution_count": 7,
   "metadata": {},
   "outputs": [],
   "source": [
    "earnings_df = earnings_df.sort_values(by='STATPERS', ascending=True)\n",
    "earnings_df = earnings_df.groupby(['cusip','FPEDATS']).head(1)\n",
    "earnings_df = earnings_df.sort_values(by=['cusip','FPEDATS']).reset_index(drop=True)"
   ]
  },
  {
   "cell_type": "code",
   "execution_count": 8,
   "metadata": {},
   "outputs": [],
   "source": [
    "earnings_df = earnings_df[['cusip','FPEDATS','STATPERS', 'ACTUAL','MEANEST','MEDEST','ANNDATS_ACT']]"
   ]
  },
  {
   "cell_type": "code",
   "execution_count": 9,
   "metadata": {},
   "outputs": [
    {
     "data": {
      "text/html": [
       "<div>\n",
       "<style scoped>\n",
       "    .dataframe tbody tr th:only-of-type {\n",
       "        vertical-align: middle;\n",
       "    }\n",
       "\n",
       "    .dataframe tbody tr th {\n",
       "        vertical-align: top;\n",
       "    }\n",
       "\n",
       "    .dataframe thead th {\n",
       "        text-align: right;\n",
       "    }\n",
       "</style>\n",
       "<table border=\"1\" class=\"dataframe\">\n",
       "  <thead>\n",
       "    <tr style=\"text-align: right;\">\n",
       "      <th></th>\n",
       "      <th>cusip</th>\n",
       "      <th>FPEDATS</th>\n",
       "      <th>STATPERS</th>\n",
       "      <th>ACTUAL</th>\n",
       "      <th>MEANEST</th>\n",
       "      <th>MEDEST</th>\n",
       "      <th>ANNDATS_ACT</th>\n",
       "    </tr>\n",
       "  </thead>\n",
       "  <tbody>\n",
       "    <tr>\n",
       "      <th>0</th>\n",
       "      <td>00032Q10</td>\n",
       "      <td>2021-09-30</td>\n",
       "      <td>2021-09-16</td>\n",
       "      <td>-1.36</td>\n",
       "      <td>-6.00</td>\n",
       "      <td>-6.00</td>\n",
       "      <td>2021-11-10</td>\n",
       "    </tr>\n",
       "    <tr>\n",
       "      <th>1</th>\n",
       "      <td>00032Q10</td>\n",
       "      <td>2021-12-31</td>\n",
       "      <td>2021-11-18</td>\n",
       "      <td>-0.77</td>\n",
       "      <td>-0.95</td>\n",
       "      <td>-0.88</td>\n",
       "      <td>2022-03-17</td>\n",
       "    </tr>\n",
       "    <tr>\n",
       "      <th>2</th>\n",
       "      <td>00032Q10</td>\n",
       "      <td>2022-03-31</td>\n",
       "      <td>2022-03-17</td>\n",
       "      <td>-0.66</td>\n",
       "      <td>-0.81</td>\n",
       "      <td>-0.78</td>\n",
       "      <td>2022-05-12</td>\n",
       "    </tr>\n",
       "    <tr>\n",
       "      <th>3</th>\n",
       "      <td>00032Q10</td>\n",
       "      <td>2022-06-30</td>\n",
       "      <td>2022-05-19</td>\n",
       "      <td>-0.87</td>\n",
       "      <td>-0.75</td>\n",
       "      <td>-0.73</td>\n",
       "      <td>2022-08-10</td>\n",
       "    </tr>\n",
       "    <tr>\n",
       "      <th>4</th>\n",
       "      <td>00032Q10</td>\n",
       "      <td>2022-09-30</td>\n",
       "      <td>2022-08-18</td>\n",
       "      <td>-0.68</td>\n",
       "      <td>-0.74</td>\n",
       "      <td>-0.75</td>\n",
       "      <td>2022-11-09</td>\n",
       "    </tr>\n",
       "  </tbody>\n",
       "</table>\n",
       "</div>"
      ],
      "text/plain": [
       "      cusip     FPEDATS    STATPERS  ACTUAL  MEANEST  MEDEST ANNDATS_ACT\n",
       "0  00032Q10  2021-09-30  2021-09-16   -1.36    -6.00   -6.00  2021-11-10\n",
       "1  00032Q10  2021-12-31  2021-11-18   -0.77    -0.95   -0.88  2022-03-17\n",
       "2  00032Q10  2022-03-31  2022-03-17   -0.66    -0.81   -0.78  2022-05-12\n",
       "3  00032Q10  2022-06-30  2022-05-19   -0.87    -0.75   -0.73  2022-08-10\n",
       "4  00032Q10  2022-09-30  2022-08-18   -0.68    -0.74   -0.75  2022-11-09"
      ]
     },
     "execution_count": 9,
     "metadata": {},
     "output_type": "execute_result"
    }
   ],
   "source": [
    "earnings_df.head()"
   ]
  },
  {
   "cell_type": "code",
   "execution_count": 10,
   "metadata": {},
   "outputs": [],
   "source": [
    "earnings_df = earnings_df.dropna()"
   ]
  },
  {
   "cell_type": "code",
   "execution_count": 11,
   "metadata": {},
   "outputs": [
    {
     "data": {
      "text/plain": [
       "(185626, 7)"
      ]
     },
     "execution_count": 11,
     "metadata": {},
     "output_type": "execute_result"
    }
   ],
   "source": [
    "earnings_df.shape"
   ]
  },
  {
   "cell_type": "markdown",
   "metadata": {},
   "source": [
    "### Merge Compustat and Earnings Data"
   ]
  },
  {
   "cell_type": "code",
   "execution_count": 12,
   "metadata": {},
   "outputs": [],
   "source": [
    "compustat_df['cusip_eight'] = compustat_df['cusip'].str[:-1]"
   ]
  },
  {
   "cell_type": "code",
   "execution_count": 13,
   "metadata": {},
   "outputs": [
    {
     "data": {
      "text/plain": [
       "(4429, 5664)"
      ]
     },
     "execution_count": 13,
     "metadata": {},
     "output_type": "execute_result"
    }
   ],
   "source": [
    "earnings_df['cusip'].nunique(), compustat_df['cusip_eight'].nunique()"
   ]
  },
  {
   "cell_type": "code",
   "execution_count": 14,
   "metadata": {},
   "outputs": [],
   "source": [
    "merged_df = pd.merge(compustat_df, earnings_df, how='left',left_on=['cusip_eight','datadate'], right_on=['cusip','FPEDATS'])"
   ]
  },
  {
   "cell_type": "code",
   "execution_count": 15,
   "metadata": {},
   "outputs": [],
   "source": [
    "merged_df = merged_df.drop(columns={'datadate','cusip_eight','cusip_y','FPEDATS'})\n",
    "merged_df = merged_df.dropna(subset=['ACTUAL','MEANEST','MEDEST'])\n",
    "merged_df = merged_df.reset_index(drop=True)"
   ]
  },
  {
   "cell_type": "code",
   "execution_count": 16,
   "metadata": {},
   "outputs": [],
   "source": [
    "merged_df = merged_df.rename(columns={'ACTUAL':'eps_actual', \n",
    "                                    'MEANEST':'eps_predicted_mean', \n",
    "                                    'MEDEST':'eps_predicted_median',\n",
    "                                    'ANNDATS_ACT':'announcement_date',\n",
    "                                    'STATPERS':'analyst_date',\n",
    "                                    'cusip_x':'cusip'})"
   ]
  },
  {
   "cell_type": "code",
   "execution_count": 17,
   "metadata": {},
   "outputs": [
    {
     "data": {
      "text/html": [
       "<div>\n",
       "<style scoped>\n",
       "    .dataframe tbody tr th:only-of-type {\n",
       "        vertical-align: middle;\n",
       "    }\n",
       "\n",
       "    .dataframe tbody tr th {\n",
       "        vertical-align: top;\n",
       "    }\n",
       "\n",
       "    .dataframe thead th {\n",
       "        text-align: right;\n",
       "    }\n",
       "</style>\n",
       "<table border=\"1\" class=\"dataframe\">\n",
       "  <thead>\n",
       "    <tr style=\"text-align: right;\">\n",
       "      <th></th>\n",
       "      <th>gvkey</th>\n",
       "      <th>datacqtr</th>\n",
       "      <th>cusip</th>\n",
       "      <th>tic</th>\n",
       "      <th>gsector</th>\n",
       "      <th>mkvaltq</th>\n",
       "      <th>acchgq</th>\n",
       "      <th>acomincq</th>\n",
       "      <th>acoq</th>\n",
       "      <th>actq</th>\n",
       "      <th>...</th>\n",
       "      <th>xiq</th>\n",
       "      <th>xoprq</th>\n",
       "      <th>xrdq</th>\n",
       "      <th>xsgaq</th>\n",
       "      <th>prccq</th>\n",
       "      <th>analyst_date</th>\n",
       "      <th>eps_actual</th>\n",
       "      <th>eps_predicted_mean</th>\n",
       "      <th>eps_predicted_median</th>\n",
       "      <th>announcement_date</th>\n",
       "    </tr>\n",
       "  </thead>\n",
       "  <tbody>\n",
       "    <tr>\n",
       "      <th>0</th>\n",
       "      <td>1004</td>\n",
       "      <td>1985Q4</td>\n",
       "      <td>000361105</td>\n",
       "      <td>AIR</td>\n",
       "      <td>20</td>\n",
       "      <td>NaN</td>\n",
       "      <td>NaN</td>\n",
       "      <td>NaN</td>\n",
       "      <td>6.665</td>\n",
       "      <td>111.783</td>\n",
       "      <td>...</td>\n",
       "      <td>0.0</td>\n",
       "      <td>54.194</td>\n",
       "      <td>NaN</td>\n",
       "      <td>8.243</td>\n",
       "      <td>24.000</td>\n",
       "      <td>1985-11-14</td>\n",
       "      <td>0.1732</td>\n",
       "      <td>0.13</td>\n",
       "      <td>0.13</td>\n",
       "      <td>1985-12-19</td>\n",
       "    </tr>\n",
       "    <tr>\n",
       "      <th>1</th>\n",
       "      <td>1004</td>\n",
       "      <td>1986Q1</td>\n",
       "      <td>000361105</td>\n",
       "      <td>AIR</td>\n",
       "      <td>20</td>\n",
       "      <td>NaN</td>\n",
       "      <td>NaN</td>\n",
       "      <td>NaN</td>\n",
       "      <td>7.025</td>\n",
       "      <td>118.121</td>\n",
       "      <td>...</td>\n",
       "      <td>0.0</td>\n",
       "      <td>57.559</td>\n",
       "      <td>NaN</td>\n",
       "      <td>8.746</td>\n",
       "      <td>20.375</td>\n",
       "      <td>1985-12-19</td>\n",
       "      <td>0.1419</td>\n",
       "      <td>0.13</td>\n",
       "      <td>0.13</td>\n",
       "      <td>1986-03-21</td>\n",
       "    </tr>\n",
       "    <tr>\n",
       "      <th>2</th>\n",
       "      <td>1004</td>\n",
       "      <td>1986Q2</td>\n",
       "      <td>000361105</td>\n",
       "      <td>AIR</td>\n",
       "      <td>20</td>\n",
       "      <td>NaN</td>\n",
       "      <td>NaN</td>\n",
       "      <td>NaN</td>\n",
       "      <td>6.162</td>\n",
       "      <td>140.741</td>\n",
       "      <td>...</td>\n",
       "      <td>0.0</td>\n",
       "      <td>61.242</td>\n",
       "      <td>NaN</td>\n",
       "      <td>10.526</td>\n",
       "      <td>23.625</td>\n",
       "      <td>1986-03-20</td>\n",
       "      <td>0.1599</td>\n",
       "      <td>0.15</td>\n",
       "      <td>0.15</td>\n",
       "      <td>1986-07-08</td>\n",
       "    </tr>\n",
       "    <tr>\n",
       "      <th>3</th>\n",
       "      <td>1004</td>\n",
       "      <td>1986Q3</td>\n",
       "      <td>000361105</td>\n",
       "      <td>AIR</td>\n",
       "      <td>20</td>\n",
       "      <td>NaN</td>\n",
       "      <td>NaN</td>\n",
       "      <td>NaN</td>\n",
       "      <td>8.478</td>\n",
       "      <td>148.209</td>\n",
       "      <td>...</td>\n",
       "      <td>0.0</td>\n",
       "      <td>58.741</td>\n",
       "      <td>NaN</td>\n",
       "      <td>8.962</td>\n",
       "      <td>23.500</td>\n",
       "      <td>1986-07-17</td>\n",
       "      <td>0.1466</td>\n",
       "      <td>0.16</td>\n",
       "      <td>0.16</td>\n",
       "      <td>1986-09-24</td>\n",
       "    </tr>\n",
       "    <tr>\n",
       "      <th>4</th>\n",
       "      <td>1004</td>\n",
       "      <td>1986Q4</td>\n",
       "      <td>000361105</td>\n",
       "      <td>AIR</td>\n",
       "      <td>20</td>\n",
       "      <td>NaN</td>\n",
       "      <td>NaN</td>\n",
       "      <td>NaN</td>\n",
       "      <td>7.880</td>\n",
       "      <td>148.136</td>\n",
       "      <td>...</td>\n",
       "      <td>0.0</td>\n",
       "      <td>66.944</td>\n",
       "      <td>NaN</td>\n",
       "      <td>9.385</td>\n",
       "      <td>23.500</td>\n",
       "      <td>1986-10-16</td>\n",
       "      <td>0.1665</td>\n",
       "      <td>0.18</td>\n",
       "      <td>0.18</td>\n",
       "      <td>1986-12-16</td>\n",
       "    </tr>\n",
       "  </tbody>\n",
       "</table>\n",
       "<p>5 rows × 85 columns</p>\n",
       "</div>"
      ],
      "text/plain": [
       "   gvkey datacqtr      cusip  tic gsector  mkvaltq  acchgq  acomincq   acoq  \\\n",
       "0   1004   1985Q4  000361105  AIR      20      NaN     NaN       NaN  6.665   \n",
       "1   1004   1986Q1  000361105  AIR      20      NaN     NaN       NaN  7.025   \n",
       "2   1004   1986Q2  000361105  AIR      20      NaN     NaN       NaN  6.162   \n",
       "3   1004   1986Q3  000361105  AIR      20      NaN     NaN       NaN  8.478   \n",
       "4   1004   1986Q4  000361105  AIR      20      NaN     NaN       NaN  7.880   \n",
       "\n",
       "      actq  ...  xiq   xoprq  xrdq   xsgaq   prccq  analyst_date  eps_actual  \\\n",
       "0  111.783  ...  0.0  54.194   NaN   8.243  24.000    1985-11-14      0.1732   \n",
       "1  118.121  ...  0.0  57.559   NaN   8.746  20.375    1985-12-19      0.1419   \n",
       "2  140.741  ...  0.0  61.242   NaN  10.526  23.625    1986-03-20      0.1599   \n",
       "3  148.209  ...  0.0  58.741   NaN   8.962  23.500    1986-07-17      0.1466   \n",
       "4  148.136  ...  0.0  66.944   NaN   9.385  23.500    1986-10-16      0.1665   \n",
       "\n",
       "   eps_predicted_mean  eps_predicted_median  announcement_date  \n",
       "0                0.13                  0.13         1985-12-19  \n",
       "1                0.13                  0.13         1986-03-21  \n",
       "2                0.15                  0.15         1986-07-08  \n",
       "3                0.16                  0.16         1986-09-24  \n",
       "4                0.18                  0.18         1986-12-16  \n",
       "\n",
       "[5 rows x 85 columns]"
      ]
     },
     "execution_count": 17,
     "metadata": {},
     "output_type": "execute_result"
    }
   ],
   "source": [
    "merged_df.head()"
   ]
  },
  {
   "cell_type": "code",
   "execution_count": 18,
   "metadata": {},
   "outputs": [
    {
     "name": "stdout",
     "output_type": "stream",
     "text": [
      "Number of Companies: 3165\n",
      "Number of Rows: 141178\n",
      "Number of Columns: 85\n"
     ]
    }
   ],
   "source": [
    "print(f'Number of Companies: {merged_df[\"gvkey\"].nunique()}')\n",
    "print(f'Number of Rows: {len(merged_df)}')\n",
    "print(f'Number of Columns: {len(merged_df.columns)}')"
   ]
  },
  {
   "cell_type": "code",
   "execution_count": 19,
   "metadata": {},
   "outputs": [],
   "source": [
    "merged_df.to_pickle('../data/merged_data.pkl')"
   ]
  }
 ],
 "metadata": {
  "kernelspec": {
   "display_name": "base",
   "language": "python",
   "name": "python3"
  },
  "language_info": {
   "codemirror_mode": {
    "name": "ipython",
    "version": 3
   },
   "file_extension": ".py",
   "mimetype": "text/x-python",
   "name": "python",
   "nbconvert_exporter": "python",
   "pygments_lexer": "ipython3",
   "version": "3.11.4"
  }
 },
 "nbformat": 4,
 "nbformat_minor": 4
}
