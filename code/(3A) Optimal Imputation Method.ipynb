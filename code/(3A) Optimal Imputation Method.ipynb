{
 "cells": [
  {
   "cell_type": "code",
   "execution_count": 21,
   "metadata": {},
   "outputs": [],
   "source": [
    "import pandas as pd\n",
    "import numpy as np"
   ]
  },
  {
   "cell_type": "markdown",
   "metadata": {},
   "source": [
    "### Read Data"
   ]
  },
  {
   "cell_type": "code",
   "execution_count": 22,
   "metadata": {},
   "outputs": [],
   "source": [
    "df = pd.read_pickle('../data/preprocessed_data_2.pkl')"
   ]
  },
  {
   "cell_type": "code",
   "execution_count": 23,
   "metadata": {},
   "outputs": [
    {
     "data": {
      "text/html": [
       "<div>\n",
       "<style scoped>\n",
       "    .dataframe tbody tr th:only-of-type {\n",
       "        vertical-align: middle;\n",
       "    }\n",
       "\n",
       "    .dataframe tbody tr th {\n",
       "        vertical-align: top;\n",
       "    }\n",
       "\n",
       "    .dataframe thead th {\n",
       "        text-align: right;\n",
       "    }\n",
       "</style>\n",
       "<table border=\"1\" class=\"dataframe\">\n",
       "  <thead>\n",
       "    <tr style=\"text-align: right;\">\n",
       "      <th></th>\n",
       "      <th>gvkey</th>\n",
       "      <th>datacqtr</th>\n",
       "      <th>cusip</th>\n",
       "      <th>tic</th>\n",
       "      <th>gsector</th>\n",
       "      <th>announcement_date</th>\n",
       "      <th>analyst_date</th>\n",
       "      <th>eps_actual</th>\n",
       "      <th>eps_predicted_mean</th>\n",
       "      <th>eps_predicted_median</th>\n",
       "      <th>...</th>\n",
       "      <th>txdbq</th>\n",
       "      <th>txpq</th>\n",
       "      <th>txtq</th>\n",
       "      <th>wcapq</th>\n",
       "      <th>xaccq</th>\n",
       "      <th>xintq</th>\n",
       "      <th>xoprq</th>\n",
       "      <th>xrdq</th>\n",
       "      <th>xsgaq</th>\n",
       "      <th>prccq</th>\n",
       "    </tr>\n",
       "  </thead>\n",
       "  <tbody>\n",
       "    <tr>\n",
       "      <th>0</th>\n",
       "      <td>1004</td>\n",
       "      <td>1985Q4</td>\n",
       "      <td>000361105</td>\n",
       "      <td>AIR</td>\n",
       "      <td>20</td>\n",
       "      <td>1985-12-19</td>\n",
       "      <td>1985-11-14</td>\n",
       "      <td>0.1732</td>\n",
       "      <td>0.13</td>\n",
       "      <td>0.13</td>\n",
       "      <td>...</td>\n",
       "      <td>NaN</td>\n",
       "      <td>NaN</td>\n",
       "      <td>2.33</td>\n",
       "      <td>57.965</td>\n",
       "      <td>NaN</td>\n",
       "      <td>0.723</td>\n",
       "      <td>54.194</td>\n",
       "      <td>NaN</td>\n",
       "      <td>8.243</td>\n",
       "      <td>24.000</td>\n",
       "    </tr>\n",
       "    <tr>\n",
       "      <th>1</th>\n",
       "      <td>1004</td>\n",
       "      <td>1986Q1</td>\n",
       "      <td>000361105</td>\n",
       "      <td>AIR</td>\n",
       "      <td>20</td>\n",
       "      <td>1986-03-21</td>\n",
       "      <td>1985-12-19</td>\n",
       "      <td>0.1419</td>\n",
       "      <td>0.13</td>\n",
       "      <td>0.13</td>\n",
       "      <td>...</td>\n",
       "      <td>NaN</td>\n",
       "      <td>NaN</td>\n",
       "      <td>2.35</td>\n",
       "      <td>59.787</td>\n",
       "      <td>NaN</td>\n",
       "      <td>0.751</td>\n",
       "      <td>57.559</td>\n",
       "      <td>NaN</td>\n",
       "      <td>8.746</td>\n",
       "      <td>20.375</td>\n",
       "    </tr>\n",
       "    <tr>\n",
       "      <th>2</th>\n",
       "      <td>1004</td>\n",
       "      <td>1986Q2</td>\n",
       "      <td>000361105</td>\n",
       "      <td>AIR</td>\n",
       "      <td>20</td>\n",
       "      <td>1986-07-08</td>\n",
       "      <td>1986-03-20</td>\n",
       "      <td>0.1599</td>\n",
       "      <td>0.15</td>\n",
       "      <td>0.15</td>\n",
       "      <td>...</td>\n",
       "      <td>NaN</td>\n",
       "      <td>1.054</td>\n",
       "      <td>2.46</td>\n",
       "      <td>70.657</td>\n",
       "      <td>NaN</td>\n",
       "      <td>0.799</td>\n",
       "      <td>61.242</td>\n",
       "      <td>NaN</td>\n",
       "      <td>10.526</td>\n",
       "      <td>23.625</td>\n",
       "    </tr>\n",
       "    <tr>\n",
       "      <th>3</th>\n",
       "      <td>1004</td>\n",
       "      <td>1986Q3</td>\n",
       "      <td>000361105</td>\n",
       "      <td>AIR</td>\n",
       "      <td>20</td>\n",
       "      <td>1986-09-24</td>\n",
       "      <td>1986-07-17</td>\n",
       "      <td>0.1466</td>\n",
       "      <td>0.16</td>\n",
       "      <td>0.16</td>\n",
       "      <td>...</td>\n",
       "      <td>NaN</td>\n",
       "      <td>NaN</td>\n",
       "      <td>2.53</td>\n",
       "      <td>88.918</td>\n",
       "      <td>NaN</td>\n",
       "      <td>1.100</td>\n",
       "      <td>58.741</td>\n",
       "      <td>NaN</td>\n",
       "      <td>8.962</td>\n",
       "      <td>23.500</td>\n",
       "    </tr>\n",
       "    <tr>\n",
       "      <th>4</th>\n",
       "      <td>1004</td>\n",
       "      <td>1986Q4</td>\n",
       "      <td>000361105</td>\n",
       "      <td>AIR</td>\n",
       "      <td>20</td>\n",
       "      <td>1986-12-16</td>\n",
       "      <td>1986-10-16</td>\n",
       "      <td>0.1665</td>\n",
       "      <td>0.18</td>\n",
       "      <td>0.18</td>\n",
       "      <td>...</td>\n",
       "      <td>NaN</td>\n",
       "      <td>NaN</td>\n",
       "      <td>3.36</td>\n",
       "      <td>91.195</td>\n",
       "      <td>NaN</td>\n",
       "      <td>0.700</td>\n",
       "      <td>66.944</td>\n",
       "      <td>NaN</td>\n",
       "      <td>9.385</td>\n",
       "      <td>23.500</td>\n",
       "    </tr>\n",
       "  </tbody>\n",
       "</table>\n",
       "<p>5 rows × 82 columns</p>\n",
       "</div>"
      ],
      "text/plain": [
       "   gvkey datacqtr      cusip  tic gsector announcement_date analyst_date  \\\n",
       "0   1004   1985Q4  000361105  AIR      20        1985-12-19   1985-11-14   \n",
       "1   1004   1986Q1  000361105  AIR      20        1986-03-21   1985-12-19   \n",
       "2   1004   1986Q2  000361105  AIR      20        1986-07-08   1986-03-20   \n",
       "3   1004   1986Q3  000361105  AIR      20        1986-09-24   1986-07-17   \n",
       "4   1004   1986Q4  000361105  AIR      20        1986-12-16   1986-10-16   \n",
       "\n",
       "   eps_actual  eps_predicted_mean  eps_predicted_median  ...  txdbq   txpq  \\\n",
       "0      0.1732                0.13                  0.13  ...    NaN    NaN   \n",
       "1      0.1419                0.13                  0.13  ...    NaN    NaN   \n",
       "2      0.1599                0.15                  0.15  ...    NaN  1.054   \n",
       "3      0.1466                0.16                  0.16  ...    NaN    NaN   \n",
       "4      0.1665                0.18                  0.18  ...    NaN    NaN   \n",
       "\n",
       "   txtq   wcapq  xaccq  xintq   xoprq  xrdq   xsgaq   prccq  \n",
       "0  2.33  57.965    NaN  0.723  54.194   NaN   8.243  24.000  \n",
       "1  2.35  59.787    NaN  0.751  57.559   NaN   8.746  20.375  \n",
       "2  2.46  70.657    NaN  0.799  61.242   NaN  10.526  23.625  \n",
       "3  2.53  88.918    NaN  1.100  58.741   NaN   8.962  23.500  \n",
       "4  3.36  91.195    NaN  0.700  66.944   NaN   9.385  23.500  \n",
       "\n",
       "[5 rows x 82 columns]"
      ]
     },
     "execution_count": 23,
     "metadata": {},
     "output_type": "execute_result"
    }
   ],
   "source": [
    "df.head()"
   ]
  },
  {
   "cell_type": "markdown",
   "metadata": {},
   "source": [
    "### Prepare Data"
   ]
  },
  {
   "cell_type": "code",
   "execution_count": 24,
   "metadata": {},
   "outputs": [],
   "source": [
    "missing_df = df.isna().sum()"
   ]
  },
  {
   "cell_type": "code",
   "execution_count": 25,
   "metadata": {},
   "outputs": [
    {
     "name": "stdout",
     "output_type": "stream",
     "text": [
      "66\n"
     ]
    }
   ],
   "source": [
    "columns_to_impute = [x for x in df.columns if x not in missing_df[missing_df==0].index]\n",
    "columns_to_impute = [x for x in columns_to_impute if x!='eps_actual']\n",
    "print(len(columns_to_impute))"
   ]
  },
  {
   "cell_type": "code",
   "execution_count": 26,
   "metadata": {},
   "outputs": [],
   "source": [
    "df[columns_to_impute] = (df[columns_to_impute] - df[columns_to_impute].mean()) / df[columns_to_impute].std()"
   ]
  },
  {
   "cell_type": "code",
   "execution_count": 27,
   "metadata": {},
   "outputs": [
    {
     "data": {
      "text/plain": [
       "66"
      ]
     },
     "execution_count": 27,
     "metadata": {},
     "output_type": "execute_result"
    }
   ],
   "source": [
    "columns_dict = {col:{'data':df[['datacqtr', 'gvkey', col]].dropna()} for col in columns_to_impute}\n",
    "len(columns_dict)"
   ]
  },
  {
   "cell_type": "code",
   "execution_count": 28,
   "metadata": {},
   "outputs": [],
   "source": [
    "def quarter_to_float(yq):\n",
    "    year, quarter = yq[:-2], yq[-2:]\n",
    "    return float(year) + (int(quarter[-1]) - 1) * 0.25"
   ]
  },
  {
   "cell_type": "code",
   "execution_count": 29,
   "metadata": {},
   "outputs": [],
   "source": [
    "for col in columns_dict.keys():\n",
    "    col_df = columns_dict[col]['data'].copy(deep=True)\n",
    "\n",
    "    col_df['yq_float'] = col_df['datacqtr'].apply(quarter_to_float)\n",
    "    col_df.sort_values(['gvkey', 'yq_float'], inplace=True)\n",
    "\n",
    "    col_df['diff'] = col_df.groupby('gvkey')['yq_float'].diff().fillna(0)\n",
    "    col_df['break'] = (col_df['diff'] != 0.25).astype(int)\n",
    "    \n",
    "    col_df['sequence_id'] = col_df.groupby('gvkey')['break'].cumsum()\n",
    "    sequence_counts = col_df.groupby(['gvkey', 'sequence_id']).size()\n",
    "    max_sequence_id = sequence_counts.groupby('gvkey').idxmax()\n",
    "\n",
    "    col_df2 = pd.concat([col_df[col_df['gvkey'] == cat].loc[col_df['sequence_id'] == seq_id] for cat, seq_id in max_sequence_id])\n",
    "\n",
    "    col_df2 = col_df2.drop(columns = ['yq_float','diff','break','sequence_id']).reset_index(drop=True)\n",
    "    col_df2 = col_df2.sort_values(by=['gvkey','datacqtr']).reset_index(drop=True)\n",
    "\n",
    "    columns_dict[col]['data'] = col_df2"
   ]
  },
  {
   "cell_type": "code",
   "execution_count": 30,
   "metadata": {},
   "outputs": [],
   "source": [
    "np.random.seed(42)\n",
    "\n",
    "missing_perc = 0.2\n",
    "for col in columns_dict.keys():\n",
    "    col_missing_df = columns_dict[col]['data'].copy(deep=True)\n",
    "    col_missing_df[col] =  col_missing_df[col].where(np.random.rand(col_missing_df.shape[0]) > missing_perc, np.nan)\n",
    "\n",
    "    columns_dict[col]['data_missing'] = col_missing_df"
   ]
  },
  {
   "cell_type": "markdown",
   "metadata": {},
   "source": [
    "### Impute missing values"
   ]
  },
  {
   "cell_type": "code",
   "execution_count": 31,
   "metadata": {},
   "outputs": [
    {
     "data": {
      "text/plain": [
       "{'Rolling Avg. 2': 3,\n",
       " 'Rolling Avg. 3': 4,\n",
       " 'Rolling Avg. 4': 5,\n",
       " 'Rolling Avg. 5': 6,\n",
       " 'Rolling Avg. 6': 7,\n",
       " 'Rolling Avg. 7': 8,\n",
       " 'Rolling Avg. 8': 9,\n",
       " 'Forward fill 1': 1,\n",
       " 'Forward fill 2': 2,\n",
       " 'Forward fill 3': 3,\n",
       " 'Forward fill 4': 4,\n",
       " 'Forward fill 5': 5,\n",
       " 'Forward fill 6': 6,\n",
       " 'Forward fill 7': 7,\n",
       " 'Forward fill 8': 8}"
      ]
     },
     "execution_count": 31,
     "metadata": {},
     "output_type": "execute_result"
    }
   ],
   "source": [
    "rolling_methods = {f'Rolling Avg. {i}':i+1 for i in range(2,8+1)}\n",
    "forward_methods = {f'Forward fill {i}':i for i in range(1,8+1)}\n",
    "all_methods = {**rolling_methods, **forward_methods}\n",
    "all_methods"
   ]
  },
  {
   "cell_type": "code",
   "execution_count": 32,
   "metadata": {},
   "outputs": [],
   "source": [
    "def impute_missing_with_avg(series, window):\n",
    "    return series.rolling(window=window, min_periods=window-1).mean()\n",
    "\n",
    "def rmse(y_true, y_pred):\n",
    "    return np.sqrt(((y_true - y_pred) ** 2).mean())"
   ]
  },
  {
   "cell_type": "code",
   "execution_count": 33,
   "metadata": {},
   "outputs": [
    {
     "data": {
      "text/plain": [
       "66"
      ]
     },
     "execution_count": 33,
     "metadata": {},
     "output_type": "execute_result"
    }
   ],
   "source": [
    "methods_dict = {col:{} for col in columns_dict.keys()}\n",
    "len(methods_dict)"
   ]
  },
  {
   "cell_type": "code",
   "execution_count": 34,
   "metadata": {},
   "outputs": [],
   "source": [
    "for col in columns_dict.keys():\n",
    "    for method in all_methods.keys():\n",
    "        col_filled_df = columns_dict[col]['data_missing'].copy(deep=True)\n",
    "\n",
    "        if 'Rolling' in method:\n",
    "            col_filled_df[col] = col_filled_df.groupby('gvkey')[col].transform(lambda x: x.fillna(x.rolling(window=all_methods[method], min_periods=1).mean()))\n",
    "        elif 'Forward' in method:\n",
    "            col_filled_df[col] = col_filled_df.groupby('gvkey')[col].transform(lambda x: x.fillna(method='ffill', limit=all_methods[method]))\n",
    "\n",
    "        rmse_value = rmse(columns_dict[col]['data'][col], col_filled_df[col])\n",
    "        missing_filled_perc = col_filled_df[col].isna().sum()/columns_dict[col]['data_missing'][col].isna().sum()\n",
    "        \n",
    "        methods_dict[col][method] = [rmse_value, missing_filled_perc]"
   ]
  },
  {
   "cell_type": "markdown",
   "metadata": {},
   "source": [
    "### Optimal imputation method"
   ]
  },
  {
   "cell_type": "code",
   "execution_count": 35,
   "metadata": {},
   "outputs": [],
   "source": [
    "methods_rmse = {}\n",
    "methods_miss_perc = {}\n",
    "for col in methods_dict.keys():\n",
    "    methods_rmse[col] = {}\n",
    "    methods_miss_perc[col] = {}\n",
    "    for method, result in methods_dict[col].items():\n",
    "        methods_rmse[col][method] = result[0]\n",
    "        methods_miss_perc[col][method] = result[1]"
   ]
  },
  {
   "cell_type": "code",
   "execution_count": 36,
   "metadata": {},
   "outputs": [],
   "source": [
    "methods_rmse_df = pd.DataFrame(methods_rmse)\n",
    "methods_miss_perc_df = pd.DataFrame(methods_miss_perc)"
   ]
  },
  {
   "cell_type": "code",
   "execution_count": 37,
   "metadata": {},
   "outputs": [],
   "source": [
    "mean_rmse = methods_rmse_df.mean(axis=1)\n",
    "filled_perc_miss = 1 - methods_miss_perc_df.mean(axis=1)\n",
    "\n",
    "result_df = pd.DataFrame({'Mean RMSE': mean_rmse, 'Filled Percent of Missing Values':filled_perc_miss})"
   ]
  },
  {
   "cell_type": "code",
   "execution_count": 38,
   "metadata": {},
   "outputs": [],
   "source": [
    "result_df = result_df.reset_index().rename(columns={'index':'Method'})\n",
    "result_df['Period(s)'] = result_df['Method'].str.slice(-1,)\n",
    "result_df['Method'] = result_df['Method'].str.slice(0,-1).str.strip()\n",
    "result_df.loc[result_df['Method']=='Rolling Avg.','Method'] = 'Rolling average'"
   ]
  },
  {
   "cell_type": "code",
   "execution_count": 39,
   "metadata": {},
   "outputs": [
    {
     "data": {
      "text/html": [
       "<div>\n",
       "<style scoped>\n",
       "    .dataframe tbody tr th:only-of-type {\n",
       "        vertical-align: middle;\n",
       "    }\n",
       "\n",
       "    .dataframe tbody tr th {\n",
       "        vertical-align: top;\n",
       "    }\n",
       "\n",
       "    .dataframe thead th {\n",
       "        text-align: right;\n",
       "    }\n",
       "</style>\n",
       "<table border=\"1\" class=\"dataframe\">\n",
       "  <thead>\n",
       "    <tr style=\"text-align: right;\">\n",
       "      <th></th>\n",
       "      <th>Method</th>\n",
       "      <th>Period(s)</th>\n",
       "      <th>Mean RMSE</th>\n",
       "      <th>Filled Percent of Missing Values</th>\n",
       "    </tr>\n",
       "  </thead>\n",
       "  <tbody>\n",
       "    <tr>\n",
       "      <th>0</th>\n",
       "      <td>Forward fill</td>\n",
       "      <td>1</td>\n",
       "      <td>0.134</td>\n",
       "      <td>0.770</td>\n",
       "    </tr>\n",
       "    <tr>\n",
       "      <th>1</th>\n",
       "      <td>Rolling average</td>\n",
       "      <td>2</td>\n",
       "      <td>0.150</td>\n",
       "      <td>0.919</td>\n",
       "    </tr>\n",
       "    <tr>\n",
       "      <th>2</th>\n",
       "      <td>Forward fill</td>\n",
       "      <td>2</td>\n",
       "      <td>0.150</td>\n",
       "      <td>0.919</td>\n",
       "    </tr>\n",
       "    <tr>\n",
       "      <th>3</th>\n",
       "      <td>Rolling average</td>\n",
       "      <td>3</td>\n",
       "      <td>0.152</td>\n",
       "      <td>0.948</td>\n",
       "    </tr>\n",
       "    <tr>\n",
       "      <th>4</th>\n",
       "      <td>Forward fill</td>\n",
       "      <td>3</td>\n",
       "      <td>0.153</td>\n",
       "      <td>0.948</td>\n",
       "    </tr>\n",
       "    <tr>\n",
       "      <th>5</th>\n",
       "      <td>Rolling average</td>\n",
       "      <td>4</td>\n",
       "      <td>0.149</td>\n",
       "      <td>0.953</td>\n",
       "    </tr>\n",
       "    <tr>\n",
       "      <th>6</th>\n",
       "      <td>Forward fill</td>\n",
       "      <td>4</td>\n",
       "      <td>0.153</td>\n",
       "      <td>0.953</td>\n",
       "    </tr>\n",
       "    <tr>\n",
       "      <th>7</th>\n",
       "      <td>Rolling average</td>\n",
       "      <td>5</td>\n",
       "      <td>0.154</td>\n",
       "      <td>0.954</td>\n",
       "    </tr>\n",
       "    <tr>\n",
       "      <th>8</th>\n",
       "      <td>Forward fill</td>\n",
       "      <td>5</td>\n",
       "      <td>0.153</td>\n",
       "      <td>0.954</td>\n",
       "    </tr>\n",
       "    <tr>\n",
       "      <th>9</th>\n",
       "      <td>Rolling average</td>\n",
       "      <td>6</td>\n",
       "      <td>0.159</td>\n",
       "      <td>0.955</td>\n",
       "    </tr>\n",
       "    <tr>\n",
       "      <th>10</th>\n",
       "      <td>Forward fill</td>\n",
       "      <td>6</td>\n",
       "      <td>0.153</td>\n",
       "      <td>0.955</td>\n",
       "    </tr>\n",
       "    <tr>\n",
       "      <th>11</th>\n",
       "      <td>Rolling average</td>\n",
       "      <td>7</td>\n",
       "      <td>0.164</td>\n",
       "      <td>0.955</td>\n",
       "    </tr>\n",
       "    <tr>\n",
       "      <th>12</th>\n",
       "      <td>Forward fill</td>\n",
       "      <td>7</td>\n",
       "      <td>0.153</td>\n",
       "      <td>0.955</td>\n",
       "    </tr>\n",
       "    <tr>\n",
       "      <th>13</th>\n",
       "      <td>Rolling average</td>\n",
       "      <td>8</td>\n",
       "      <td>0.165</td>\n",
       "      <td>0.955</td>\n",
       "    </tr>\n",
       "    <tr>\n",
       "      <th>14</th>\n",
       "      <td>Forward fill</td>\n",
       "      <td>8</td>\n",
       "      <td>0.153</td>\n",
       "      <td>0.955</td>\n",
       "    </tr>\n",
       "  </tbody>\n",
       "</table>\n",
       "</div>"
      ],
      "text/plain": [
       "             Method Period(s)  Mean RMSE  Filled Percent of Missing Values\n",
       "0      Forward fill         1      0.134                             0.770\n",
       "1   Rolling average         2      0.150                             0.919\n",
       "2      Forward fill         2      0.150                             0.919\n",
       "3   Rolling average         3      0.152                             0.948\n",
       "4      Forward fill         3      0.153                             0.948\n",
       "5   Rolling average         4      0.149                             0.953\n",
       "6      Forward fill         4      0.153                             0.953\n",
       "7   Rolling average         5      0.154                             0.954\n",
       "8      Forward fill         5      0.153                             0.954\n",
       "9   Rolling average         6      0.159                             0.955\n",
       "10     Forward fill         6      0.153                             0.955\n",
       "11  Rolling average         7      0.164                             0.955\n",
       "12     Forward fill         7      0.153                             0.955\n",
       "13  Rolling average         8      0.165                             0.955\n",
       "14     Forward fill         8      0.153                             0.955"
      ]
     },
     "execution_count": 39,
     "metadata": {},
     "output_type": "execute_result"
    }
   ],
   "source": [
    "result_df = result_df[['Method','Period(s)','Mean RMSE','Filled Percent of Missing Values']]\n",
    "result_df = result_df.sort_values(by=['Period(s)']).reset_index(drop=True)\n",
    "result_df.round(3)"
   ]
  },
  {
   "cell_type": "code",
   "execution_count": 40,
   "metadata": {},
   "outputs": [],
   "source": [
    "result_df.to_csv('../results/imputation_methods_performance.csv')"
   ]
  }
 ],
 "metadata": {
  "kernelspec": {
   "display_name": "base",
   "language": "python",
   "name": "python3"
  },
  "language_info": {
   "codemirror_mode": {
    "name": "ipython",
    "version": 3
   },
   "file_extension": ".py",
   "mimetype": "text/x-python",
   "name": "python",
   "nbconvert_exporter": "python",
   "pygments_lexer": "ipython3",
   "version": "3.11.4"
  }
 },
 "nbformat": 4,
 "nbformat_minor": 4
}
