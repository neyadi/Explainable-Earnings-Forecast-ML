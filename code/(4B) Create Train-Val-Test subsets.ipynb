{
 "cells": [
  {
   "cell_type": "code",
   "execution_count": 1,
   "id": "a6e3168c",
   "metadata": {},
   "outputs": [],
   "source": [
    "import pandas as pd\n",
    "from sklearn.model_selection import TimeSeriesSplit\n",
    "import random\n",
    "import pickle"
   ]
  },
  {
   "cell_type": "markdown",
   "id": "74391fa8",
   "metadata": {
    "tags": []
   },
   "source": [
    "### Read Data"
   ]
  },
  {
   "cell_type": "code",
   "execution_count": 2,
   "id": "a1c03577",
   "metadata": {},
   "outputs": [
    {
     "name": "stdout",
     "output_type": "stream",
     "text": [
      "Number of companies: 1859\n",
      "Number of rows: 78997\n",
      "Number of columns: 662\n"
     ]
    }
   ],
   "source": [
    "df = pd.read_pickle('../data/preprocessed_data_4.pkl')"
   ]
  },
  {
   "cell_type": "code",
   "execution_count": 3,
   "id": "74395b17-ce18-4659-a1c9-628fba34f35b",
   "metadata": {},
   "outputs": [
    {
     "data": {
      "text/html": [
       "<div>\n",
       "<style scoped>\n",
       "    .dataframe tbody tr th:only-of-type {\n",
       "        vertical-align: middle;\n",
       "    }\n",
       "\n",
       "    .dataframe tbody tr th {\n",
       "        vertical-align: top;\n",
       "    }\n",
       "\n",
       "    .dataframe thead th {\n",
       "        text-align: right;\n",
       "    }\n",
       "</style>\n",
       "<table border=\"1\" class=\"dataframe\">\n",
       "  <thead>\n",
       "    <tr style=\"text-align: right;\">\n",
       "      <th></th>\n",
       "      <th>datacqtr</th>\n",
       "      <th>gvkey</th>\n",
       "      <th>nq_eps_actual_direction</th>\n",
       "      <th>nq_eps_actual_change</th>\n",
       "      <th>nq_eps_predicted_mean_direction</th>\n",
       "      <th>nq_eps_predicted_mean_change</th>\n",
       "      <th>nq_eps_predicted_median_direction</th>\n",
       "      <th>nq_eps_predicted_median_change</th>\n",
       "      <th>cusip</th>\n",
       "      <th>tic</th>\n",
       "      <th>...</th>\n",
       "      <th>txdbq_percChange_4Q</th>\n",
       "      <th>txpq_percChange_4Q</th>\n",
       "      <th>txtq_percChange_4Q</th>\n",
       "      <th>wcapq_percChange_4Q</th>\n",
       "      <th>xaccq_percChange_4Q</th>\n",
       "      <th>xintq_percChange_4Q</th>\n",
       "      <th>xoprq_percChange_4Q</th>\n",
       "      <th>xrdq_percChange_4Q</th>\n",
       "      <th>xsgaq_percChange_4Q</th>\n",
       "      <th>prccq_percChange_4Q</th>\n",
       "    </tr>\n",
       "  </thead>\n",
       "  <tbody>\n",
       "    <tr>\n",
       "      <th>0</th>\n",
       "      <td>1986Q2</td>\n",
       "      <td>1078</td>\n",
       "      <td>0.0</td>\n",
       "      <td>-0.070126</td>\n",
       "      <td>0.0</td>\n",
       "      <td>-0.018233</td>\n",
       "      <td>0.0</td>\n",
       "      <td>-0.018233</td>\n",
       "      <td>002824100</td>\n",
       "      <td>ABT</td>\n",
       "      <td>...</td>\n",
       "      <td>NaN</td>\n",
       "      <td>NaN</td>\n",
       "      <td>0.215460</td>\n",
       "      <td>0.003846</td>\n",
       "      <td>NaN</td>\n",
       "      <td>-0.228619</td>\n",
       "      <td>0.122464</td>\n",
       "      <td>NaN</td>\n",
       "      <td>0.151169</td>\n",
       "      <td>-0.063181</td>\n",
       "    </tr>\n",
       "    <tr>\n",
       "      <th>1</th>\n",
       "      <td>1986Q2</td>\n",
       "      <td>1209</td>\n",
       "      <td>0.0</td>\n",
       "      <td>-0.245902</td>\n",
       "      <td>1.0</td>\n",
       "      <td>0.049180</td>\n",
       "      <td>1.0</td>\n",
       "      <td>0.049180</td>\n",
       "      <td>009158106</td>\n",
       "      <td>APD</td>\n",
       "      <td>...</td>\n",
       "      <td>NaN</td>\n",
       "      <td>-0.163255</td>\n",
       "      <td>-1.223304</td>\n",
       "      <td>0.230693</td>\n",
       "      <td>NaN</td>\n",
       "      <td>0.386834</td>\n",
       "      <td>0.062878</td>\n",
       "      <td>NaN</td>\n",
       "      <td>-0.010275</td>\n",
       "      <td>-0.370787</td>\n",
       "    </tr>\n",
       "    <tr>\n",
       "      <th>2</th>\n",
       "      <td>1986Q2</td>\n",
       "      <td>1230</td>\n",
       "      <td>1.0</td>\n",
       "      <td>5.217391</td>\n",
       "      <td>1.0</td>\n",
       "      <td>2.652174</td>\n",
       "      <td>1.0</td>\n",
       "      <td>3.173913</td>\n",
       "      <td>011659109</td>\n",
       "      <td>ALK</td>\n",
       "      <td>...</td>\n",
       "      <td>NaN</td>\n",
       "      <td>0.329233</td>\n",
       "      <td>-0.633446</td>\n",
       "      <td>-0.188379</td>\n",
       "      <td>NaN</td>\n",
       "      <td>0.241703</td>\n",
       "      <td>0.015390</td>\n",
       "      <td>NaN</td>\n",
       "      <td>NaN</td>\n",
       "      <td>-0.295699</td>\n",
       "    </tr>\n",
       "    <tr>\n",
       "      <th>3</th>\n",
       "      <td>1986Q2</td>\n",
       "      <td>1618</td>\n",
       "      <td>0.0</td>\n",
       "      <td>-0.550000</td>\n",
       "      <td>1.0</td>\n",
       "      <td>0.500000</td>\n",
       "      <td>1.0</td>\n",
       "      <td>0.500000</td>\n",
       "      <td>032159105</td>\n",
       "      <td>AXR</td>\n",
       "      <td>...</td>\n",
       "      <td>NaN</td>\n",
       "      <td>NaN</td>\n",
       "      <td>-0.058403</td>\n",
       "      <td>NaN</td>\n",
       "      <td>NaN</td>\n",
       "      <td>0.320497</td>\n",
       "      <td>0.008626</td>\n",
       "      <td>NaN</td>\n",
       "      <td>0.096117</td>\n",
       "      <td>0.193182</td>\n",
       "    </tr>\n",
       "    <tr>\n",
       "      <th>4</th>\n",
       "      <td>1986Q2</td>\n",
       "      <td>1632</td>\n",
       "      <td>0.0</td>\n",
       "      <td>-0.214592</td>\n",
       "      <td>1.0</td>\n",
       "      <td>0.287554</td>\n",
       "      <td>1.0</td>\n",
       "      <td>0.287554</td>\n",
       "      <td>032654105</td>\n",
       "      <td>ADI</td>\n",
       "      <td>...</td>\n",
       "      <td>NaN</td>\n",
       "      <td>0.123781</td>\n",
       "      <td>1.093974</td>\n",
       "      <td>0.061268</td>\n",
       "      <td>NaN</td>\n",
       "      <td>-0.014607</td>\n",
       "      <td>0.067954</td>\n",
       "      <td>NaN</td>\n",
       "      <td>0.168251</td>\n",
       "      <td>-0.222222</td>\n",
       "    </tr>\n",
       "  </tbody>\n",
       "</table>\n",
       "<p>5 rows × 662 columns</p>\n",
       "</div>"
      ],
      "text/plain": [
       "  datacqtr  gvkey  nq_eps_actual_direction  nq_eps_actual_change  \\\n",
       "0   1986Q2   1078                      0.0             -0.070126   \n",
       "1   1986Q2   1209                      0.0             -0.245902   \n",
       "2   1986Q2   1230                      1.0              5.217391   \n",
       "3   1986Q2   1618                      0.0             -0.550000   \n",
       "4   1986Q2   1632                      0.0             -0.214592   \n",
       "\n",
       "   nq_eps_predicted_mean_direction  nq_eps_predicted_mean_change  \\\n",
       "0                              0.0                     -0.018233   \n",
       "1                              1.0                      0.049180   \n",
       "2                              1.0                      2.652174   \n",
       "3                              1.0                      0.500000   \n",
       "4                              1.0                      0.287554   \n",
       "\n",
       "   nq_eps_predicted_median_direction  nq_eps_predicted_median_change  \\\n",
       "0                                0.0                       -0.018233   \n",
       "1                                1.0                        0.049180   \n",
       "2                                1.0                        3.173913   \n",
       "3                                1.0                        0.500000   \n",
       "4                                1.0                        0.287554   \n",
       "\n",
       "       cusip  tic  ... txdbq_percChange_4Q txpq_percChange_4Q  \\\n",
       "0  002824100  ABT  ...                 NaN                NaN   \n",
       "1  009158106  APD  ...                 NaN          -0.163255   \n",
       "2  011659109  ALK  ...                 NaN           0.329233   \n",
       "3  032159105  AXR  ...                 NaN                NaN   \n",
       "4  032654105  ADI  ...                 NaN           0.123781   \n",
       "\n",
       "  txtq_percChange_4Q  wcapq_percChange_4Q  xaccq_percChange_4Q  \\\n",
       "0           0.215460             0.003846                  NaN   \n",
       "1          -1.223304             0.230693                  NaN   \n",
       "2          -0.633446            -0.188379                  NaN   \n",
       "3          -0.058403                  NaN                  NaN   \n",
       "4           1.093974             0.061268                  NaN   \n",
       "\n",
       "   xintq_percChange_4Q  xoprq_percChange_4Q  xrdq_percChange_4Q  \\\n",
       "0            -0.228619             0.122464                 NaN   \n",
       "1             0.386834             0.062878                 NaN   \n",
       "2             0.241703             0.015390                 NaN   \n",
       "3             0.320497             0.008626                 NaN   \n",
       "4            -0.014607             0.067954                 NaN   \n",
       "\n",
       "   xsgaq_percChange_4Q  prccq_percChange_4Q  \n",
       "0             0.151169            -0.063181  \n",
       "1            -0.010275            -0.370787  \n",
       "2                  NaN            -0.295699  \n",
       "3             0.096117             0.193182  \n",
       "4             0.168251            -0.222222  \n",
       "\n",
       "[5 rows x 662 columns]"
      ]
     },
     "execution_count": 3,
     "metadata": {},
     "output_type": "execute_result"
    }
   ],
   "source": [
    "df.head()"
   ]
  },
  {
   "cell_type": "markdown",
   "id": "89dd8e56-097e-4c2a-9d1c-306a246a18ad",
   "metadata": {
    "tags": []
   },
   "source": [
    "### Prepare Data"
   ]
  },
  {
   "cell_type": "code",
   "execution_count": 4,
   "id": "ad8308a6",
   "metadata": {},
   "outputs": [],
   "source": [
    "def add_one_quarter(quarter):\n",
    "    year, qtr = int(quarter[:4]), int(quarter[-1])\n",
    "    qtr += 1\n",
    "    if qtr > 4:\n",
    "        year += 1\n",
    "        qtr = 1\n",
    "    return f\"{year}Q{qtr}\"\n",
    "\n",
    "df['datacqtr'] = df['datacqtr'].apply(add_one_quarter)"
   ]
  },
  {
   "cell_type": "code",
   "execution_count": 5,
   "id": "85a6a56d",
   "metadata": {},
   "outputs": [
    {
     "name": "stdout",
     "output_type": "stream",
     "text": [
      "108\n",
      "1993Q1 2019Q4\n"
     ]
    },
    {
     "data": {
      "text/plain": [
       "True"
      ]
     },
     "execution_count": 5,
     "metadata": {},
     "output_type": "execute_result"
    }
   ],
   "source": [
    "quarters_list = [x for x in sorted(df['datacqtr'].unique()) if x>='1993Q1' and x<='2019Q4']\n",
    "print(len(quarters_list))\n",
    "print(min(quarters_list),max(quarters_list))\n",
    "len(quarters_list) == ((2019-1993+1)*4)"
   ]
  },
  {
   "cell_type": "code",
   "execution_count": 6,
   "id": "8ec637d7",
   "metadata": {},
   "outputs": [
    {
     "name": "stdout",
     "output_type": "stream",
     "text": [
      "Number of subsets: 7\n"
     ]
    }
   ],
   "source": [
    "# create time series split of quarters\n",
    "tscv = TimeSeriesSplit(n_splits=7, max_train_size=80, test_size=4)\n",
    "\n",
    "print('Number of subsets:', len(list(tscv.split(quarters_list))))"
   ]
  },
  {
   "cell_type": "code",
   "execution_count": 7,
   "id": "f2eeaafc",
   "metadata": {},
   "outputs": [
    {
     "name": "stdout",
     "output_type": "stream",
     "text": [
      "Number of train quarters: 80 Number of test quarters: 4 Start-end train: 1993Q1 2012Q4 Start-end test: 2013Q1 2013Q4\n",
      "Number of train quarters: 80 Number of test quarters: 4 Start-end train: 1994Q1 2013Q4 Start-end test: 2014Q1 2014Q4\n",
      "Number of train quarters: 80 Number of test quarters: 4 Start-end train: 1995Q1 2014Q4 Start-end test: 2015Q1 2015Q4\n",
      "Number of train quarters: 80 Number of test quarters: 4 Start-end train: 1996Q1 2015Q4 Start-end test: 2016Q1 2016Q4\n",
      "Number of train quarters: 80 Number of test quarters: 4 Start-end train: 1997Q1 2016Q4 Start-end test: 2017Q1 2017Q4\n",
      "Number of train quarters: 80 Number of test quarters: 4 Start-end train: 1998Q1 2017Q4 Start-end test: 2018Q1 2018Q4\n",
      "Number of train quarters: 80 Number of test quarters: 4 Start-end train: 1999Q1 2018Q4 Start-end test: 2019Q1 2019Q4\n"
     ]
    }
   ],
   "source": [
    "for i, (train_index, test_index) in enumerate(tscv.split(quarters_list)):\n",
    "    train_quarters, test_quarter = [quarters_list[i] for i in train_index], [quarters_list[i] for i in test_index]\n",
    "    print('Number of train quarters:', len(train_quarters),\n",
    "          'Number of test quarters:', len(test_quarter),\n",
    "          'Start-end train:', train_quarters[0], train_quarters[-1],\n",
    "          'Start-end test:', test_quarter[0], test_quarter[-1],\n",
    "          )"
   ]
  },
  {
   "cell_type": "code",
   "execution_count": 8,
   "id": "f663d9f2",
   "metadata": {},
   "outputs": [],
   "source": [
    "def random_undersample_majority(df_train):\n",
    "    random.seed(123)\n",
    "    min_size = df_train.groupby('nq_eps_actual_direction').size().min()\n",
    "    \n",
    "    majority_class = df_train['nq_eps_actual_direction'].value_counts().idxmax()\n",
    "    minority_class = df_train['nq_eps_actual_direction'].value_counts().idxmin()\n",
    "\n",
    "    index_class = list(zip(df_train.index, df_train['nq_eps_actual_direction']))\n",
    "\n",
    "    indices_to_sample =  [i for i,v in index_class if v==minority_class]\n",
    "    indices_to_sample += random.sample([i for i,v in index_class if v==majority_class], k=min_size)\n",
    "\n",
    "    df_train= df_train.loc[indices_to_sample].sort_index()\n",
    "\n",
    "    return df_train"
   ]
  },
  {
   "cell_type": "code",
   "execution_count": 9,
   "id": "36e2028f",
   "metadata": {},
   "outputs": [],
   "source": [
    "df_model = df.copy(deep=True)"
   ]
  },
  {
   "cell_type": "markdown",
   "id": "e52fea2a",
   "metadata": {},
   "source": [
    "### Create Trainiing, Validation, and Testing sets"
   ]
  },
  {
   "cell_type": "code",
   "execution_count": 10,
   "id": "feb47fcc",
   "metadata": {},
   "outputs": [],
   "source": [
    "subsets = {}\n",
    "for i, (train_index, test_index) in enumerate(tscv.split(quarters_list)):\n",
    "    train_quarters, test_quarters = [quarters_list[i] for i in train_index], [quarters_list[i] for i in test_index]\n",
    "\n",
    "    # validation quarters\n",
    "    valid_quarters = train_quarters[-4:]\n",
    "    train_quarters = train_quarters[:-4]\n",
    "\n",
    "    # split into training, validation, testing subsets\n",
    "    df_train = df_model[df_model['datacqtr'].isin(train_quarters)]\n",
    "    df_train = df_train.sort_values(by='datacqtr').reset_index(drop=True)\n",
    "\n",
    "    df_val = df_model[(df_model['datacqtr'].isin(valid_quarters))]\n",
    "    df_val = df_val.sort_values(by='datacqtr').reset_index(drop=True)\n",
    "\n",
    "    df_test = df_model[(df_model['datacqtr'].isin(test_quarters))]\n",
    "    df_test = df_test.sort_values(by='datacqtr').reset_index(drop=True)\n",
    "\n",
    "\n",
    "    # randomly undersample the majority class\n",
    "    if True:\n",
    "        df_train = random_undersample_majority(df_train)\n",
    "    \n",
    "    subsets[str(test_quarters[0][:4])] = {'train':df_train, 'val':df_val, 'test':df_test}"
   ]
  },
  {
   "cell_type": "code",
   "execution_count": 11,
   "id": "f0843b14",
   "metadata": {},
   "outputs": [
    {
     "data": {
      "text/plain": [
       "7"
      ]
     },
     "execution_count": 11,
     "metadata": {},
     "output_type": "execute_result"
    }
   ],
   "source": [
    "len(subsets)"
   ]
  },
  {
   "cell_type": "code",
   "execution_count": 12,
   "id": "33482aa9",
   "metadata": {},
   "outputs": [
    {
     "data": {
      "text/plain": [
       "dict_keys(['2013', '2014', '2015', '2016', '2017', '2018', '2019'])"
      ]
     },
     "execution_count": 12,
     "metadata": {},
     "output_type": "execute_result"
    }
   ],
   "source": [
    "subsets.keys()"
   ]
  },
  {
   "cell_type": "code",
   "execution_count": 13,
   "id": "bf941f5e",
   "metadata": {},
   "outputs": [],
   "source": [
    "file = open('../data/subsets.pkl', 'wb')\n",
    "pickle.dump(subsets, file=file)\n",
    "file.close()"
   ]
  }
 ],
 "metadata": {
  "kernelspec": {
   "display_name": "base",
   "language": "python",
   "name": "python3"
  },
  "language_info": {
   "codemirror_mode": {
    "name": "ipython",
    "version": 3
   },
   "file_extension": ".py",
   "mimetype": "text/x-python",
   "name": "python",
   "nbconvert_exporter": "python",
   "pygments_lexer": "ipython3",
   "version": "3.11.4"
  }
 },
 "nbformat": 4,
 "nbformat_minor": 5
}
