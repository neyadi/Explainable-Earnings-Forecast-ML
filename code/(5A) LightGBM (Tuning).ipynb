{
 "cells": [
  {
   "cell_type": "code",
   "execution_count": 1,
   "id": "a6e3168c",
   "metadata": {},
   "outputs": [],
   "source": [
    "# import libraries\n",
    "import pandas as pd\n",
    "import numpy as np\n",
    "import optuna.integration.lightgbm as lgb\n",
    "from lightgbm import early_stopping\n",
    "import pickle"
   ]
  },
  {
   "cell_type": "markdown",
   "id": "74391fa8",
   "metadata": {
    "tags": []
   },
   "source": [
    "### Read Data"
   ]
  },
  {
   "cell_type": "code",
   "execution_count": 2,
   "id": "a1c03577",
   "metadata": {},
   "outputs": [],
   "source": [
    "file = open('../data/subsets.pkl', 'rb')\n",
    "subsets = pickle.load(file)\n",
    "file.close()"
   ]
  },
  {
   "cell_type": "code",
   "execution_count": 3,
   "id": "91d3dc7f",
   "metadata": {},
   "outputs": [],
   "source": [
    "file = open('../model/best_parameters3.pkl','rb')\n",
    "params_dict = pickle.load(file)\n",
    "file.close()"
   ]
  },
  {
   "cell_type": "markdown",
   "id": "e52fea2a",
   "metadata": {},
   "source": [
    "### Find best parameters"
   ]
  },
  {
   "cell_type": "code",
   "execution_count": 4,
   "id": "05c77020",
   "metadata": {},
   "outputs": [],
   "source": [
    "non_features = ['gvkey','datacqtr', 'cusip','tic', 'announcement_date','analyst_date',\n",
    "                'nq_eps_actual_direction','nq_eps_actual_change',\n",
    "                'nq_eps_predicted_mean_direction','nq_eps_predicted_mean_change',\n",
    "                'nq_eps_predicted_median_direction','nq_eps_predicted_median_change',\n",
    "                'mkvaltq', 'gsector']"
   ]
  },
  {
   "cell_type": "code",
   "execution_count": 5,
   "id": "feb47fcc",
   "metadata": {},
   "outputs": [
    {
     "name": "stderr",
     "output_type": "stream",
     "text": [
      "[I 2024-02-20 14:39:57,366] A new study created in memory with name: no-name-cbf28f11-3abc-4988-bd76-0fd1f5945aea\n",
      "feature_fraction, val_score: inf:   0%|          | 0/7 [00:00<?, ?it/s]"
     ]
    },
    {
     "name": "stdout",
     "output_type": "stream",
     "text": [
      "Training until validation scores don't improve for 100 rounds\n"
     ]
    },
    {
     "name": "stderr",
     "output_type": "stream",
     "text": [
      "feature_fraction, val_score: 0.497035:  14%|#4        | 1/7 [00:03<00:23,  3.88s/it][I 2024-02-20 14:40:01,258] Trial 0 finished with value: 0.49703524531254245 and parameters: {'feature_fraction': 0.5}. Best is trial 0 with value: 0.49703524531254245.\n",
      "feature_fraction, val_score: 0.497035:  14%|#4        | 1/7 [00:03<00:23,  3.88s/it]"
     ]
    },
    {
     "name": "stdout",
     "output_type": "stream",
     "text": [
      "Early stopping, best iteration is:\n",
      "[105]\tvalid_0's binary_logloss: 0.421779\tvalid_1's binary_logloss: 0.497035\n"
     ]
    },
    {
     "name": "stderr",
     "output_type": "stream",
     "text": [
      "feature_fraction, val_score: 0.497035:  29%|##8       | 2/7 [00:08<00:21,  4.26s/it][I 2024-02-20 14:40:05,794] Trial 1 finished with value: 0.49703524531254245 and parameters: {'feature_fraction': 0.7}. Best is trial 0 with value: 0.49703524531254245.\n",
      "feature_fraction, val_score: 0.497035:  29%|##8       | 2/7 [00:08<00:21,  4.26s/it]"
     ]
    },
    {
     "name": "stdout",
     "output_type": "stream",
     "text": [
      "Early stopping, best iteration is:\n",
      "[105]\tvalid_0's binary_logloss: 0.421779\tvalid_1's binary_logloss: 0.497035\n"
     ]
    },
    {
     "name": "stderr",
     "output_type": "stream",
     "text": [
      "feature_fraction, val_score: 0.497035:  43%|####2     | 3/7 [00:13<00:17,  4.49s/it][I 2024-02-20 14:40:10,555] Trial 2 finished with value: 0.49703524531254245 and parameters: {'feature_fraction': 0.8}. Best is trial 0 with value: 0.49703524531254245.\n",
      "feature_fraction, val_score: 0.497035:  43%|####2     | 3/7 [00:13<00:17,  4.49s/it]"
     ]
    },
    {
     "name": "stdout",
     "output_type": "stream",
     "text": [
      "Early stopping, best iteration is:\n",
      "[105]\tvalid_0's binary_logloss: 0.421779\tvalid_1's binary_logloss: 0.497035\n"
     ]
    },
    {
     "name": "stderr",
     "output_type": "stream",
     "text": [
      "feature_fraction, val_score: 0.497035:  57%|#####7    | 4/7 [00:16<00:12,  4.01s/it][I 2024-02-20 14:40:13,835] Trial 3 finished with value: 0.49703524531254245 and parameters: {'feature_fraction': 0.4}. Best is trial 0 with value: 0.49703524531254245.\n",
      "feature_fraction, val_score: 0.497035:  57%|#####7    | 4/7 [00:16<00:12,  4.01s/it]"
     ]
    },
    {
     "name": "stdout",
     "output_type": "stream",
     "text": [
      "Early stopping, best iteration is:\n",
      "[105]\tvalid_0's binary_logloss: 0.421779\tvalid_1's binary_logloss: 0.497035\n"
     ]
    },
    {
     "name": "stderr",
     "output_type": "stream",
     "text": [
      "feature_fraction, val_score: 0.497035:  71%|#######1  | 5/7 [00:20<00:08,  4.02s/it][I 2024-02-20 14:40:17,879] Trial 4 finished with value: 0.49703524531254245 and parameters: {'feature_fraction': 0.6}. Best is trial 0 with value: 0.49703524531254245.\n",
      "feature_fraction, val_score: 0.497035:  71%|#######1  | 5/7 [00:20<00:08,  4.02s/it]"
     ]
    },
    {
     "name": "stdout",
     "output_type": "stream",
     "text": [
      "Early stopping, best iteration is:\n",
      "[105]\tvalid_0's binary_logloss: 0.421779\tvalid_1's binary_logloss: 0.497035\n"
     ]
    },
    {
     "name": "stderr",
     "output_type": "stream",
     "text": [
      "feature_fraction, val_score: 0.497035:  86%|########5 | 6/7 [00:25<00:04,  4.44s/it][I 2024-02-20 14:40:23,130] Trial 5 finished with value: 0.49703524531254245 and parameters: {'feature_fraction': 0.8999999999999999}. Best is trial 0 with value: 0.49703524531254245.\n",
      "feature_fraction, val_score: 0.497035:  86%|########5 | 6/7 [00:25<00:04,  4.44s/it]"
     ]
    },
    {
     "name": "stdout",
     "output_type": "stream",
     "text": [
      "Early stopping, best iteration is:\n",
      "[105]\tvalid_0's binary_logloss: 0.421779\tvalid_1's binary_logloss: 0.497035\n"
     ]
    },
    {
     "name": "stderr",
     "output_type": "stream",
     "text": [
      "feature_fraction, val_score: 0.497035: 100%|##########| 7/7 [00:31<00:00,  4.85s/it][I 2024-02-20 14:40:28,818] Trial 6 finished with value: 0.49703524531254245 and parameters: {'feature_fraction': 1.0}. Best is trial 0 with value: 0.49703524531254245.\n",
      "feature_fraction, val_score: 0.497035: 100%|##########| 7/7 [00:31<00:00,  4.49s/it]\n"
     ]
    },
    {
     "name": "stdout",
     "output_type": "stream",
     "text": [
      "Early stopping, best iteration is:\n",
      "[105]\tvalid_0's binary_logloss: 0.421779\tvalid_1's binary_logloss: 0.497035\n"
     ]
    },
    {
     "name": "stderr",
     "output_type": "stream",
     "text": [
      "num_leaves, val_score: 0.494774:   5%|5         | 1/20 [00:11<03:35, 11.34s/it][I 2024-02-20 14:40:40,166] Trial 7 finished with value: 0.4947743852241067 and parameters: {'num_leaves': 179}. Best is trial 7 with value: 0.4947743852241067.\n",
      "num_leaves, val_score: 0.494774:   5%|5         | 1/20 [00:11<03:35, 11.34s/it]"
     ]
    },
    {
     "name": "stdout",
     "output_type": "stream",
     "text": [
      "Early stopping, best iteration is:\n",
      "[77]\tvalid_0's binary_logloss: 0.23653\tvalid_1's binary_logloss: 0.494774\n"
     ]
    },
    {
     "name": "stderr",
     "output_type": "stream",
     "text": [
      "num_leaves, val_score: 0.494774:  10%|#         | 2/20 [00:17<02:30,  8.34s/it][I 2024-02-20 14:40:46,400] Trial 8 finished with value: 0.4947743852241067 and parameters: {'num_leaves': 74}. Best is trial 7 with value: 0.4947743852241067.\n",
      "num_leaves, val_score: 0.494774:  10%|#         | 2/20 [00:17<02:30,  8.34s/it]"
     ]
    },
    {
     "name": "stdout",
     "output_type": "stream",
     "text": [
      "Early stopping, best iteration is:\n",
      "[77]\tvalid_0's binary_logloss: 0.23653\tvalid_1's binary_logloss: 0.494774\n"
     ]
    },
    {
     "name": "stderr",
     "output_type": "stream",
     "text": [
      "num_leaves, val_score: 0.494774:  15%|#5        | 3/20 [00:22<01:54,  6.75s/it][I 2024-02-20 14:40:51,265] Trial 9 finished with value: 0.4947743852241067 and parameters: {'num_leaves': 59}. Best is trial 7 with value: 0.4947743852241067.\n",
      "num_leaves, val_score: 0.494774:  15%|#5        | 3/20 [00:22<01:54,  6.75s/it]"
     ]
    },
    {
     "name": "stdout",
     "output_type": "stream",
     "text": [
      "Early stopping, best iteration is:\n",
      "[77]\tvalid_0's binary_logloss: 0.23653\tvalid_1's binary_logloss: 0.494774\n"
     ]
    },
    {
     "name": "stderr",
     "output_type": "stream",
     "text": [
      "num_leaves, val_score: 0.494774:  20%|##        | 4/20 [00:36<02:32,  9.54s/it][I 2024-02-20 14:41:05,081] Trial 10 finished with value: 0.4947743852241067 and parameters: {'num_leaves': 243}. Best is trial 7 with value: 0.4947743852241067.\n",
      "num_leaves, val_score: 0.494774:  20%|##        | 4/20 [00:36<02:32,  9.54s/it]"
     ]
    },
    {
     "name": "stdout",
     "output_type": "stream",
     "text": [
      "Early stopping, best iteration is:\n",
      "[77]\tvalid_0's binary_logloss: 0.23653\tvalid_1's binary_logloss: 0.494774\n"
     ]
    },
    {
     "name": "stderr",
     "output_type": "stream",
     "text": [
      "num_leaves, val_score: 0.494774:  25%|##5       | 5/20 [00:45<02:22,  9.47s/it][I 2024-02-20 14:41:14,418] Trial 11 finished with value: 0.4947743852241067 and parameters: {'num_leaves': 155}. Best is trial 7 with value: 0.4947743852241067.\n",
      "num_leaves, val_score: 0.494774:  25%|##5       | 5/20 [00:45<02:22,  9.47s/it]"
     ]
    },
    {
     "name": "stdout",
     "output_type": "stream",
     "text": [
      "Early stopping, best iteration is:\n",
      "[77]\tvalid_0's binary_logloss: 0.23653\tvalid_1's binary_logloss: 0.494774\n"
     ]
    },
    {
     "name": "stderr",
     "output_type": "stream",
     "text": [
      "num_leaves, val_score: 0.494774:  30%|###       | 6/20 [00:51<01:57,  8.40s/it][I 2024-02-20 14:41:20,755] Trial 12 finished with value: 0.4947743852241067 and parameters: {'num_leaves': 91}. Best is trial 7 with value: 0.4947743852241067.\n",
      "num_leaves, val_score: 0.494774:  30%|###       | 6/20 [00:51<01:57,  8.40s/it]"
     ]
    },
    {
     "name": "stdout",
     "output_type": "stream",
     "text": [
      "Early stopping, best iteration is:\n",
      "[77]\tvalid_0's binary_logloss: 0.23653\tvalid_1's binary_logloss: 0.494774\n"
     ]
    },
    {
     "name": "stderr",
     "output_type": "stream",
     "text": [
      "num_leaves, val_score: 0.494774:  35%|###5      | 7/20 [01:01<01:56,  8.93s/it][I 2024-02-20 14:41:30,780] Trial 13 finished with value: 0.4947743852241067 and parameters: {'num_leaves': 172}. Best is trial 7 with value: 0.4947743852241067.\n",
      "num_leaves, val_score: 0.494774:  35%|###5      | 7/20 [01:01<01:56,  8.93s/it]"
     ]
    },
    {
     "name": "stdout",
     "output_type": "stream",
     "text": [
      "Early stopping, best iteration is:\n",
      "[77]\tvalid_0's binary_logloss: 0.23653\tvalid_1's binary_logloss: 0.494774\n"
     ]
    },
    {
     "name": "stderr",
     "output_type": "stream",
     "text": [
      "num_leaves, val_score: 0.494774:  40%|####      | 8/20 [01:04<01:22,  6.85s/it][I 2024-02-20 14:41:33,163] Trial 14 finished with value: 0.4947743852241067 and parameters: {'num_leaves': 12}. Best is trial 7 with value: 0.4947743852241067.\n",
      "num_leaves, val_score: 0.494774:  40%|####      | 8/20 [01:04<01:22,  6.85s/it]"
     ]
    },
    {
     "name": "stdout",
     "output_type": "stream",
     "text": [
      "Early stopping, best iteration is:\n",
      "[77]\tvalid_0's binary_logloss: 0.23653\tvalid_1's binary_logloss: 0.494774\n"
     ]
    },
    {
     "name": "stderr",
     "output_type": "stream",
     "text": [
      "num_leaves, val_score: 0.494774:  45%|####5     | 9/20 [01:16<01:32,  8.42s/it][I 2024-02-20 14:41:45,028] Trial 15 finished with value: 0.4947743852241067 and parameters: {'num_leaves': 211}. Best is trial 7 with value: 0.4947743852241067.\n",
      "num_leaves, val_score: 0.494774:  45%|####5     | 9/20 [01:16<01:32,  8.42s/it]"
     ]
    },
    {
     "name": "stdout",
     "output_type": "stream",
     "text": [
      "Early stopping, best iteration is:\n",
      "[77]\tvalid_0's binary_logloss: 0.23653\tvalid_1's binary_logloss: 0.494774\n"
     ]
    },
    {
     "name": "stderr",
     "output_type": "stream",
     "text": [
      "num_leaves, val_score: 0.494774:  50%|#####     | 10/20 [01:23<01:20,  8.05s/it][I 2024-02-20 14:41:52,272] Trial 16 finished with value: 0.4947743852241067 and parameters: {'num_leaves': 109}. Best is trial 7 with value: 0.4947743852241067.\n",
      "num_leaves, val_score: 0.494774:  50%|#####     | 10/20 [01:23<01:20,  8.05s/it]"
     ]
    },
    {
     "name": "stdout",
     "output_type": "stream",
     "text": [
      "Early stopping, best iteration is:\n",
      "[77]\tvalid_0's binary_logloss: 0.23653\tvalid_1's binary_logloss: 0.494774\n"
     ]
    },
    {
     "name": "stderr",
     "output_type": "stream",
     "text": [
      "num_leaves, val_score: 0.494774:  55%|#####5    | 11/20 [01:27<01:02,  6.96s/it][I 2024-02-20 14:41:56,753] Trial 17 finished with value: 0.4947743852241067 and parameters: {'num_leaves': 52}. Best is trial 7 with value: 0.4947743852241067.\n",
      "num_leaves, val_score: 0.494774:  55%|#####5    | 11/20 [01:27<01:02,  6.96s/it]"
     ]
    },
    {
     "name": "stdout",
     "output_type": "stream",
     "text": [
      "Early stopping, best iteration is:\n",
      "[77]\tvalid_0's binary_logloss: 0.23653\tvalid_1's binary_logloss: 0.494774\n"
     ]
    },
    {
     "name": "stderr",
     "output_type": "stream",
     "text": [
      "num_leaves, val_score: 0.494774:  60%|######    | 12/20 [01:36<01:00,  7.60s/it][I 2024-02-20 14:42:05,825] Trial 18 finished with value: 0.4947743852241067 and parameters: {'num_leaves': 151}. Best is trial 7 with value: 0.4947743852241067.\n",
      "num_leaves, val_score: 0.494774:  60%|######    | 12/20 [01:37<01:00,  7.60s/it]"
     ]
    },
    {
     "name": "stdout",
     "output_type": "stream",
     "text": [
      "Early stopping, best iteration is:\n",
      "[77]\tvalid_0's binary_logloss: 0.23653\tvalid_1's binary_logloss: 0.494774\n"
     ]
    },
    {
     "name": "stderr",
     "output_type": "stream",
     "text": [
      "num_leaves, val_score: 0.494774:  65%|######5   | 13/20 [01:48<01:00,  8.70s/it][I 2024-02-20 14:42:17,048] Trial 19 finished with value: 0.4947743852241067 and parameters: {'num_leaves': 197}. Best is trial 7 with value: 0.4947743852241067.\n",
      "num_leaves, val_score: 0.494774:  65%|######5   | 13/20 [01:48<01:00,  8.70s/it]"
     ]
    },
    {
     "name": "stdout",
     "output_type": "stream",
     "text": [
      "Early stopping, best iteration is:\n",
      "[77]\tvalid_0's binary_logloss: 0.23653\tvalid_1's binary_logloss: 0.494774\n"
     ]
    },
    {
     "name": "stderr",
     "output_type": "stream",
     "text": [
      "num_leaves, val_score: 0.494774:  70%|#######   | 14/20 [01:55<00:49,  8.32s/it][I 2024-02-20 14:42:24,496] Trial 20 finished with value: 0.4947743852241067 and parameters: {'num_leaves': 115}. Best is trial 7 with value: 0.4947743852241067.\n",
      "num_leaves, val_score: 0.494774:  70%|#######   | 14/20 [01:55<00:49,  8.32s/it]"
     ]
    },
    {
     "name": "stdout",
     "output_type": "stream",
     "text": [
      "Early stopping, best iteration is:\n",
      "[77]\tvalid_0's binary_logloss: 0.23653\tvalid_1's binary_logloss: 0.494774\n"
     ]
    },
    {
     "name": "stderr",
     "output_type": "stream",
     "text": [
      "num_leaves, val_score: 0.494774:  75%|#######5  | 15/20 [02:00<00:36,  7.27s/it][I 2024-02-20 14:42:29,338] Trial 21 finished with value: 0.4947743852241067 and parameters: {'num_leaves': 61}. Best is trial 7 with value: 0.4947743852241067.\n",
      "num_leaves, val_score: 0.494774:  75%|#######5  | 15/20 [02:00<00:36,  7.27s/it]"
     ]
    },
    {
     "name": "stdout",
     "output_type": "stream",
     "text": [
      "Early stopping, best iteration is:\n",
      "[77]\tvalid_0's binary_logloss: 0.23653\tvalid_1's binary_logloss: 0.494774\n"
     ]
    },
    {
     "name": "stderr",
     "output_type": "stream",
     "text": [
      "num_leaves, val_score: 0.494774:  80%|########  | 16/20 [02:05<00:26,  6.57s/it][I 2024-02-20 14:42:34,273] Trial 22 finished with value: 0.4947743852241067 and parameters: {'num_leaves': 63}. Best is trial 7 with value: 0.4947743852241067.\n",
      "num_leaves, val_score: 0.494774:  80%|########  | 16/20 [02:05<00:26,  6.57s/it]"
     ]
    },
    {
     "name": "stdout",
     "output_type": "stream",
     "text": [
      "Early stopping, best iteration is:\n",
      "[77]\tvalid_0's binary_logloss: 0.23653\tvalid_1's binary_logloss: 0.494774\n"
     ]
    },
    {
     "name": "stderr",
     "output_type": "stream",
     "text": [
      "num_leaves, val_score: 0.494774:  85%|########5 | 17/20 [02:06<00:15,  5.01s/it][I 2024-02-20 14:42:35,670] Trial 23 finished with value: 0.4947743852241067 and parameters: {'num_leaves': 2}. Best is trial 7 with value: 0.4947743852241067.\n",
      "num_leaves, val_score: 0.494774:  85%|########5 | 17/20 [02:06<00:15,  5.01s/it]"
     ]
    },
    {
     "name": "stdout",
     "output_type": "stream",
     "text": [
      "Early stopping, best iteration is:\n",
      "[77]\tvalid_0's binary_logloss: 0.23653\tvalid_1's binary_logloss: 0.494774\n"
     ]
    },
    {
     "name": "stderr",
     "output_type": "stream",
     "text": [
      "num_leaves, val_score: 0.494774:  90%|######### | 18/20 [02:10<00:09,  4.68s/it][I 2024-02-20 14:42:39,587] Trial 24 finished with value: 0.4947743852241067 and parameters: {'num_leaves': 41}. Best is trial 7 with value: 0.4947743852241067.\n",
      "num_leaves, val_score: 0.494774:  90%|######### | 18/20 [02:10<00:09,  4.68s/it]"
     ]
    },
    {
     "name": "stdout",
     "output_type": "stream",
     "text": [
      "Early stopping, best iteration is:\n",
      "[77]\tvalid_0's binary_logloss: 0.23653\tvalid_1's binary_logloss: 0.494774\n"
     ]
    },
    {
     "name": "stderr",
     "output_type": "stream",
     "text": [
      "num_leaves, val_score: 0.494774:  95%|#########5| 19/20 [02:16<00:05,  5.11s/it][I 2024-02-20 14:42:45,703] Trial 25 finished with value: 0.4947743852241067 and parameters: {'num_leaves': 87}. Best is trial 7 with value: 0.4947743852241067.\n",
      "num_leaves, val_score: 0.494774:  95%|#########5| 19/20 [02:16<00:05,  5.11s/it]"
     ]
    },
    {
     "name": "stdout",
     "output_type": "stream",
     "text": [
      "Early stopping, best iteration is:\n",
      "[77]\tvalid_0's binary_logloss: 0.23653\tvalid_1's binary_logloss: 0.494774\n"
     ]
    },
    {
     "name": "stderr",
     "output_type": "stream",
     "text": [
      "num_leaves, val_score: 0.494774: 100%|##########| 20/20 [02:25<00:00,  6.16s/it][I 2024-02-20 14:42:54,303] Trial 26 finished with value: 0.4947743852241067 and parameters: {'num_leaves': 134}. Best is trial 7 with value: 0.4947743852241067.\n",
      "num_leaves, val_score: 0.494774: 100%|##########| 20/20 [02:25<00:00,  7.27s/it]\n"
     ]
    },
    {
     "name": "stdout",
     "output_type": "stream",
     "text": [
      "Early stopping, best iteration is:\n",
      "[77]\tvalid_0's binary_logloss: 0.23653\tvalid_1's binary_logloss: 0.494774\n"
     ]
    },
    {
     "name": "stderr",
     "output_type": "stream",
     "text": [
      "bagging, val_score: 0.494774:  10%|#         | 1/10 [00:10<01:31, 10.21s/it][I 2024-02-20 14:43:04,526] Trial 27 finished with value: 0.4947743852241067 and parameters: {'bagging_fraction': 0.8290966202970953, 'bagging_freq': 5}. Best is trial 27 with value: 0.4947743852241067.\n",
      "bagging, val_score: 0.494774:  10%|#         | 1/10 [00:10<01:31, 10.21s/it]"
     ]
    },
    {
     "name": "stdout",
     "output_type": "stream",
     "text": [
      "Early stopping, best iteration is:\n",
      "[77]\tvalid_0's binary_logloss: 0.23653\tvalid_1's binary_logloss: 0.494774\n"
     ]
    },
    {
     "name": "stderr",
     "output_type": "stream",
     "text": [
      "bagging, val_score: 0.494774:  20%|##        | 2/10 [00:19<01:18,  9.79s/it][I 2024-02-20 14:43:14,023] Trial 28 finished with value: 0.4947743852241067 and parameters: {'bagging_fraction': 0.4507667621429555, 'bagging_freq': 1}. Best is trial 27 with value: 0.4947743852241067.\n",
      "bagging, val_score: 0.494774:  20%|##        | 2/10 [00:19<01:18,  9.79s/it]"
     ]
    },
    {
     "name": "stdout",
     "output_type": "stream",
     "text": [
      "Early stopping, best iteration is:\n",
      "[77]\tvalid_0's binary_logloss: 0.23653\tvalid_1's binary_logloss: 0.494774\n"
     ]
    },
    {
     "name": "stderr",
     "output_type": "stream",
     "text": [
      "bagging, val_score: 0.494774:  30%|###       | 3/10 [00:30<01:11, 10.16s/it][I 2024-02-20 14:43:24,619] Trial 29 finished with value: 0.4947743852241067 and parameters: {'bagging_fraction': 0.9928650935900654, 'bagging_freq': 7}. Best is trial 27 with value: 0.4947743852241067.\n",
      "bagging, val_score: 0.494774:  30%|###       | 3/10 [00:30<01:11, 10.16s/it]"
     ]
    },
    {
     "name": "stdout",
     "output_type": "stream",
     "text": [
      "Early stopping, best iteration is:\n",
      "[77]\tvalid_0's binary_logloss: 0.23653\tvalid_1's binary_logloss: 0.494774\n"
     ]
    },
    {
     "name": "stderr",
     "output_type": "stream",
     "text": [
      "bagging, val_score: 0.494774:  40%|####      | 4/10 [00:39<00:58,  9.81s/it][I 2024-02-20 14:43:33,908] Trial 30 finished with value: 0.4947743852241067 and parameters: {'bagging_fraction': 0.40230288654025664, 'bagging_freq': 2}. Best is trial 27 with value: 0.4947743852241067.\n",
      "bagging, val_score: 0.494774:  40%|####      | 4/10 [00:39<00:58,  9.81s/it]"
     ]
    },
    {
     "name": "stdout",
     "output_type": "stream",
     "text": [
      "Early stopping, best iteration is:\n",
      "[77]\tvalid_0's binary_logloss: 0.23653\tvalid_1's binary_logloss: 0.494774\n"
     ]
    },
    {
     "name": "stderr",
     "output_type": "stream",
     "text": [
      "bagging, val_score: 0.494774:  50%|#####     | 5/10 [00:49<00:49,  9.88s/it][I 2024-02-20 14:43:43,901] Trial 31 finished with value: 0.4947743852241067 and parameters: {'bagging_fraction': 0.6455902284260232, 'bagging_freq': 4}. Best is trial 27 with value: 0.4947743852241067.\n",
      "bagging, val_score: 0.494774:  50%|#####     | 5/10 [00:49<00:49,  9.88s/it]"
     ]
    },
    {
     "name": "stdout",
     "output_type": "stream",
     "text": [
      "Early stopping, best iteration is:\n",
      "[77]\tvalid_0's binary_logloss: 0.23653\tvalid_1's binary_logloss: 0.494774\n"
     ]
    },
    {
     "name": "stderr",
     "output_type": "stream",
     "text": [
      "bagging, val_score: 0.494774:  60%|######    | 6/10 [00:59<00:39,  9.91s/it][I 2024-02-20 14:43:53,886] Trial 32 finished with value: 0.4947743852241067 and parameters: {'bagging_fraction': 0.6409107096395048, 'bagging_freq': 7}. Best is trial 27 with value: 0.4947743852241067.\n",
      "bagging, val_score: 0.494774:  60%|######    | 6/10 [00:59<00:39,  9.91s/it]"
     ]
    },
    {
     "name": "stdout",
     "output_type": "stream",
     "text": [
      "Early stopping, best iteration is:\n",
      "[77]\tvalid_0's binary_logloss: 0.23653\tvalid_1's binary_logloss: 0.494774\n"
     ]
    },
    {
     "name": "stderr",
     "output_type": "stream",
     "text": [
      "bagging, val_score: 0.494774:  70%|#######   | 7/10 [01:10<00:30, 10.09s/it][I 2024-02-20 14:44:04,341] Trial 33 finished with value: 0.4947743852241067 and parameters: {'bagging_fraction': 0.9877395996139684, 'bagging_freq': 4}. Best is trial 27 with value: 0.4947743852241067.\n",
      "bagging, val_score: 0.494774:  70%|#######   | 7/10 [01:10<00:30, 10.09s/it]"
     ]
    },
    {
     "name": "stdout",
     "output_type": "stream",
     "text": [
      "Early stopping, best iteration is:\n",
      "[77]\tvalid_0's binary_logloss: 0.23653\tvalid_1's binary_logloss: 0.494774\n"
     ]
    },
    {
     "name": "stderr",
     "output_type": "stream",
     "text": [
      "bagging, val_score: 0.494774:  80%|########  | 8/10 [01:20<00:20, 10.13s/it][I 2024-02-20 14:44:14,542] Trial 34 finished with value: 0.4947743852241067 and parameters: {'bagging_fraction': 0.7972185404201217, 'bagging_freq': 2}. Best is trial 27 with value: 0.4947743852241067.\n",
      "bagging, val_score: 0.494774:  80%|########  | 8/10 [01:20<00:20, 10.13s/it]"
     ]
    },
    {
     "name": "stdout",
     "output_type": "stream",
     "text": [
      "Early stopping, best iteration is:\n",
      "[77]\tvalid_0's binary_logloss: 0.23653\tvalid_1's binary_logloss: 0.494774\n"
     ]
    },
    {
     "name": "stderr",
     "output_type": "stream",
     "text": [
      "bagging, val_score: 0.494774:  90%|######### | 9/10 [01:29<00:10, 10.01s/it][I 2024-02-20 14:44:24,293] Trial 35 finished with value: 0.4947743852241067 and parameters: {'bagging_fraction': 0.52426135995336, 'bagging_freq': 5}. Best is trial 27 with value: 0.4947743852241067.\n",
      "bagging, val_score: 0.494774:  90%|######### | 9/10 [01:29<00:10, 10.01s/it]"
     ]
    },
    {
     "name": "stdout",
     "output_type": "stream",
     "text": [
      "Early stopping, best iteration is:\n",
      "[77]\tvalid_0's binary_logloss: 0.23653\tvalid_1's binary_logloss: 0.494774\n"
     ]
    },
    {
     "name": "stderr",
     "output_type": "stream",
     "text": [
      "bagging, val_score: 0.494774: 100%|##########| 10/10 [01:39<00:00,  9.92s/it][I 2024-02-20 14:44:34,018] Trial 36 finished with value: 0.4947743852241067 and parameters: {'bagging_fraction': 0.5501286373091325, 'bagging_freq': 6}. Best is trial 27 with value: 0.4947743852241067.\n",
      "bagging, val_score: 0.494774: 100%|##########| 10/10 [01:39<00:00,  9.97s/it]\n"
     ]
    },
    {
     "name": "stdout",
     "output_type": "stream",
     "text": [
      "Early stopping, best iteration is:\n",
      "[77]\tvalid_0's binary_logloss: 0.23653\tvalid_1's binary_logloss: 0.494774\n"
     ]
    },
    {
     "name": "stderr",
     "output_type": "stream",
     "text": [
      "feature_fraction_stage2, val_score: 0.494774:  17%|#6        | 1/6 [00:10<00:52, 10.49s/it][I 2024-02-20 14:44:44,517] Trial 37 finished with value: 0.4947743852241067 and parameters: {'feature_fraction': 0.516}. Best is trial 37 with value: 0.4947743852241067.\n",
      "feature_fraction_stage2, val_score: 0.494774:  17%|#6        | 1/6 [00:10<00:52, 10.49s/it]"
     ]
    },
    {
     "name": "stdout",
     "output_type": "stream",
     "text": [
      "Early stopping, best iteration is:\n",
      "[77]\tvalid_0's binary_logloss: 0.23653\tvalid_1's binary_logloss: 0.494774\n"
     ]
    },
    {
     "name": "stderr",
     "output_type": "stream",
     "text": [
      "feature_fraction_stage2, val_score: 0.494774:  33%|###3      | 2/6 [00:20<00:41, 10.41s/it][I 2024-02-20 14:44:54,884] Trial 38 finished with value: 0.4947743852241067 and parameters: {'feature_fraction': 0.484}. Best is trial 37 with value: 0.4947743852241067.\n",
      "feature_fraction_stage2, val_score: 0.494774:  33%|###3      | 2/6 [00:20<00:41, 10.41s/it]"
     ]
    },
    {
     "name": "stdout",
     "output_type": "stream",
     "text": [
      "Early stopping, best iteration is:\n",
      "[77]\tvalid_0's binary_logloss: 0.23653\tvalid_1's binary_logloss: 0.494774\n"
     ]
    },
    {
     "name": "stderr",
     "output_type": "stream",
     "text": [
      "feature_fraction_stage2, val_score: 0.494774:  50%|#####     | 3/6 [00:30<00:29,  9.94s/it][I 2024-02-20 14:45:04,251] Trial 39 finished with value: 0.4947743852241067 and parameters: {'feature_fraction': 0.42}. Best is trial 37 with value: 0.4947743852241067.\n",
      "feature_fraction_stage2, val_score: 0.494774:  50%|#####     | 3/6 [00:30<00:29,  9.94s/it]"
     ]
    },
    {
     "name": "stdout",
     "output_type": "stream",
     "text": [
      "Early stopping, best iteration is:\n",
      "[77]\tvalid_0's binary_logloss: 0.23653\tvalid_1's binary_logloss: 0.494774\n"
     ]
    },
    {
     "name": "stderr",
     "output_type": "stream",
     "text": [
      "feature_fraction_stage2, val_score: 0.494774:  67%|######6   | 4/6 [00:41<00:20, 10.37s/it][I 2024-02-20 14:45:15,286] Trial 40 finished with value: 0.4947743852241067 and parameters: {'feature_fraction': 0.5479999999999999}. Best is trial 37 with value: 0.4947743852241067.\n",
      "feature_fraction_stage2, val_score: 0.494774:  67%|######6   | 4/6 [00:41<00:20, 10.37s/it]"
     ]
    },
    {
     "name": "stdout",
     "output_type": "stream",
     "text": [
      "Early stopping, best iteration is:\n",
      "[77]\tvalid_0's binary_logloss: 0.23653\tvalid_1's binary_logloss: 0.494774\n"
     ]
    },
    {
     "name": "stderr",
     "output_type": "stream",
     "text": [
      "feature_fraction_stage2, val_score: 0.494774:  83%|########3 | 5/6 [00:51<00:10, 10.17s/it][I 2024-02-20 14:45:25,090] Trial 41 finished with value: 0.4947743852241067 and parameters: {'feature_fraction': 0.45199999999999996}. Best is trial 37 with value: 0.4947743852241067.\n",
      "feature_fraction_stage2, val_score: 0.494774:  83%|########3 | 5/6 [00:51<00:10, 10.17s/it]"
     ]
    },
    {
     "name": "stdout",
     "output_type": "stream",
     "text": [
      "Early stopping, best iteration is:\n",
      "[77]\tvalid_0's binary_logloss: 0.23653\tvalid_1's binary_logloss: 0.494774\n"
     ]
    },
    {
     "name": "stderr",
     "output_type": "stream",
     "text": [
      "feature_fraction_stage2, val_score: 0.494774: 100%|##########| 6/6 [01:02<00:00, 10.60s/it][I 2024-02-20 14:45:36,527] Trial 42 finished with value: 0.4947743852241067 and parameters: {'feature_fraction': 0.58}. Best is trial 37 with value: 0.4947743852241067.\n",
      "feature_fraction_stage2, val_score: 0.494774: 100%|##########| 6/6 [01:02<00:00, 10.42s/it]\n"
     ]
    },
    {
     "name": "stdout",
     "output_type": "stream",
     "text": [
      "Early stopping, best iteration is:\n",
      "[77]\tvalid_0's binary_logloss: 0.23653\tvalid_1's binary_logloss: 0.494774\n"
     ]
    },
    {
     "name": "stderr",
     "output_type": "stream",
     "text": [
      "regularization_factors, val_score: 0.494774:   5%|5         | 1/20 [00:13<04:08, 13.06s/it][I 2024-02-20 14:45:49,599] Trial 43 finished with value: 0.4947743852241067 and parameters: {'lambda_l1': 0.027318025396945597, 'lambda_l2': 0.0039995152383668865}. Best is trial 43 with value: 0.4947743852241067.\n",
      "regularization_factors, val_score: 0.494774:   5%|5         | 1/20 [00:13<04:08, 13.06s/it]"
     ]
    },
    {
     "name": "stdout",
     "output_type": "stream",
     "text": [
      "Early stopping, best iteration is:\n",
      "[77]\tvalid_0's binary_logloss: 0.23653\tvalid_1's binary_logloss: 0.494774\n"
     ]
    },
    {
     "name": "stderr",
     "output_type": "stream",
     "text": [
      "regularization_factors, val_score: 0.494763:  10%|#         | 2/20 [00:25<03:50, 12.81s/it][I 2024-02-20 14:46:02,232] Trial 44 finished with value: 0.4947625737256657 and parameters: {'lambda_l1': 5.774327768712259e-08, 'lambda_l2': 1.1818171572391107e-08}. Best is trial 44 with value: 0.4947625737256657.\n",
      "regularization_factors, val_score: 0.494763:  10%|#         | 2/20 [00:25<03:50, 12.81s/it]"
     ]
    },
    {
     "name": "stdout",
     "output_type": "stream",
     "text": [
      "Early stopping, best iteration is:\n",
      "[77]\tvalid_0's binary_logloss: 0.23653\tvalid_1's binary_logloss: 0.494763\n"
     ]
    },
    {
     "name": "stderr",
     "output_type": "stream",
     "text": [
      "regularization_factors, val_score: 0.494763:  15%|#5        | 3/20 [00:41<03:58, 14.06s/it][I 2024-02-20 14:46:17,775] Trial 45 finished with value: 0.4947625737256657 and parameters: {'lambda_l1': 2.6203374505370756e-08, 'lambda_l2': 1.143089848692053e-08}. Best is trial 44 with value: 0.4947625737256657.\n",
      "regularization_factors, val_score: 0.494763:  15%|#5        | 3/20 [00:41<03:58, 14.06s/it]"
     ]
    },
    {
     "name": "stdout",
     "output_type": "stream",
     "text": [
      "Early stopping, best iteration is:\n",
      "[77]\tvalid_0's binary_logloss: 0.23653\tvalid_1's binary_logloss: 0.494763\n"
     ]
    },
    {
     "name": "stderr",
     "output_type": "stream",
     "text": [
      "regularization_factors, val_score: 0.494763:  20%|##        | 4/20 [00:53<03:33, 13.34s/it][I 2024-02-20 14:46:30,028] Trial 46 finished with value: 0.4947625737256657 and parameters: {'lambda_l1': 1.0827876610430767e-08, 'lambda_l2': 9.762144175011304e-08}. Best is trial 44 with value: 0.4947625737256657.\n",
      "regularization_factors, val_score: 0.494763:  20%|##        | 4/20 [00:53<03:33, 13.34s/it]"
     ]
    },
    {
     "name": "stdout",
     "output_type": "stream",
     "text": [
      "Early stopping, best iteration is:\n",
      "[77]\tvalid_0's binary_logloss: 0.23653\tvalid_1's binary_logloss: 0.494763\n"
     ]
    },
    {
     "name": "stderr",
     "output_type": "stream",
     "text": [
      "regularization_factors, val_score: 0.494763:  25%|##5       | 5/20 [01:05<03:14, 12.96s/it][I 2024-02-20 14:46:42,304] Trial 47 finished with value: 0.4947625737256657 and parameters: {'lambda_l1': 1.2909084488273607e-08, 'lambda_l2': 1.0726580414868991e-08}. Best is trial 44 with value: 0.4947625737256657.\n",
      "regularization_factors, val_score: 0.494763:  25%|##5       | 5/20 [01:05<03:14, 12.96s/it]"
     ]
    },
    {
     "name": "stdout",
     "output_type": "stream",
     "text": [
      "Early stopping, best iteration is:\n",
      "[77]\tvalid_0's binary_logloss: 0.23653\tvalid_1's binary_logloss: 0.494763\n"
     ]
    },
    {
     "name": "stderr",
     "output_type": "stream",
     "text": [
      "regularization_factors, val_score: 0.494763:  30%|###       | 6/20 [01:18<02:58, 12.75s/it][I 2024-02-20 14:46:54,647] Trial 48 finished with value: 0.4947625737256657 and parameters: {'lambda_l1': 1.5737576210885603e-08, 'lambda_l2': 1.552378211751721e-08}. Best is trial 44 with value: 0.4947625737256657.\n",
      "regularization_factors, val_score: 0.494763:  30%|###       | 6/20 [01:18<02:58, 12.75s/it]"
     ]
    },
    {
     "name": "stdout",
     "output_type": "stream",
     "text": [
      "Early stopping, best iteration is:\n",
      "[77]\tvalid_0's binary_logloss: 0.23653\tvalid_1's binary_logloss: 0.494763\n"
     ]
    },
    {
     "name": "stderr",
     "output_type": "stream",
     "text": [
      "regularization_factors, val_score: 0.494745:  35%|###5      | 7/20 [01:30<02:43, 12.57s/it][I 2024-02-20 14:47:06,840] Trial 49 finished with value: 0.494745253270076 and parameters: {'lambda_l1': 1.1275348123800862e-08, 'lambda_l2': 1.0482521038888561e-08}. Best is trial 49 with value: 0.494745253270076.\n",
      "regularization_factors, val_score: 0.494745:  35%|###5      | 7/20 [01:30<02:43, 12.57s/it]"
     ]
    },
    {
     "name": "stdout",
     "output_type": "stream",
     "text": [
      "Early stopping, best iteration is:\n",
      "[77]\tvalid_0's binary_logloss: 0.23653\tvalid_1's binary_logloss: 0.494745\n"
     ]
    },
    {
     "name": "stderr",
     "output_type": "stream",
     "text": [
      "regularization_factors, val_score: 0.494745:  40%|####      | 8/20 [01:42<02:29, 12.49s/it][I 2024-02-20 14:47:19,170] Trial 50 finished with value: 0.494745253270076 and parameters: {'lambda_l1': 1.1795624567145395e-08, 'lambda_l2': 1.547921425087787e-08}. Best is trial 49 with value: 0.494745253270076.\n",
      "regularization_factors, val_score: 0.494745:  40%|####      | 8/20 [01:42<02:29, 12.49s/it]"
     ]
    },
    {
     "name": "stdout",
     "output_type": "stream",
     "text": [
      "Early stopping, best iteration is:\n",
      "[77]\tvalid_0's binary_logloss: 0.23653\tvalid_1's binary_logloss: 0.494745\n"
     ]
    },
    {
     "name": "stderr",
     "output_type": "stream",
     "text": [
      "regularization_factors, val_score: 0.494745:  45%|####5     | 9/20 [01:54<02:16, 12.41s/it][I 2024-02-20 14:47:31,381] Trial 51 finished with value: 0.494745253270076 and parameters: {'lambda_l1': 1.3240261519710649e-08, 'lambda_l2': 1.40657628480856e-08}. Best is trial 49 with value: 0.494745253270076.\n",
      "regularization_factors, val_score: 0.494745:  45%|####5     | 9/20 [01:54<02:16, 12.41s/it]"
     ]
    },
    {
     "name": "stdout",
     "output_type": "stream",
     "text": [
      "Early stopping, best iteration is:\n",
      "[77]\tvalid_0's binary_logloss: 0.23653\tvalid_1's binary_logloss: 0.494745\n"
     ]
    },
    {
     "name": "stderr",
     "output_type": "stream",
     "text": [
      "regularization_factors, val_score: 0.494745:  50%|#####     | 10/20 [02:07<02:03, 12.38s/it][I 2024-02-20 14:47:43,724] Trial 52 finished with value: 0.494745253270076 and parameters: {'lambda_l1': 1.3145604035746423e-08, 'lambda_l2': 1.3018335886177475e-08}. Best is trial 49 with value: 0.494745253270076.\n",
      "regularization_factors, val_score: 0.494745:  50%|#####     | 10/20 [02:07<02:03, 12.38s/it]"
     ]
    },
    {
     "name": "stdout",
     "output_type": "stream",
     "text": [
      "Early stopping, best iteration is:\n",
      "[77]\tvalid_0's binary_logloss: 0.23653\tvalid_1's binary_logloss: 0.494745\n"
     ]
    },
    {
     "name": "stderr",
     "output_type": "stream",
     "text": [
      "regularization_factors, val_score: 0.494744:  55%|#####5    | 11/20 [02:19<01:51, 12.37s/it][I 2024-02-20 14:47:56,053] Trial 53 finished with value: 0.4947443350855672 and parameters: {'lambda_l1': 1.637169932580903e-08, 'lambda_l2': 1.0004109060556754e-08}. Best is trial 53 with value: 0.4947443350855672.\n",
      "regularization_factors, val_score: 0.494744:  55%|#####5    | 11/20 [02:19<01:51, 12.37s/it]"
     ]
    },
    {
     "name": "stdout",
     "output_type": "stream",
     "text": [
      "Early stopping, best iteration is:\n",
      "[77]\tvalid_0's binary_logloss: 0.23653\tvalid_1's binary_logloss: 0.494744\n"
     ]
    },
    {
     "name": "stderr",
     "output_type": "stream",
     "text": [
      "regularization_factors, val_score: 0.494744:  60%|######    | 12/20 [02:31<01:38, 12.33s/it][I 2024-02-20 14:48:08,312] Trial 54 finished with value: 0.4947443350855672 and parameters: {'lambda_l1': 1.306303242698983e-08, 'lambda_l2': 1.061285410895467e-08}. Best is trial 53 with value: 0.4947443350855672.\n",
      "regularization_factors, val_score: 0.494744:  60%|######    | 12/20 [02:31<01:38, 12.33s/it]"
     ]
    },
    {
     "name": "stdout",
     "output_type": "stream",
     "text": [
      "Early stopping, best iteration is:\n",
      "[77]\tvalid_0's binary_logloss: 0.23653\tvalid_1's binary_logloss: 0.494744\n"
     ]
    },
    {
     "name": "stderr",
     "output_type": "stream",
     "text": [
      "regularization_factors, val_score: 0.494744:  65%|######5   | 13/20 [02:44<01:26, 12.42s/it][I 2024-02-20 14:48:20,933] Trial 55 finished with value: 0.4947443350855672 and parameters: {'lambda_l1': 1.0666394306761312e-08, 'lambda_l2': 1.0139383076397528e-08}. Best is trial 53 with value: 0.4947443350855672.\n",
      "regularization_factors, val_score: 0.494744:  65%|######5   | 13/20 [02:44<01:26, 12.42s/it]"
     ]
    },
    {
     "name": "stdout",
     "output_type": "stream",
     "text": [
      "Early stopping, best iteration is:\n",
      "[77]\tvalid_0's binary_logloss: 0.23653\tvalid_1's binary_logloss: 0.494744\n"
     ]
    },
    {
     "name": "stderr",
     "output_type": "stream",
     "text": [
      "regularization_factors, val_score: 0.494741:  70%|#######   | 14/20 [02:56<01:14, 12.43s/it][I 2024-02-20 14:48:33,378] Trial 56 finished with value: 0.4947405271675563 and parameters: {'lambda_l1': 5.348516107764226e-07, 'lambda_l2': 1.0791799628426175e-06}. Best is trial 56 with value: 0.4947405271675563.\n",
      "regularization_factors, val_score: 0.494741:  70%|#######   | 14/20 [02:56<01:14, 12.43s/it]"
     ]
    },
    {
     "name": "stdout",
     "output_type": "stream",
     "text": [
      "Early stopping, best iteration is:\n",
      "[77]\tvalid_0's binary_logloss: 0.23653\tvalid_1's binary_logloss: 0.494741\n"
     ]
    },
    {
     "name": "stderr",
     "output_type": "stream",
     "text": [
      "regularization_factors, val_score: 0.494741:  75%|#######5  | 15/20 [03:09<01:01, 12.36s/it][I 2024-02-20 14:48:45,590] Trial 57 finished with value: 0.4947405271675563 and parameters: {'lambda_l1': 1.2322934716851922e-06, 'lambda_l2': 8.553934383408166e-07}. Best is trial 56 with value: 0.4947405271675563.\n",
      "regularization_factors, val_score: 0.494741:  75%|#######5  | 15/20 [03:09<01:01, 12.36s/it]"
     ]
    },
    {
     "name": "stdout",
     "output_type": "stream",
     "text": [
      "Early stopping, best iteration is:\n",
      "[77]\tvalid_0's binary_logloss: 0.23653\tvalid_1's binary_logloss: 0.494741\n"
     ]
    },
    {
     "name": "stderr",
     "output_type": "stream",
     "text": [
      "regularization_factors, val_score: 0.494741:  80%|########  | 16/20 [03:21<00:49, 12.39s/it][I 2024-02-20 14:48:58,054] Trial 58 finished with value: 0.4947405271675563 and parameters: {'lambda_l1': 1.543330137997573e-06, 'lambda_l2': 3.2630591204464983e-06}. Best is trial 56 with value: 0.4947405271675563.\n",
      "regularization_factors, val_score: 0.494741:  80%|########  | 16/20 [03:21<00:49, 12.39s/it]"
     ]
    },
    {
     "name": "stdout",
     "output_type": "stream",
     "text": [
      "Early stopping, best iteration is:\n",
      "[77]\tvalid_0's binary_logloss: 0.23653\tvalid_1's binary_logloss: 0.494741\n"
     ]
    },
    {
     "name": "stderr",
     "output_type": "stream",
     "text": [
      "regularization_factors, val_score: 0.494741:  85%|########5 | 17/20 [03:33<00:37, 12.35s/it][I 2024-02-20 14:49:10,298] Trial 59 finished with value: 0.4947405271675563 and parameters: {'lambda_l1': 1.2596814484340474e-06, 'lambda_l2': 1.9015864290539672e-06}. Best is trial 56 with value: 0.4947405271675563.\n",
      "regularization_factors, val_score: 0.494741:  85%|########5 | 17/20 [03:33<00:37, 12.35s/it]"
     ]
    },
    {
     "name": "stdout",
     "output_type": "stream",
     "text": [
      "Early stopping, best iteration is:\n",
      "[77]\tvalid_0's binary_logloss: 0.23653\tvalid_1's binary_logloss: 0.494741\n"
     ]
    },
    {
     "name": "stderr",
     "output_type": "stream",
     "text": [
      "regularization_factors, val_score: 0.494741:  90%|######### | 18/20 [03:46<00:24, 12.33s/it][I 2024-02-20 14:49:22,587] Trial 60 finished with value: 0.4947405271675563 and parameters: {'lambda_l1': 1.1121914451666081e-06, 'lambda_l2': 1.8519516236538272e-06}. Best is trial 56 with value: 0.4947405271675563.\n",
      "regularization_factors, val_score: 0.494741:  90%|######### | 18/20 [03:46<00:24, 12.33s/it]"
     ]
    },
    {
     "name": "stdout",
     "output_type": "stream",
     "text": [
      "Early stopping, best iteration is:\n",
      "[77]\tvalid_0's binary_logloss: 0.23653\tvalid_1's binary_logloss: 0.494741\n"
     ]
    },
    {
     "name": "stderr",
     "output_type": "stream",
     "text": [
      "regularization_factors, val_score: 0.494741:  95%|#########5| 19/20 [03:58<00:12, 12.32s/it][I 2024-02-20 14:49:34,866] Trial 61 finished with value: 0.4947405271675563 and parameters: {'lambda_l1': 1.4119720952698144e-06, 'lambda_l2': 2.101625643962962e-06}. Best is trial 56 with value: 0.4947405271675563.\n",
      "regularization_factors, val_score: 0.494741:  95%|#########5| 19/20 [03:58<00:12, 12.32s/it]"
     ]
    },
    {
     "name": "stdout",
     "output_type": "stream",
     "text": [
      "Early stopping, best iteration is:\n",
      "[77]\tvalid_0's binary_logloss: 0.23653\tvalid_1's binary_logloss: 0.494741\n"
     ]
    },
    {
     "name": "stderr",
     "output_type": "stream",
     "text": [
      "regularization_factors, val_score: 0.494741: 100%|##########| 20/20 [04:10<00:00, 12.30s/it][I 2024-02-20 14:49:47,150] Trial 62 finished with value: 0.4947405271675563 and parameters: {'lambda_l1': 2.115807853048792e-06, 'lambda_l2': 1.8534030837939803e-06}. Best is trial 56 with value: 0.4947405271675563.\n",
      "regularization_factors, val_score: 0.494741: 100%|##########| 20/20 [04:10<00:00, 12.53s/it]\n"
     ]
    },
    {
     "name": "stdout",
     "output_type": "stream",
     "text": [
      "Early stopping, best iteration is:\n",
      "[77]\tvalid_0's binary_logloss: 0.23653\tvalid_1's binary_logloss: 0.494741\n"
     ]
    },
    {
     "name": "stderr",
     "output_type": "stream",
     "text": [
      "min_child_samples, val_score: 0.494741:  20%|##        | 1/5 [00:11<00:45, 11.25s/it][I 2024-02-20 14:49:58,417] Trial 63 finished with value: 0.4947405271675563 and parameters: {'min_child_samples': 50}. Best is trial 63 with value: 0.4947405271675563.\n",
      "min_child_samples, val_score: 0.494741:  20%|##        | 1/5 [00:11<00:45, 11.25s/it]"
     ]
    },
    {
     "name": "stdout",
     "output_type": "stream",
     "text": [
      "Early stopping, best iteration is:\n",
      "[77]\tvalid_0's binary_logloss: 0.23653\tvalid_1's binary_logloss: 0.494741\n"
     ]
    },
    {
     "name": "stderr",
     "output_type": "stream",
     "text": [
      "min_child_samples, val_score: 0.494741:  40%|####      | 2/5 [00:23<00:35, 11.72s/it][I 2024-02-20 14:50:10,454] Trial 64 finished with value: 0.4947405271675563 and parameters: {'min_child_samples': 25}. Best is trial 63 with value: 0.4947405271675563.\n",
      "min_child_samples, val_score: 0.494741:  40%|####      | 2/5 [00:23<00:35, 11.72s/it]"
     ]
    },
    {
     "name": "stdout",
     "output_type": "stream",
     "text": [
      "Early stopping, best iteration is:\n",
      "[77]\tvalid_0's binary_logloss: 0.23653\tvalid_1's binary_logloss: 0.494741\n"
     ]
    },
    {
     "name": "stderr",
     "output_type": "stream",
     "text": [
      "min_child_samples, val_score: 0.494741:  60%|######    | 3/5 [00:36<00:25, 12.51s/it][I 2024-02-20 14:50:23,917] Trial 65 finished with value: 0.4947405271675563 and parameters: {'min_child_samples': 5}. Best is trial 63 with value: 0.4947405271675563.\n",
      "min_child_samples, val_score: 0.494741:  60%|######    | 3/5 [00:36<00:25, 12.51s/it]"
     ]
    },
    {
     "name": "stdout",
     "output_type": "stream",
     "text": [
      "Early stopping, best iteration is:\n",
      "[77]\tvalid_0's binary_logloss: 0.23653\tvalid_1's binary_logloss: 0.494741\n"
     ]
    },
    {
     "name": "stderr",
     "output_type": "stream",
     "text": [
      "min_child_samples, val_score: 0.494741:  80%|########  | 4/5 [00:47<00:11, 11.71s/it][I 2024-02-20 14:50:34,395] Trial 66 finished with value: 0.4947405271675563 and parameters: {'min_child_samples': 100}. Best is trial 63 with value: 0.4947405271675563.\n",
      "min_child_samples, val_score: 0.494741:  80%|########  | 4/5 [00:47<00:11, 11.71s/it]"
     ]
    },
    {
     "name": "stdout",
     "output_type": "stream",
     "text": [
      "Early stopping, best iteration is:\n",
      "[77]\tvalid_0's binary_logloss: 0.23653\tvalid_1's binary_logloss: 0.494741\n"
     ]
    },
    {
     "name": "stderr",
     "output_type": "stream",
     "text": [
      "min_child_samples, val_score: 0.494741: 100%|##########| 5/5 [01:00<00:00, 12.15s/it][I 2024-02-20 14:50:47,324] Trial 67 finished with value: 0.4947405271675563 and parameters: {'min_child_samples': 10}. Best is trial 63 with value: 0.4947405271675563.\n",
      "min_child_samples, val_score: 0.494741: 100%|##########| 5/5 [01:00<00:00, 12.03s/it]\n",
      "[I 2024-02-20 14:50:47,379] A new study created in memory with name: no-name-396a8d7e-7ebe-4ece-99c8-3cf784f1ed4e\n"
     ]
    },
    {
     "name": "stdout",
     "output_type": "stream",
     "text": [
      "Early stopping, best iteration is:\n",
      "[77]\tvalid_0's binary_logloss: 0.23653\tvalid_1's binary_logloss: 0.494741\n"
     ]
    },
    {
     "name": "stderr",
     "output_type": "stream",
     "text": [
      "feature_fraction, val_score: inf:   0%|          | 0/7 [00:00<?, ?it/s]"
     ]
    },
    {
     "name": "stdout",
     "output_type": "stream",
     "text": [
      "Training until validation scores don't improve for 100 rounds\n"
     ]
    },
    {
     "name": "stderr",
     "output_type": "stream",
     "text": [
      "feature_fraction, val_score: 0.495846:  14%|#4        | 1/7 [00:05<00:30,  5.07s/it][I 2024-02-20 14:50:52,465] Trial 0 finished with value: 0.49584608218684256 and parameters: {'feature_fraction': 0.5}. Best is trial 0 with value: 0.49584608218684256.\n",
      "feature_fraction, val_score: 0.495846:  14%|#4        | 1/7 [00:05<00:30,  5.07s/it]"
     ]
    },
    {
     "name": "stdout",
     "output_type": "stream",
     "text": [
      "Early stopping, best iteration is:\n",
      "[197]\tvalid_0's binary_logloss: 0.368767\tvalid_1's binary_logloss: 0.495846\n"
     ]
    },
    {
     "name": "stderr",
     "output_type": "stream",
     "text": [
      "feature_fraction, val_score: 0.495846:  29%|##8       | 2/7 [00:11<00:28,  5.61s/it][I 2024-02-20 14:50:58,440] Trial 1 finished with value: 0.49584608218684256 and parameters: {'feature_fraction': 0.7}. Best is trial 0 with value: 0.49584608218684256.\n",
      "feature_fraction, val_score: 0.495846:  29%|##8       | 2/7 [00:11<00:28,  5.61s/it]"
     ]
    },
    {
     "name": "stdout",
     "output_type": "stream",
     "text": [
      "Early stopping, best iteration is:\n",
      "[197]\tvalid_0's binary_logloss: 0.368767\tvalid_1's binary_logloss: 0.495846\n"
     ]
    },
    {
     "name": "stderr",
     "output_type": "stream",
     "text": [
      "feature_fraction, val_score: 0.495846:  43%|####2     | 3/7 [00:17<00:24,  6.01s/it][I 2024-02-20 14:51:04,937] Trial 2 finished with value: 0.49584608218684256 and parameters: {'feature_fraction': 0.8}. Best is trial 0 with value: 0.49584608218684256.\n",
      "feature_fraction, val_score: 0.495846:  43%|####2     | 3/7 [00:17<00:24,  6.01s/it]"
     ]
    },
    {
     "name": "stdout",
     "output_type": "stream",
     "text": [
      "Early stopping, best iteration is:\n",
      "[197]\tvalid_0's binary_logloss: 0.368767\tvalid_1's binary_logloss: 0.495846\n"
     ]
    },
    {
     "name": "stderr",
     "output_type": "stream",
     "text": [
      "feature_fraction, val_score: 0.495846:  57%|#####7    | 4/7 [00:21<00:16,  5.36s/it][I 2024-02-20 14:51:09,292] Trial 3 finished with value: 0.49584608218684256 and parameters: {'feature_fraction': 0.4}. Best is trial 0 with value: 0.49584608218684256.\n",
      "feature_fraction, val_score: 0.495846:  57%|#####7    | 4/7 [00:21<00:16,  5.36s/it]"
     ]
    },
    {
     "name": "stdout",
     "output_type": "stream",
     "text": [
      "Early stopping, best iteration is:\n",
      "[197]\tvalid_0's binary_logloss: 0.368767\tvalid_1's binary_logloss: 0.495846\n"
     ]
    },
    {
     "name": "stderr",
     "output_type": "stream",
     "text": [
      "feature_fraction, val_score: 0.495495:  71%|#######1  | 5/7 [00:27<00:10,  5.31s/it][I 2024-02-20 14:51:14,519] Trial 4 finished with value: 0.49549531407069386 and parameters: {'feature_fraction': 0.6}. Best is trial 4 with value: 0.49549531407069386.\n",
      "feature_fraction, val_score: 0.495495:  71%|#######1  | 5/7 [00:27<00:10,  5.31s/it]"
     ]
    },
    {
     "name": "stdout",
     "output_type": "stream",
     "text": [
      "Early stopping, best iteration is:\n",
      "[166]\tvalid_0's binary_logloss: 0.38462\tvalid_1's binary_logloss: 0.495495\n"
     ]
    },
    {
     "name": "stderr",
     "output_type": "stream",
     "text": [
      "feature_fraction, val_score: 0.495495:  86%|########5 | 6/7 [00:33<00:05,  5.81s/it][I 2024-02-20 14:51:21,285] Trial 5 finished with value: 0.49549531407069386 and parameters: {'feature_fraction': 0.8999999999999999}. Best is trial 4 with value: 0.49549531407069386.\n",
      "feature_fraction, val_score: 0.495495:  86%|########5 | 6/7 [00:33<00:05,  5.81s/it]"
     ]
    },
    {
     "name": "stdout",
     "output_type": "stream",
     "text": [
      "Early stopping, best iteration is:\n",
      "[166]\tvalid_0's binary_logloss: 0.38462\tvalid_1's binary_logloss: 0.495495\n"
     ]
    },
    {
     "name": "stderr",
     "output_type": "stream",
     "text": [
      "feature_fraction, val_score: 0.495495: 100%|##########| 7/7 [00:42<00:00,  6.58s/it][I 2024-02-20 14:51:29,446] Trial 6 finished with value: 0.49549531407069386 and parameters: {'feature_fraction': 1.0}. Best is trial 4 with value: 0.49549531407069386.\n",
      "feature_fraction, val_score: 0.495495: 100%|##########| 7/7 [00:42<00:00,  6.01s/it]\n"
     ]
    },
    {
     "name": "stdout",
     "output_type": "stream",
     "text": [
      "Early stopping, best iteration is:\n",
      "[166]\tvalid_0's binary_logloss: 0.38462\tvalid_1's binary_logloss: 0.495495\n"
     ]
    },
    {
     "name": "stderr",
     "output_type": "stream",
     "text": [
      "num_leaves, val_score: 0.495495:   5%|5         | 1/20 [00:18<05:59, 18.92s/it][I 2024-02-20 14:51:48,375] Trial 7 finished with value: 0.49549531407069386 and parameters: {'num_leaves': 179}. Best is trial 7 with value: 0.49549531407069386.\n",
      "num_leaves, val_score: 0.495495:   5%|5         | 1/20 [00:18<05:59, 18.92s/it]"
     ]
    },
    {
     "name": "stdout",
     "output_type": "stream",
     "text": [
      "Early stopping, best iteration is:\n",
      "[166]\tvalid_0's binary_logloss: 0.38462\tvalid_1's binary_logloss: 0.495495\n"
     ]
    },
    {
     "name": "stderr",
     "output_type": "stream",
     "text": [
      "num_leaves, val_score: 0.495495:  10%|#         | 2/20 [00:27<03:55, 13.09s/it][I 2024-02-20 14:51:57,387] Trial 8 finished with value: 0.49549531407069386 and parameters: {'num_leaves': 74}. Best is trial 7 with value: 0.49549531407069386.\n",
      "num_leaves, val_score: 0.495495:  10%|#         | 2/20 [00:27<03:55, 13.09s/it]"
     ]
    },
    {
     "name": "stdout",
     "output_type": "stream",
     "text": [
      "Early stopping, best iteration is:\n",
      "[166]\tvalid_0's binary_logloss: 0.38462\tvalid_1's binary_logloss: 0.495495\n"
     ]
    },
    {
     "name": "stderr",
     "output_type": "stream",
     "text": [
      "num_leaves, val_score: 0.495495:  15%|#5        | 3/20 [00:35<02:58, 10.51s/it][I 2024-02-20 14:52:04,829] Trial 9 finished with value: 0.49549531407069386 and parameters: {'num_leaves': 59}. Best is trial 7 with value: 0.49549531407069386.\n",
      "num_leaves, val_score: 0.495495:  15%|#5        | 3/20 [00:35<02:58, 10.51s/it]"
     ]
    },
    {
     "name": "stdout",
     "output_type": "stream",
     "text": [
      "Early stopping, best iteration is:\n",
      "[166]\tvalid_0's binary_logloss: 0.38462\tvalid_1's binary_logloss: 0.495495\n"
     ]
    },
    {
     "name": "stderr",
     "output_type": "stream",
     "text": [
      "num_leaves, val_score: 0.495495:  20%|##        | 4/20 [00:58<04:09, 15.61s/it][I 2024-02-20 14:52:28,263] Trial 10 finished with value: 0.49549531407069386 and parameters: {'num_leaves': 253}. Best is trial 7 with value: 0.49549531407069386.\n",
      "num_leaves, val_score: 0.495495:  20%|##        | 4/20 [00:58<04:09, 15.61s/it]"
     ]
    },
    {
     "name": "stdout",
     "output_type": "stream",
     "text": [
      "Early stopping, best iteration is:\n",
      "[166]\tvalid_0's binary_logloss: 0.38462\tvalid_1's binary_logloss: 0.495495\n"
     ]
    },
    {
     "name": "stderr",
     "output_type": "stream",
     "text": [
      "num_leaves, val_score: 0.495495:  25%|##5       | 5/20 [01:01<02:44, 10.97s/it][I 2024-02-20 14:52:31,007] Trial 11 finished with value: 0.49549531407069386 and parameters: {'num_leaves': 6}. Best is trial 7 with value: 0.49549531407069386.\n",
      "num_leaves, val_score: 0.495495:  25%|##5       | 5/20 [01:01<02:44, 10.97s/it]"
     ]
    },
    {
     "name": "stdout",
     "output_type": "stream",
     "text": [
      "Early stopping, best iteration is:\n",
      "[166]\tvalid_0's binary_logloss: 0.38462\tvalid_1's binary_logloss: 0.495495\n"
     ]
    },
    {
     "name": "stderr",
     "output_type": "stream",
     "text": [
      "num_leaves, val_score: 0.495495:  30%|###       | 6/20 [01:16<02:54, 12.48s/it][I 2024-02-20 14:52:46,426] Trial 12 finished with value: 0.49549531407069386 and parameters: {'num_leaves': 154}. Best is trial 7 with value: 0.49549531407069386.\n",
      "num_leaves, val_score: 0.495495:  30%|###       | 6/20 [01:16<02:54, 12.48s/it]"
     ]
    },
    {
     "name": "stdout",
     "output_type": "stream",
     "text": [
      "Early stopping, best iteration is:\n",
      "[166]\tvalid_0's binary_logloss: 0.38462\tvalid_1's binary_logloss: 0.495495\n"
     ]
    },
    {
     "name": "stderr",
     "output_type": "stream",
     "text": [
      "num_leaves, val_score: 0.495495:  35%|###5      | 7/20 [01:39<03:23, 15.67s/it][I 2024-02-20 14:53:08,649] Trial 13 finished with value: 0.49549531407069386 and parameters: {'num_leaves': 238}. Best is trial 7 with value: 0.49549531407069386.\n",
      "num_leaves, val_score: 0.495495:  35%|###5      | 7/20 [01:39<03:23, 15.67s/it]"
     ]
    },
    {
     "name": "stdout",
     "output_type": "stream",
     "text": [
      "Early stopping, best iteration is:\n",
      "[166]\tvalid_0's binary_logloss: 0.38462\tvalid_1's binary_logloss: 0.495495\n"
     ]
    },
    {
     "name": "stderr",
     "output_type": "stream",
     "text": [
      "num_leaves, val_score: 0.495495:  40%|####      | 8/20 [01:51<02:53, 14.44s/it][I 2024-02-20 14:53:20,469] Trial 14 finished with value: 0.49549531407069386 and parameters: {'num_leaves': 109}. Best is trial 7 with value: 0.49549531407069386.\n",
      "num_leaves, val_score: 0.495495:  40%|####      | 8/20 [01:51<02:53, 14.44s/it]"
     ]
    },
    {
     "name": "stdout",
     "output_type": "stream",
     "text": [
      "Early stopping, best iteration is:\n",
      "[166]\tvalid_0's binary_logloss: 0.38462\tvalid_1's binary_logloss: 0.495495\n"
     ]
    },
    {
     "name": "stderr",
     "output_type": "stream",
     "text": [
      "num_leaves, val_score: 0.495495:  45%|####5     | 9/20 [01:53<01:56, 10.62s/it][I 2024-02-20 14:53:22,671] Trial 15 finished with value: 0.49549531407069386 and parameters: {'num_leaves': 3}. Best is trial 7 with value: 0.49549531407069386.\n",
      "num_leaves, val_score: 0.495495:  45%|####5     | 9/20 [01:53<01:56, 10.62s/it]"
     ]
    },
    {
     "name": "stdout",
     "output_type": "stream",
     "text": [
      "Early stopping, best iteration is:\n",
      "[166]\tvalid_0's binary_logloss: 0.38462\tvalid_1's binary_logloss: 0.495495\n"
     ]
    },
    {
     "name": "stderr",
     "output_type": "stream",
     "text": [
      "num_leaves, val_score: 0.495495:  50%|#####     | 10/20 [02:12<02:14, 13.42s/it][I 2024-02-20 14:53:42,376] Trial 16 finished with value: 0.49549531407069386 and parameters: {'num_leaves': 207}. Best is trial 7 with value: 0.49549531407069386.\n",
      "num_leaves, val_score: 0.495495:  50%|#####     | 10/20 [02:12<02:14, 13.42s/it]"
     ]
    },
    {
     "name": "stdout",
     "output_type": "stream",
     "text": [
      "Early stopping, best iteration is:\n",
      "[166]\tvalid_0's binary_logloss: 0.38462\tvalid_1's binary_logloss: 0.495495\n"
     ]
    },
    {
     "name": "stderr",
     "output_type": "stream",
     "text": [
      "num_leaves, val_score: 0.495495:  55%|#####5    | 11/20 [02:25<01:59, 13.25s/it][I 2024-02-20 14:53:55,242] Trial 17 finished with value: 0.49549531407069386 and parameters: {'num_leaves': 120}. Best is trial 7 with value: 0.49549531407069386.\n",
      "num_leaves, val_score: 0.495495:  55%|#####5    | 11/20 [02:25<01:59, 13.25s/it]"
     ]
    },
    {
     "name": "stdout",
     "output_type": "stream",
     "text": [
      "Early stopping, best iteration is:\n",
      "[166]\tvalid_0's binary_logloss: 0.38462\tvalid_1's binary_logloss: 0.495495\n"
     ]
    },
    {
     "name": "stderr",
     "output_type": "stream",
     "text": [
      "num_leaves, val_score: 0.495495:  60%|######    | 12/20 [02:33<01:31, 11.49s/it][I 2024-02-20 14:54:02,708] Trial 18 finished with value: 0.49549531407069386 and parameters: {'num_leaves': 56}. Best is trial 7 with value: 0.49549531407069386.\n",
      "num_leaves, val_score: 0.495495:  60%|######    | 12/20 [02:33<01:31, 11.49s/it]"
     ]
    },
    {
     "name": "stdout",
     "output_type": "stream",
     "text": [
      "Early stopping, best iteration is:\n",
      "[166]\tvalid_0's binary_logloss: 0.38462\tvalid_1's binary_logloss: 0.495495\n"
     ]
    },
    {
     "name": "stderr",
     "output_type": "stream",
     "text": [
      "num_leaves, val_score: 0.495495:  65%|######5   | 13/20 [02:52<01:36, 13.73s/it][I 2024-02-20 14:54:21,581] Trial 19 finished with value: 0.49549531407069386 and parameters: {'num_leaves': 197}. Best is trial 7 with value: 0.49549531407069386.\n",
      "num_leaves, val_score: 0.495495:  65%|######5   | 13/20 [02:52<01:36, 13.73s/it]"
     ]
    },
    {
     "name": "stdout",
     "output_type": "stream",
     "text": [
      "Early stopping, best iteration is:\n",
      "[166]\tvalid_0's binary_logloss: 0.38462\tvalid_1's binary_logloss: 0.495495\n"
     ]
    },
    {
     "name": "stderr",
     "output_type": "stream",
     "text": [
      "num_leaves, val_score: 0.495495:  70%|#######   | 14/20 [03:07<01:25, 14.33s/it][I 2024-02-20 14:54:37,316] Trial 20 finished with value: 0.49549531407069386 and parameters: {'num_leaves': 152}. Best is trial 7 with value: 0.49549531407069386.\n",
      "num_leaves, val_score: 0.495495:  70%|#######   | 14/20 [03:07<01:25, 14.33s/it]"
     ]
    },
    {
     "name": "stdout",
     "output_type": "stream",
     "text": [
      "Early stopping, best iteration is:\n",
      "[166]\tvalid_0's binary_logloss: 0.38462\tvalid_1's binary_logloss: 0.495495\n"
     ]
    },
    {
     "name": "stderr",
     "output_type": "stream",
     "text": [
      "num_leaves, val_score: 0.495495:  75%|#######5  | 15/20 [03:17<01:04, 12.92s/it][I 2024-02-20 14:54:46,945] Trial 21 finished with value: 0.49549531407069386 and parameters: {'num_leaves': 84}. Best is trial 7 with value: 0.49549531407069386.\n",
      "num_leaves, val_score: 0.495495:  75%|#######5  | 15/20 [03:17<01:04, 12.92s/it]"
     ]
    },
    {
     "name": "stdout",
     "output_type": "stream",
     "text": [
      "Early stopping, best iteration is:\n",
      "[166]\tvalid_0's binary_logloss: 0.38462\tvalid_1's binary_logloss: 0.495495\n"
     ]
    },
    {
     "name": "stderr",
     "output_type": "stream",
     "text": [
      "num_leaves, val_score: 0.495495:  80%|########  | 16/20 [03:22<00:42, 10.55s/it][I 2024-02-20 14:54:51,996] Trial 22 finished with value: 0.49549531407069386 and parameters: {'num_leaves': 30}. Best is trial 7 with value: 0.49549531407069386.\n",
      "num_leaves, val_score: 0.495495:  80%|########  | 16/20 [03:22<00:42, 10.55s/it]"
     ]
    },
    {
     "name": "stdout",
     "output_type": "stream",
     "text": [
      "Early stopping, best iteration is:\n",
      "[166]\tvalid_0's binary_logloss: 0.38462\tvalid_1's binary_logloss: 0.495495\n"
     ]
    },
    {
     "name": "stderr",
     "output_type": "stream",
     "text": [
      "num_leaves, val_score: 0.495495:  85%|########5 | 17/20 [03:37<00:35, 11.96s/it][I 2024-02-20 14:55:07,227] Trial 23 finished with value: 0.49549531407069386 and parameters: {'num_leaves': 150}. Best is trial 7 with value: 0.49549531407069386.\n",
      "num_leaves, val_score: 0.495495:  85%|########5 | 17/20 [03:37<00:35, 11.96s/it]"
     ]
    },
    {
     "name": "stdout",
     "output_type": "stream",
     "text": [
      "Early stopping, best iteration is:\n",
      "[166]\tvalid_0's binary_logloss: 0.38462\tvalid_1's binary_logloss: 0.495495\n"
     ]
    },
    {
     "name": "stderr",
     "output_type": "stream",
     "text": [
      "num_leaves, val_score: 0.495495:  90%|######### | 18/20 [03:58<00:29, 14.71s/it][I 2024-02-20 14:55:28,344] Trial 24 finished with value: 0.49549531407069386 and parameters: {'num_leaves': 224}. Best is trial 7 with value: 0.49549531407069386.\n",
      "num_leaves, val_score: 0.495495:  90%|######### | 18/20 [03:58<00:29, 14.71s/it]"
     ]
    },
    {
     "name": "stdout",
     "output_type": "stream",
     "text": [
      "Early stopping, best iteration is:\n",
      "[166]\tvalid_0's binary_logloss: 0.38462\tvalid_1's binary_logloss: 0.495495\n"
     ]
    },
    {
     "name": "stderr",
     "output_type": "stream",
     "text": [
      "num_leaves, val_score: 0.495495:  95%|#########5| 19/20 [04:10<00:13, 13.63s/it][I 2024-02-20 14:55:39,462] Trial 25 finished with value: 0.49549531407069386 and parameters: {'num_leaves': 101}. Best is trial 7 with value: 0.49549531407069386.\n",
      "num_leaves, val_score: 0.495495:  95%|#########5| 19/20 [04:10<00:13, 13.63s/it]"
     ]
    },
    {
     "name": "stdout",
     "output_type": "stream",
     "text": [
      "Early stopping, best iteration is:\n",
      "[166]\tvalid_0's binary_logloss: 0.38462\tvalid_1's binary_logloss: 0.495495\n"
     ]
    },
    {
     "name": "stderr",
     "output_type": "stream",
     "text": [
      "num_leaves, val_score: 0.495495: 100%|##########| 20/20 [04:27<00:00, 14.78s/it][I 2024-02-20 14:55:56,916] Trial 26 finished with value: 0.49549531407069386 and parameters: {'num_leaves': 177}. Best is trial 7 with value: 0.49549531407069386.\n",
      "num_leaves, val_score: 0.495495: 100%|##########| 20/20 [04:27<00:00, 13.37s/it]\n"
     ]
    },
    {
     "name": "stdout",
     "output_type": "stream",
     "text": [
      "Early stopping, best iteration is:\n",
      "[166]\tvalid_0's binary_logloss: 0.38462\tvalid_1's binary_logloss: 0.495495\n"
     ]
    },
    {
     "name": "stderr",
     "output_type": "stream",
     "text": [
      "bagging, val_score: 0.495495:  10%|#         | 1/10 [00:05<00:47,  5.23s/it][I 2024-02-20 14:56:02,157] Trial 27 finished with value: 0.49549531407069386 and parameters: {'bagging_fraction': 0.8290966202970953, 'bagging_freq': 5}. Best is trial 27 with value: 0.49549531407069386.\n",
      "bagging, val_score: 0.495495:  10%|#         | 1/10 [00:05<00:47,  5.23s/it]"
     ]
    },
    {
     "name": "stdout",
     "output_type": "stream",
     "text": [
      "Early stopping, best iteration is:\n",
      "[166]\tvalid_0's binary_logloss: 0.38462\tvalid_1's binary_logloss: 0.495495\n"
     ]
    },
    {
     "name": "stderr",
     "output_type": "stream",
     "text": [
      "bagging, val_score: 0.495495:  20%|##        | 2/10 [00:09<00:39,  4.88s/it][I 2024-02-20 14:56:06,791] Trial 28 finished with value: 0.49549531407069386 and parameters: {'bagging_fraction': 0.4507667621429555, 'bagging_freq': 1}. Best is trial 27 with value: 0.49549531407069386.\n",
      "bagging, val_score: 0.495495:  20%|##        | 2/10 [00:09<00:39,  4.88s/it]"
     ]
    },
    {
     "name": "stdout",
     "output_type": "stream",
     "text": [
      "Early stopping, best iteration is:\n",
      "[166]\tvalid_0's binary_logloss: 0.38462\tvalid_1's binary_logloss: 0.495495\n"
     ]
    },
    {
     "name": "stderr",
     "output_type": "stream",
     "text": [
      "bagging, val_score: 0.495495:  30%|###       | 3/10 [00:15<00:35,  5.05s/it][I 2024-02-20 14:56:12,031] Trial 29 finished with value: 0.49549531407069386 and parameters: {'bagging_fraction': 0.9928650935900654, 'bagging_freq': 7}. Best is trial 27 with value: 0.49549531407069386.\n",
      "bagging, val_score: 0.495495:  30%|###       | 3/10 [00:15<00:35,  5.05s/it]"
     ]
    },
    {
     "name": "stdout",
     "output_type": "stream",
     "text": [
      "Early stopping, best iteration is:\n",
      "[166]\tvalid_0's binary_logloss: 0.38462\tvalid_1's binary_logloss: 0.495495\n"
     ]
    },
    {
     "name": "stderr",
     "output_type": "stream",
     "text": [
      "bagging, val_score: 0.495495:  40%|####      | 4/10 [00:19<00:29,  4.86s/it][I 2024-02-20 14:56:16,606] Trial 30 finished with value: 0.49549531407069386 and parameters: {'bagging_fraction': 0.40230288654025664, 'bagging_freq': 2}. Best is trial 27 with value: 0.49549531407069386.\n",
      "bagging, val_score: 0.495495:  40%|####      | 4/10 [00:19<00:29,  4.86s/it]"
     ]
    },
    {
     "name": "stdout",
     "output_type": "stream",
     "text": [
      "Early stopping, best iteration is:\n",
      "[166]\tvalid_0's binary_logloss: 0.38462\tvalid_1's binary_logloss: 0.495495\n"
     ]
    },
    {
     "name": "stderr",
     "output_type": "stream",
     "text": [
      "bagging, val_score: 0.495495:  50%|#####     | 5/10 [00:24<00:24,  4.88s/it][I 2024-02-20 14:56:21,532] Trial 31 finished with value: 0.49549531407069386 and parameters: {'bagging_fraction': 0.6455902284260232, 'bagging_freq': 4}. Best is trial 27 with value: 0.49549531407069386.\n",
      "bagging, val_score: 0.495495:  50%|#####     | 5/10 [00:24<00:24,  4.88s/it]"
     ]
    },
    {
     "name": "stdout",
     "output_type": "stream",
     "text": [
      "Early stopping, best iteration is:\n",
      "[166]\tvalid_0's binary_logloss: 0.38462\tvalid_1's binary_logloss: 0.495495\n"
     ]
    },
    {
     "name": "stderr",
     "output_type": "stream",
     "text": [
      "bagging, val_score: 0.495495:  60%|######    | 6/10 [00:29<00:19,  4.87s/it][I 2024-02-20 14:56:26,379] Trial 32 finished with value: 0.49549531407069386 and parameters: {'bagging_fraction': 0.6409107096395048, 'bagging_freq': 7}. Best is trial 27 with value: 0.49549531407069386.\n",
      "bagging, val_score: 0.495495:  60%|######    | 6/10 [00:29<00:19,  4.87s/it]"
     ]
    },
    {
     "name": "stdout",
     "output_type": "stream",
     "text": [
      "Early stopping, best iteration is:\n",
      "[166]\tvalid_0's binary_logloss: 0.38462\tvalid_1's binary_logloss: 0.495495\n"
     ]
    },
    {
     "name": "stderr",
     "output_type": "stream",
     "text": [
      "bagging, val_score: 0.495495:  70%|#######   | 7/10 [00:34<00:14,  4.99s/it][I 2024-02-20 14:56:31,632] Trial 33 finished with value: 0.49549531407069386 and parameters: {'bagging_fraction': 0.9877395996139684, 'bagging_freq': 4}. Best is trial 27 with value: 0.49549531407069386.\n",
      "bagging, val_score: 0.495495:  70%|#######   | 7/10 [00:34<00:14,  4.99s/it]"
     ]
    },
    {
     "name": "stdout",
     "output_type": "stream",
     "text": [
      "Early stopping, best iteration is:\n",
      "[166]\tvalid_0's binary_logloss: 0.38462\tvalid_1's binary_logloss: 0.495495\n"
     ]
    },
    {
     "name": "stderr",
     "output_type": "stream",
     "text": [
      "bagging, val_score: 0.495495:  80%|########  | 8/10 [00:39<00:10,  5.01s/it][I 2024-02-20 14:56:36,676] Trial 34 finished with value: 0.49549531407069386 and parameters: {'bagging_fraction': 0.7972185404201217, 'bagging_freq': 2}. Best is trial 27 with value: 0.49549531407069386.\n",
      "bagging, val_score: 0.495495:  80%|########  | 8/10 [00:39<00:10,  5.01s/it]"
     ]
    },
    {
     "name": "stdout",
     "output_type": "stream",
     "text": [
      "Early stopping, best iteration is:\n",
      "[166]\tvalid_0's binary_logloss: 0.38462\tvalid_1's binary_logloss: 0.495495\n"
     ]
    },
    {
     "name": "stderr",
     "output_type": "stream",
     "text": [
      "bagging, val_score: 0.495495:  90%|######### | 9/10 [00:44<00:04,  4.93s/it][I 2024-02-20 14:56:41,441] Trial 35 finished with value: 0.49549531407069386 and parameters: {'bagging_fraction': 0.52426135995336, 'bagging_freq': 5}. Best is trial 27 with value: 0.49549531407069386.\n",
      "bagging, val_score: 0.495495:  90%|######### | 9/10 [00:44<00:04,  4.93s/it]"
     ]
    },
    {
     "name": "stdout",
     "output_type": "stream",
     "text": [
      "Early stopping, best iteration is:\n",
      "[166]\tvalid_0's binary_logloss: 0.38462\tvalid_1's binary_logloss: 0.495495\n"
     ]
    },
    {
     "name": "stderr",
     "output_type": "stream",
     "text": [
      "bagging, val_score: 0.495495: 100%|##########| 10/10 [00:49<00:00,  4.88s/it][I 2024-02-20 14:56:46,201] Trial 36 finished with value: 0.49549531407069386 and parameters: {'bagging_fraction': 0.5501286373091325, 'bagging_freq': 6}. Best is trial 27 with value: 0.49549531407069386.\n",
      "bagging, val_score: 0.495495: 100%|##########| 10/10 [00:49<00:00,  4.93s/it]\n"
     ]
    },
    {
     "name": "stdout",
     "output_type": "stream",
     "text": [
      "Early stopping, best iteration is:\n",
      "[166]\tvalid_0's binary_logloss: 0.38462\tvalid_1's binary_logloss: 0.495495\n"
     ]
    },
    {
     "name": "stderr",
     "output_type": "stream",
     "text": [
      "feature_fraction_stage2, val_score: 0.495495:  17%|#6        | 1/6 [00:05<00:25,  5.18s/it][I 2024-02-20 14:56:51,393] Trial 37 finished with value: 0.49549531407069386 and parameters: {'feature_fraction': 0.616}. Best is trial 37 with value: 0.49549531407069386.\n",
      "feature_fraction_stage2, val_score: 0.495495:  17%|#6        | 1/6 [00:05<00:25,  5.18s/it]"
     ]
    },
    {
     "name": "stdout",
     "output_type": "stream",
     "text": [
      "Early stopping, best iteration is:\n",
      "[166]\tvalid_0's binary_logloss: 0.38462\tvalid_1's binary_logloss: 0.495495\n"
     ]
    },
    {
     "name": "stderr",
     "output_type": "stream",
     "text": [
      "feature_fraction_stage2, val_score: 0.495495:  33%|###3      | 2/6 [00:10<00:20,  5.12s/it][I 2024-02-20 14:56:56,469] Trial 38 finished with value: 0.49549531407069386 and parameters: {'feature_fraction': 0.584}. Best is trial 37 with value: 0.49549531407069386.\n",
      "feature_fraction_stage2, val_score: 0.495495:  33%|###3      | 2/6 [00:10<00:20,  5.12s/it]"
     ]
    },
    {
     "name": "stdout",
     "output_type": "stream",
     "text": [
      "Early stopping, best iteration is:\n",
      "[166]\tvalid_0's binary_logloss: 0.38462\tvalid_1's binary_logloss: 0.495495\n"
     ]
    },
    {
     "name": "stderr",
     "output_type": "stream",
     "text": [
      "feature_fraction_stage2, val_score: 0.495495:  50%|#####     | 3/6 [00:15<00:14,  4.95s/it][I 2024-02-20 14:57:01,228] Trial 39 finished with value: 0.49549531407069386 and parameters: {'feature_fraction': 0.52}. Best is trial 37 with value: 0.49549531407069386.\n",
      "feature_fraction_stage2, val_score: 0.495495:  50%|#####     | 3/6 [00:15<00:14,  4.95s/it]"
     ]
    },
    {
     "name": "stdout",
     "output_type": "stream",
     "text": [
      "Early stopping, best iteration is:\n",
      "[166]\tvalid_0's binary_logloss: 0.38462\tvalid_1's binary_logloss: 0.495495\n"
     ]
    },
    {
     "name": "stderr",
     "output_type": "stream",
     "text": [
      "feature_fraction_stage2, val_score: 0.495495:  67%|######6   | 4/6 [00:20<00:10,  5.07s/it][I 2024-02-20 14:57:06,478] Trial 40 finished with value: 0.49549531407069386 and parameters: {'feature_fraction': 0.6479999999999999}. Best is trial 37 with value: 0.49549531407069386.\n",
      "feature_fraction_stage2, val_score: 0.495495:  67%|######6   | 4/6 [00:20<00:10,  5.07s/it]"
     ]
    },
    {
     "name": "stdout",
     "output_type": "stream",
     "text": [
      "Early stopping, best iteration is:\n",
      "[166]\tvalid_0's binary_logloss: 0.38462\tvalid_1's binary_logloss: 0.495495\n"
     ]
    },
    {
     "name": "stderr",
     "output_type": "stream",
     "text": [
      "feature_fraction_stage2, val_score: 0.495495:  83%|########3 | 5/6 [00:25<00:05,  5.00s/it][I 2024-02-20 14:57:11,364] Trial 41 finished with value: 0.49549531407069386 and parameters: {'feature_fraction': 0.552}. Best is trial 37 with value: 0.49549531407069386.\n",
      "feature_fraction_stage2, val_score: 0.495495:  83%|########3 | 5/6 [00:25<00:05,  5.00s/it]"
     ]
    },
    {
     "name": "stdout",
     "output_type": "stream",
     "text": [
      "Early stopping, best iteration is:\n",
      "[166]\tvalid_0's binary_logloss: 0.38462\tvalid_1's binary_logloss: 0.495495\n"
     ]
    },
    {
     "name": "stderr",
     "output_type": "stream",
     "text": [
      "feature_fraction_stage2, val_score: 0.495495: 100%|##########| 6/6 [00:30<00:00,  5.15s/it][I 2024-02-20 14:57:16,783] Trial 42 finished with value: 0.49549531407069386 and parameters: {'feature_fraction': 0.6799999999999999}. Best is trial 37 with value: 0.49549531407069386.\n",
      "feature_fraction_stage2, val_score: 0.495495: 100%|##########| 6/6 [00:30<00:00,  5.10s/it]\n"
     ]
    },
    {
     "name": "stdout",
     "output_type": "stream",
     "text": [
      "Early stopping, best iteration is:\n",
      "[166]\tvalid_0's binary_logloss: 0.38462\tvalid_1's binary_logloss: 0.495495\n"
     ]
    },
    {
     "name": "stderr",
     "output_type": "stream",
     "text": [
      "regularization_factors, val_score: 0.495495:   5%|5         | 1/20 [00:06<01:55,  6.06s/it][I 2024-02-20 14:57:22,850] Trial 43 finished with value: 0.49549531407069386 and parameters: {'lambda_l1': 0.027318025396945597, 'lambda_l2': 0.0039995152383668865}. Best is trial 43 with value: 0.49549531407069386.\n",
      "regularization_factors, val_score: 0.495495:   5%|5         | 1/20 [00:06<01:55,  6.06s/it]"
     ]
    },
    {
     "name": "stdout",
     "output_type": "stream",
     "text": [
      "Early stopping, best iteration is:\n",
      "[166]\tvalid_0's binary_logloss: 0.38462\tvalid_1's binary_logloss: 0.495495\n"
     ]
    },
    {
     "name": "stderr",
     "output_type": "stream",
     "text": [
      "regularization_factors, val_score: 0.495495:  10%|#         | 2/20 [00:11<01:46,  5.91s/it][I 2024-02-20 14:57:28,652] Trial 44 finished with value: 0.49549531407069386 and parameters: {'lambda_l1': 5.774327768712259e-08, 'lambda_l2': 1.1818171572391107e-08}. Best is trial 43 with value: 0.49549531407069386.\n",
      "regularization_factors, val_score: 0.495495:  10%|#         | 2/20 [00:11<01:46,  5.91s/it]"
     ]
    },
    {
     "name": "stdout",
     "output_type": "stream",
     "text": [
      "Early stopping, best iteration is:\n",
      "[166]\tvalid_0's binary_logloss: 0.38462\tvalid_1's binary_logloss: 0.495495\n"
     ]
    },
    {
     "name": "stderr",
     "output_type": "stream",
     "text": [
      "regularization_factors, val_score: 0.491673:  15%|#5        | 3/20 [00:19<01:52,  6.61s/it][I 2024-02-20 14:57:36,101] Trial 45 finished with value: 0.49167307967940055 and parameters: {'lambda_l1': 7.815853382032329, 'lambda_l2': 5.232832893947898}. Best is trial 45 with value: 0.49167307967940055.\n",
      "regularization_factors, val_score: 0.491673:  15%|#5        | 3/20 [00:19<01:52,  6.61s/it]"
     ]
    },
    {
     "name": "stdout",
     "output_type": "stream",
     "text": [
      "Early stopping, best iteration is:\n",
      "[222]\tvalid_0's binary_logloss: 0.377126\tvalid_1's binary_logloss: 0.491673\n"
     ]
    },
    {
     "name": "stderr",
     "output_type": "stream",
     "text": [
      "regularization_factors, val_score: 0.491673:  20%|##        | 4/20 [00:26<01:51,  6.95s/it][I 2024-02-20 14:57:43,558] Trial 46 finished with value: 0.49167307967940055 and parameters: {'lambda_l1': 4.071565440400294, 'lambda_l2': 5.6421817080213374}. Best is trial 45 with value: 0.49167307967940055.\n",
      "regularization_factors, val_score: 0.491673:  20%|##        | 4/20 [00:26<01:51,  6.95s/it]"
     ]
    },
    {
     "name": "stdout",
     "output_type": "stream",
     "text": [
      "Early stopping, best iteration is:\n",
      "[222]\tvalid_0's binary_logloss: 0.377126\tvalid_1's binary_logloss: 0.491673\n"
     ]
    },
    {
     "name": "stderr",
     "output_type": "stream",
     "text": [
      "regularization_factors, val_score: 0.490203:  25%|##5       | 5/20 [00:34<01:50,  7.36s/it][I 2024-02-20 14:57:51,668] Trial 47 finished with value: 0.4902034632577211 and parameters: {'lambda_l1': 8.285133562904985, 'lambda_l2': 9.86702525006584}. Best is trial 47 with value: 0.4902034632577211.\n",
      "regularization_factors, val_score: 0.490203:  25%|##5       | 5/20 [00:34<01:50,  7.36s/it]"
     ]
    },
    {
     "name": "stdout",
     "output_type": "stream",
     "text": [
      "Early stopping, best iteration is:\n",
      "[254]\tvalid_0's binary_logloss: 0.366474\tvalid_1's binary_logloss: 0.490203\n"
     ]
    },
    {
     "name": "stderr",
     "output_type": "stream",
     "text": [
      "regularization_factors, val_score: 0.490203:  30%|###       | 6/20 [00:42<01:46,  7.59s/it][I 2024-02-20 14:57:59,692] Trial 48 finished with value: 0.4902034632577211 and parameters: {'lambda_l1': 9.11097273501154, 'lambda_l2': 4.667140231771665}. Best is trial 47 with value: 0.4902034632577211.\n",
      "regularization_factors, val_score: 0.490203:  30%|###       | 6/20 [00:42<01:46,  7.59s/it]"
     ]
    },
    {
     "name": "stdout",
     "output_type": "stream",
     "text": [
      "Early stopping, best iteration is:\n",
      "[254]\tvalid_0's binary_logloss: 0.366474\tvalid_1's binary_logloss: 0.490203\n"
     ]
    },
    {
     "name": "stderr",
     "output_type": "stream",
     "text": [
      "regularization_factors, val_score: 0.490203:  35%|###5      | 7/20 [00:50<01:40,  7.73s/it][I 2024-02-20 14:58:07,701] Trial 49 finished with value: 0.4902034632577211 and parameters: {'lambda_l1': 9.198852413712732, 'lambda_l2': 7.878003003071141}. Best is trial 47 with value: 0.4902034632577211.\n",
      "regularization_factors, val_score: 0.490203:  35%|###5      | 7/20 [00:50<01:40,  7.73s/it]"
     ]
    },
    {
     "name": "stdout",
     "output_type": "stream",
     "text": [
      "Early stopping, best iteration is:\n",
      "[254]\tvalid_0's binary_logloss: 0.366474\tvalid_1's binary_logloss: 0.490203\n"
     ]
    },
    {
     "name": "stderr",
     "output_type": "stream",
     "text": [
      "regularization_factors, val_score: 0.490203:  40%|####      | 8/20 [00:58<01:33,  7.82s/it][I 2024-02-20 14:58:15,709] Trial 50 finished with value: 0.4902034632577211 and parameters: {'lambda_l1': 9.791712769499537, 'lambda_l2': 7.912046970881109}. Best is trial 47 with value: 0.4902034632577211.\n",
      "regularization_factors, val_score: 0.490203:  40%|####      | 8/20 [00:58<01:33,  7.82s/it]"
     ]
    },
    {
     "name": "stdout",
     "output_type": "stream",
     "text": [
      "Early stopping, best iteration is:\n",
      "[254]\tvalid_0's binary_logloss: 0.366474\tvalid_1's binary_logloss: 0.490203\n"
     ]
    },
    {
     "name": "stderr",
     "output_type": "stream",
     "text": [
      "regularization_factors, val_score: 0.490203:  45%|####5     | 9/20 [01:06<01:26,  7.89s/it][I 2024-02-20 14:58:23,772] Trial 51 finished with value: 0.4902034632577211 and parameters: {'lambda_l1': 9.663531814264068, 'lambda_l2': 9.227696829860916}. Best is trial 47 with value: 0.4902034632577211.\n",
      "regularization_factors, val_score: 0.490203:  45%|####5     | 9/20 [01:06<01:26,  7.89s/it]"
     ]
    },
    {
     "name": "stdout",
     "output_type": "stream",
     "text": [
      "Early stopping, best iteration is:\n",
      "[254]\tvalid_0's binary_logloss: 0.366474\tvalid_1's binary_logloss: 0.490203\n"
     ]
    },
    {
     "name": "stderr",
     "output_type": "stream",
     "text": [
      "regularization_factors, val_score: 0.490203:  50%|#####     | 10/20 [01:14<01:19,  7.93s/it][I 2024-02-20 14:58:31,789] Trial 52 finished with value: 0.4902034632577211 and parameters: {'lambda_l1': 8.988549516887154, 'lambda_l2': 9.284880762662475}. Best is trial 47 with value: 0.4902034632577211.\n",
      "regularization_factors, val_score: 0.490203:  50%|#####     | 10/20 [01:15<01:19,  7.93s/it]"
     ]
    },
    {
     "name": "stdout",
     "output_type": "stream",
     "text": [
      "Early stopping, best iteration is:\n",
      "[254]\tvalid_0's binary_logloss: 0.366474\tvalid_1's binary_logloss: 0.490203\n"
     ]
    },
    {
     "name": "stderr",
     "output_type": "stream",
     "text": [
      "regularization_factors, val_score: 0.490203:  55%|#####5    | 11/20 [01:23<01:11,  7.98s/it][I 2024-02-20 14:58:39,868] Trial 53 finished with value: 0.4902034632577211 and parameters: {'lambda_l1': 8.614589813710044, 'lambda_l2': 8.12015905501837}. Best is trial 47 with value: 0.4902034632577211.\n",
      "regularization_factors, val_score: 0.490203:  55%|#####5    | 11/20 [01:23<01:11,  7.98s/it]"
     ]
    },
    {
     "name": "stdout",
     "output_type": "stream",
     "text": [
      "Early stopping, best iteration is:\n",
      "[254]\tvalid_0's binary_logloss: 0.366474\tvalid_1's binary_logloss: 0.490203\n"
     ]
    },
    {
     "name": "stderr",
     "output_type": "stream",
     "text": [
      "regularization_factors, val_score: 0.490203:  60%|######    | 12/20 [01:31<01:04,  8.00s/it][I 2024-02-20 14:58:47,933] Trial 54 finished with value: 0.4902034632577211 and parameters: {'lambda_l1': 8.443220212387153, 'lambda_l2': 9.157784971743714}. Best is trial 47 with value: 0.4902034632577211.\n",
      "regularization_factors, val_score: 0.490203:  60%|######    | 12/20 [01:31<01:04,  8.00s/it]"
     ]
    },
    {
     "name": "stdout",
     "output_type": "stream",
     "text": [
      "Early stopping, best iteration is:\n",
      "[254]\tvalid_0's binary_logloss: 0.366474\tvalid_1's binary_logloss: 0.490203\n"
     ]
    },
    {
     "name": "stderr",
     "output_type": "stream",
     "text": [
      "regularization_factors, val_score: 0.490203:  65%|######5   | 13/20 [01:39<00:56,  8.01s/it][I 2024-02-20 14:58:55,940] Trial 55 finished with value: 0.4902034632577211 and parameters: {'lambda_l1': 9.394995912333776, 'lambda_l2': 7.607177815668143}. Best is trial 47 with value: 0.4902034632577211.\n",
      "regularization_factors, val_score: 0.490203:  65%|######5   | 13/20 [01:39<00:56,  8.01s/it]"
     ]
    },
    {
     "name": "stdout",
     "output_type": "stream",
     "text": [
      "Early stopping, best iteration is:\n",
      "[254]\tvalid_0's binary_logloss: 0.366474\tvalid_1's binary_logloss: 0.490203\n"
     ]
    },
    {
     "name": "stderr",
     "output_type": "stream",
     "text": [
      "regularization_factors, val_score: 0.490203:  70%|#######   | 14/20 [01:47<00:47,  7.99s/it][I 2024-02-20 14:59:03,904] Trial 56 finished with value: 0.4902034632577211 and parameters: {'lambda_l1': 9.9738270561421, 'lambda_l2': 6.87536823527346}. Best is trial 47 with value: 0.4902034632577211.\n",
      "regularization_factors, val_score: 0.490203:  70%|#######   | 14/20 [01:47<00:47,  7.99s/it]"
     ]
    },
    {
     "name": "stdout",
     "output_type": "stream",
     "text": [
      "Early stopping, best iteration is:\n",
      "[254]\tvalid_0's binary_logloss: 0.366474\tvalid_1's binary_logloss: 0.490203\n"
     ]
    },
    {
     "name": "stderr",
     "output_type": "stream",
     "text": [
      "regularization_factors, val_score: 0.490203:  75%|#######5  | 15/20 [01:54<00:39,  7.87s/it][I 2024-02-20 14:59:11,487] Trial 57 finished with value: 0.4902034632577211 and parameters: {'lambda_l1': 0.21895992138381007, 'lambda_l2': 0.5281906337074658}. Best is trial 47 with value: 0.4902034632577211.\n",
      "regularization_factors, val_score: 0.490203:  75%|#######5  | 15/20 [01:54<00:39,  7.87s/it]"
     ]
    },
    {
     "name": "stdout",
     "output_type": "stream",
     "text": [
      "Early stopping, best iteration is:\n",
      "[254]\tvalid_0's binary_logloss: 0.366474\tvalid_1's binary_logloss: 0.490203\n"
     ]
    },
    {
     "name": "stderr",
     "output_type": "stream",
     "text": [
      "regularization_factors, val_score: 0.490203:  80%|########  | 16/20 [02:02<00:31,  7.81s/it][I 2024-02-20 14:59:19,165] Trial 58 finished with value: 0.4902034632577211 and parameters: {'lambda_l1': 0.4064581992721204, 'lambda_l2': 0.3157641365701878}. Best is trial 47 with value: 0.4902034632577211.\n",
      "regularization_factors, val_score: 0.490203:  80%|########  | 16/20 [02:02<00:31,  7.81s/it]"
     ]
    },
    {
     "name": "stdout",
     "output_type": "stream",
     "text": [
      "Early stopping, best iteration is:\n",
      "[254]\tvalid_0's binary_logloss: 0.366474\tvalid_1's binary_logloss: 0.490203\n"
     ]
    },
    {
     "name": "stderr",
     "output_type": "stream",
     "text": [
      "regularization_factors, val_score: 0.490203:  85%|########5 | 17/20 [02:09<00:23,  7.75s/it][I 2024-02-20 14:59:26,758] Trial 59 finished with value: 0.4902034632577211 and parameters: {'lambda_l1': 0.4590740372652308, 'lambda_l2': 0.503203735925893}. Best is trial 47 with value: 0.4902034632577211.\n",
      "regularization_factors, val_score: 0.490203:  85%|########5 | 17/20 [02:09<00:23,  7.75s/it]"
     ]
    },
    {
     "name": "stdout",
     "output_type": "stream",
     "text": [
      "Early stopping, best iteration is:\n",
      "[254]\tvalid_0's binary_logloss: 0.366474\tvalid_1's binary_logloss: 0.490203\n"
     ]
    },
    {
     "name": "stderr",
     "output_type": "stream",
     "text": [
      "regularization_factors, val_score: 0.490203:  90%|######### | 18/20 [02:18<00:15,  7.86s/it][I 2024-02-20 14:59:34,877] Trial 60 finished with value: 0.4902034632577211 and parameters: {'lambda_l1': 0.7123173985281955, 'lambda_l2': 0.45745151817535173}. Best is trial 47 with value: 0.4902034632577211.\n",
      "regularization_factors, val_score: 0.490203:  90%|######### | 18/20 [02:18<00:15,  7.86s/it]"
     ]
    },
    {
     "name": "stdout",
     "output_type": "stream",
     "text": [
      "Early stopping, best iteration is:\n",
      "[254]\tvalid_0's binary_logloss: 0.366474\tvalid_1's binary_logloss: 0.490203\n"
     ]
    },
    {
     "name": "stderr",
     "output_type": "stream",
     "text": [
      "regularization_factors, val_score: 0.489998:  95%|#########5| 19/20 [02:25<00:07,  7.63s/it][I 2024-02-20 14:59:41,980] Trial 61 finished with value: 0.48999794214094317 and parameters: {'lambda_l1': 8.441361396252738, 'lambda_l2': 9.449542082673435}. Best is trial 61 with value: 0.48999794214094317.\n",
      "regularization_factors, val_score: 0.489998:  95%|#########5| 19/20 [02:25<00:07,  7.63s/it]"
     ]
    },
    {
     "name": "stdout",
     "output_type": "stream",
     "text": [
      "Early stopping, best iteration is:\n",
      "[194]\tvalid_0's binary_logloss: 0.391327\tvalid_1's binary_logloss: 0.489998\n"
     ]
    },
    {
     "name": "stderr",
     "output_type": "stream",
     "text": [
      "regularization_factors, val_score: 0.489998: 100%|##########| 20/20 [02:32<00:00,  7.46s/it][I 2024-02-20 14:59:49,049] Trial 62 finished with value: 0.48999794214094317 and parameters: {'lambda_l1': 8.165558376060668, 'lambda_l2': 9.380292799253478}. Best is trial 61 with value: 0.48999794214094317.\n",
      "regularization_factors, val_score: 0.489998: 100%|##########| 20/20 [02:32<00:00,  7.61s/it]\n"
     ]
    },
    {
     "name": "stdout",
     "output_type": "stream",
     "text": [
      "Early stopping, best iteration is:\n",
      "[194]\tvalid_0's binary_logloss: 0.391327\tvalid_1's binary_logloss: 0.489998\n"
     ]
    },
    {
     "name": "stderr",
     "output_type": "stream",
     "text": [
      "min_child_samples, val_score: 0.489998:  20%|##        | 1/5 [00:06<00:27,  6.75s/it][I 2024-02-20 14:59:55,813] Trial 63 finished with value: 0.48999794214094317 and parameters: {'min_child_samples': 50}. Best is trial 63 with value: 0.48999794214094317.\n",
      "min_child_samples, val_score: 0.489998:  20%|##        | 1/5 [00:06<00:27,  6.75s/it]"
     ]
    },
    {
     "name": "stdout",
     "output_type": "stream",
     "text": [
      "Early stopping, best iteration is:\n",
      "[194]\tvalid_0's binary_logloss: 0.391327\tvalid_1's binary_logloss: 0.489998\n"
     ]
    },
    {
     "name": "stderr",
     "output_type": "stream",
     "text": [
      "min_child_samples, val_score: 0.489998:  40%|####      | 2/5 [00:13<00:20,  6.86s/it][I 2024-02-20 15:00:02,751] Trial 64 finished with value: 0.48999794214094317 and parameters: {'min_child_samples': 25}. Best is trial 63 with value: 0.48999794214094317.\n",
      "min_child_samples, val_score: 0.489998:  40%|####      | 2/5 [00:13<00:20,  6.86s/it]"
     ]
    },
    {
     "name": "stdout",
     "output_type": "stream",
     "text": [
      "Early stopping, best iteration is:\n",
      "[194]\tvalid_0's binary_logloss: 0.391327\tvalid_1's binary_logloss: 0.489998\n"
     ]
    },
    {
     "name": "stderr",
     "output_type": "stream",
     "text": [
      "min_child_samples, val_score: 0.489998:  60%|######    | 3/5 [00:20<00:14,  7.02s/it][I 2024-02-20 15:00:09,953] Trial 65 finished with value: 0.48999794214094317 and parameters: {'min_child_samples': 5}. Best is trial 63 with value: 0.48999794214094317.\n",
      "min_child_samples, val_score: 0.489998:  60%|######    | 3/5 [00:20<00:14,  7.02s/it]"
     ]
    },
    {
     "name": "stdout",
     "output_type": "stream",
     "text": [
      "Early stopping, best iteration is:\n",
      "[194]\tvalid_0's binary_logloss: 0.391327\tvalid_1's binary_logloss: 0.489998\n"
     ]
    },
    {
     "name": "stderr",
     "output_type": "stream",
     "text": [
      "min_child_samples, val_score: 0.489998:  80%|########  | 4/5 [00:27<00:06,  6.84s/it][I 2024-02-20 15:00:16,526] Trial 66 finished with value: 0.48999794214094317 and parameters: {'min_child_samples': 100}. Best is trial 63 with value: 0.48999794214094317.\n",
      "min_child_samples, val_score: 0.489998:  80%|########  | 4/5 [00:27<00:06,  6.84s/it]"
     ]
    },
    {
     "name": "stdout",
     "output_type": "stream",
     "text": [
      "Early stopping, best iteration is:\n",
      "[194]\tvalid_0's binary_logloss: 0.391327\tvalid_1's binary_logloss: 0.489998\n"
     ]
    },
    {
     "name": "stderr",
     "output_type": "stream",
     "text": [
      "min_child_samples, val_score: 0.489998: 100%|##########| 5/5 [00:34<00:00,  6.96s/it][I 2024-02-20 15:00:23,689] Trial 67 finished with value: 0.48999794214094317 and parameters: {'min_child_samples': 10}. Best is trial 63 with value: 0.48999794214094317.\n",
      "min_child_samples, val_score: 0.489998: 100%|##########| 5/5 [00:34<00:00,  6.93s/it]\n",
      "[I 2024-02-20 15:00:23,754] A new study created in memory with name: no-name-25cd1003-859a-4831-97d9-a5a520de374c\n"
     ]
    },
    {
     "name": "stdout",
     "output_type": "stream",
     "text": [
      "Early stopping, best iteration is:\n",
      "[194]\tvalid_0's binary_logloss: 0.391327\tvalid_1's binary_logloss: 0.489998\n"
     ]
    },
    {
     "name": "stderr",
     "output_type": "stream",
     "text": [
      "feature_fraction, val_score: inf:   0%|          | 0/7 [00:00<?, ?it/s]"
     ]
    },
    {
     "name": "stdout",
     "output_type": "stream",
     "text": [
      "Training until validation scores don't improve for 100 rounds\n"
     ]
    },
    {
     "name": "stderr",
     "output_type": "stream",
     "text": [
      "feature_fraction, val_score: 0.504428:  14%|#4        | 1/7 [00:06<00:38,  6.48s/it][I 2024-02-20 15:00:30,246] Trial 0 finished with value: 0.5044276417323013 and parameters: {'feature_fraction': 0.5}. Best is trial 0 with value: 0.5044276417323013.\n",
      "feature_fraction, val_score: 0.504428:  14%|#4        | 1/7 [00:06<00:38,  6.48s/it]"
     ]
    },
    {
     "name": "stdout",
     "output_type": "stream",
     "text": [
      "Early stopping, best iteration is:\n",
      "[305]\tvalid_0's binary_logloss: 0.323677\tvalid_1's binary_logloss: 0.504428\n"
     ]
    },
    {
     "name": "stderr",
     "output_type": "stream",
     "text": [
      "feature_fraction, val_score: 0.504428:  29%|##8       | 2/7 [00:14<00:36,  7.23s/it][I 2024-02-20 15:00:38,004] Trial 1 finished with value: 0.5044276417323013 and parameters: {'feature_fraction': 0.7}. Best is trial 0 with value: 0.5044276417323013.\n",
      "feature_fraction, val_score: 0.504428:  29%|##8       | 2/7 [00:14<00:36,  7.23s/it]"
     ]
    },
    {
     "name": "stdout",
     "output_type": "stream",
     "text": [
      "Early stopping, best iteration is:\n",
      "[305]\tvalid_0's binary_logloss: 0.323677\tvalid_1's binary_logloss: 0.504428\n"
     ]
    },
    {
     "name": "stderr",
     "output_type": "stream",
     "text": [
      "feature_fraction, val_score: 0.504428:  43%|####2     | 3/7 [00:22<00:31,  7.83s/it][I 2024-02-20 15:00:46,535] Trial 2 finished with value: 0.5044276417323013 and parameters: {'feature_fraction': 0.8}. Best is trial 0 with value: 0.5044276417323013.\n",
      "feature_fraction, val_score: 0.504428:  43%|####2     | 3/7 [00:22<00:31,  7.83s/it]"
     ]
    },
    {
     "name": "stdout",
     "output_type": "stream",
     "text": [
      "Early stopping, best iteration is:\n",
      "[305]\tvalid_0's binary_logloss: 0.323677\tvalid_1's binary_logloss: 0.504428\n"
     ]
    },
    {
     "name": "stderr",
     "output_type": "stream",
     "text": [
      "feature_fraction, val_score: 0.504428:  57%|#####7    | 4/7 [00:28<00:21,  7.01s/it][I 2024-02-20 15:00:52,303] Trial 3 finished with value: 0.5044276417323013 and parameters: {'feature_fraction': 0.4}. Best is trial 0 with value: 0.5044276417323013.\n",
      "feature_fraction, val_score: 0.504428:  57%|#####7    | 4/7 [00:28<00:21,  7.01s/it]"
     ]
    },
    {
     "name": "stdout",
     "output_type": "stream",
     "text": [
      "Early stopping, best iteration is:\n",
      "[305]\tvalid_0's binary_logloss: 0.323677\tvalid_1's binary_logloss: 0.504428\n"
     ]
    },
    {
     "name": "stderr",
     "output_type": "stream",
     "text": [
      "feature_fraction, val_score: 0.503741:  71%|#######1  | 5/7 [00:34<00:13,  6.80s/it][I 2024-02-20 15:00:58,729] Trial 4 finished with value: 0.5037408113164998 and parameters: {'feature_fraction': 0.6}. Best is trial 4 with value: 0.5037408113164998.\n",
      "feature_fraction, val_score: 0.503741:  71%|#######1  | 5/7 [00:34<00:13,  6.80s/it]"
     ]
    },
    {
     "name": "stdout",
     "output_type": "stream",
     "text": [
      "Early stopping, best iteration is:\n",
      "[244]\tvalid_0's binary_logloss: 0.348933\tvalid_1's binary_logloss: 0.503741\n"
     ]
    },
    {
     "name": "stderr",
     "output_type": "stream",
     "text": [
      "feature_fraction, val_score: 0.503741:  86%|########5 | 6/7 [00:43<00:07,  7.30s/it][I 2024-02-20 15:01:06,999] Trial 5 finished with value: 0.5037408113164998 and parameters: {'feature_fraction': 0.8999999999999999}. Best is trial 4 with value: 0.5037408113164998.\n",
      "feature_fraction, val_score: 0.503741:  86%|########5 | 6/7 [00:43<00:07,  7.30s/it]"
     ]
    },
    {
     "name": "stdout",
     "output_type": "stream",
     "text": [
      "Early stopping, best iteration is:\n",
      "[244]\tvalid_0's binary_logloss: 0.348933\tvalid_1's binary_logloss: 0.503741\n"
     ]
    },
    {
     "name": "stderr",
     "output_type": "stream",
     "text": [
      "feature_fraction, val_score: 0.503741: 100%|##########| 7/7 [00:51<00:00,  7.73s/it][I 2024-02-20 15:01:15,622] Trial 6 finished with value: 0.5037408113164998 and parameters: {'feature_fraction': 1.0}. Best is trial 4 with value: 0.5037408113164998.\n",
      "feature_fraction, val_score: 0.503741: 100%|##########| 7/7 [00:51<00:00,  7.41s/it]\n"
     ]
    },
    {
     "name": "stdout",
     "output_type": "stream",
     "text": [
      "Early stopping, best iteration is:\n",
      "[244]\tvalid_0's binary_logloss: 0.348933\tvalid_1's binary_logloss: 0.503741\n"
     ]
    },
    {
     "name": "stderr",
     "output_type": "stream",
     "text": [
      "num_leaves, val_score: 0.503697:   5%|5         | 1/20 [00:11<03:47, 11.96s/it][I 2024-02-20 15:01:27,594] Trial 7 finished with value: 0.5036970612559496 and parameters: {'num_leaves': 179}. Best is trial 7 with value: 0.5036970612559496.\n",
      "num_leaves, val_score: 0.503697:   5%|5         | 1/20 [00:11<03:47, 11.96s/it]"
     ]
    },
    {
     "name": "stdout",
     "output_type": "stream",
     "text": [
      "Early stopping, best iteration is:\n",
      "[71]\tvalid_0's binary_logloss: 0.267656\tvalid_1's binary_logloss: 0.503697\n"
     ]
    },
    {
     "name": "stderr",
     "output_type": "stream",
     "text": [
      "num_leaves, val_score: 0.502090:  10%|#         | 2/20 [00:19<02:46,  9.26s/it][I 2024-02-20 15:01:34,968] Trial 8 finished with value: 0.5020903113802613 and parameters: {'num_leaves': 74}. Best is trial 8 with value: 0.5020903113802613.\n",
      "num_leaves, val_score: 0.502090:  10%|#         | 2/20 [00:19<02:46,  9.26s/it]"
     ]
    },
    {
     "name": "stdout",
     "output_type": "stream",
     "text": [
      "Early stopping, best iteration is:\n",
      "[108]\tvalid_0's binary_logloss: 0.334172\tvalid_1's binary_logloss: 0.50209\n"
     ]
    },
    {
     "name": "stderr",
     "output_type": "stream",
     "text": [
      "num_leaves, val_score: 0.502090:  15%|#5        | 3/20 [00:25<02:15,  7.94s/it][I 2024-02-20 15:01:41,341] Trial 9 finished with value: 0.5020903113802613 and parameters: {'num_leaves': 59}. Best is trial 8 with value: 0.5020903113802613.\n",
      "num_leaves, val_score: 0.502090:  15%|#5        | 3/20 [00:25<02:15,  7.94s/it]"
     ]
    },
    {
     "name": "stdout",
     "output_type": "stream",
     "text": [
      "Early stopping, best iteration is:\n",
      "[108]\tvalid_0's binary_logloss: 0.334172\tvalid_1's binary_logloss: 0.50209\n"
     ]
    },
    {
     "name": "stderr",
     "output_type": "stream",
     "text": [
      "num_leaves, val_score: 0.502090:  20%|##        | 4/20 [00:29<01:43,  6.46s/it][I 2024-02-20 15:01:45,517] Trial 10 finished with value: 0.5020903113802613 and parameters: {'num_leaves': 26}. Best is trial 8 with value: 0.5020903113802613.\n",
      "num_leaves, val_score: 0.502090:  20%|##        | 4/20 [00:29<01:43,  6.46s/it]"
     ]
    },
    {
     "name": "stdout",
     "output_type": "stream",
     "text": [
      "Early stopping, best iteration is:\n",
      "[108]\tvalid_0's binary_logloss: 0.334172\tvalid_1's binary_logloss: 0.50209\n"
     ]
    },
    {
     "name": "stderr",
     "output_type": "stream",
     "text": [
      "num_leaves, val_score: 0.502090:  25%|##5       | 5/20 [00:36<01:36,  6.45s/it][I 2024-02-20 15:01:51,959] Trial 11 finished with value: 0.5020903113802613 and parameters: {'num_leaves': 59}. Best is trial 8 with value: 0.5020903113802613.\n",
      "num_leaves, val_score: 0.502090:  25%|##5       | 5/20 [00:36<01:36,  6.45s/it]"
     ]
    },
    {
     "name": "stdout",
     "output_type": "stream",
     "text": [
      "Early stopping, best iteration is:\n",
      "[108]\tvalid_0's binary_logloss: 0.334172\tvalid_1's binary_logloss: 0.50209\n"
     ]
    },
    {
     "name": "stderr",
     "output_type": "stream",
     "text": [
      "num_leaves, val_score: 0.502090:  30%|###       | 6/20 [00:44<01:40,  7.18s/it][I 2024-02-20 15:02:00,567] Trial 12 finished with value: 0.5020903113802613 and parameters: {'num_leaves': 93}. Best is trial 8 with value: 0.5020903113802613.\n",
      "num_leaves, val_score: 0.502090:  30%|###       | 6/20 [00:44<01:40,  7.18s/it]"
     ]
    },
    {
     "name": "stdout",
     "output_type": "stream",
     "text": [
      "Early stopping, best iteration is:\n",
      "[108]\tvalid_0's binary_logloss: 0.334172\tvalid_1's binary_logloss: 0.50209\n"
     ]
    },
    {
     "name": "stderr",
     "output_type": "stream",
     "text": [
      "num_leaves, val_score: 0.502090:  35%|###5      | 7/20 [00:56<01:50,  8.54s/it][I 2024-02-20 15:02:11,893] Trial 13 finished with value: 0.5020903113802613 and parameters: {'num_leaves': 124}. Best is trial 8 with value: 0.5020903113802613.\n",
      "num_leaves, val_score: 0.502090:  35%|###5      | 7/20 [00:56<01:50,  8.54s/it]"
     ]
    },
    {
     "name": "stdout",
     "output_type": "stream",
     "text": [
      "Early stopping, best iteration is:\n",
      "[108]\tvalid_0's binary_logloss: 0.334172\tvalid_1's binary_logloss: 0.50209\n"
     ]
    },
    {
     "name": "stderr",
     "output_type": "stream",
     "text": [
      "num_leaves, val_score: 0.502090:  40%|####      | 8/20 [00:59<01:21,  6.76s/it][I 2024-02-20 15:02:14,846] Trial 14 finished with value: 0.5020903113802613 and parameters: {'num_leaves': 10}. Best is trial 8 with value: 0.5020903113802613.\n",
      "num_leaves, val_score: 0.502090:  40%|####      | 8/20 [00:59<01:21,  6.76s/it]"
     ]
    },
    {
     "name": "stdout",
     "output_type": "stream",
     "text": [
      "Early stopping, best iteration is:\n",
      "[108]\tvalid_0's binary_logloss: 0.334172\tvalid_1's binary_logloss: 0.50209\n"
     ]
    },
    {
     "name": "stderr",
     "output_type": "stream",
     "text": [
      "num_leaves, val_score: 0.502090:  45%|####5     | 9/20 [01:17<01:55, 10.47s/it][I 2024-02-20 15:02:33,477] Trial 15 finished with value: 0.5020903113802613 and parameters: {'num_leaves': 249}. Best is trial 8 with value: 0.5020903113802613.\n",
      "num_leaves, val_score: 0.502090:  45%|####5     | 9/20 [01:17<01:55, 10.47s/it]"
     ]
    },
    {
     "name": "stdout",
     "output_type": "stream",
     "text": [
      "Early stopping, best iteration is:\n",
      "[108]\tvalid_0's binary_logloss: 0.334172\tvalid_1's binary_logloss: 0.50209\n"
     ]
    },
    {
     "name": "stderr",
     "output_type": "stream",
     "text": [
      "num_leaves, val_score: 0.502090:  50%|#####     | 10/20 [01:25<01:36,  9.62s/it][I 2024-02-20 15:02:41,183] Trial 16 finished with value: 0.5020903113802613 and parameters: {'num_leaves': 79}. Best is trial 8 with value: 0.5020903113802613.\n",
      "num_leaves, val_score: 0.502090:  50%|#####     | 10/20 [01:25<01:36,  9.62s/it]"
     ]
    },
    {
     "name": "stdout",
     "output_type": "stream",
     "text": [
      "Early stopping, best iteration is:\n",
      "[108]\tvalid_0's binary_logloss: 0.334172\tvalid_1's binary_logloss: 0.50209\n"
     ]
    },
    {
     "name": "stderr",
     "output_type": "stream",
     "text": [
      "num_leaves, val_score: 0.502090:  55%|#####5    | 11/20 [01:38<01:34, 10.55s/it][I 2024-02-20 15:02:53,849] Trial 17 finished with value: 0.5020903113802613 and parameters: {'num_leaves': 152}. Best is trial 8 with value: 0.5020903113802613.\n",
      "num_leaves, val_score: 0.502090:  55%|#####5    | 11/20 [01:38<01:34, 10.55s/it]"
     ]
    },
    {
     "name": "stdout",
     "output_type": "stream",
     "text": [
      "Early stopping, best iteration is:\n",
      "[108]\tvalid_0's binary_logloss: 0.334172\tvalid_1's binary_logloss: 0.50209\n"
     ]
    },
    {
     "name": "stderr",
     "output_type": "stream",
     "text": [
      "num_leaves, val_score: 0.502090:  60%|######    | 12/20 [01:43<01:12,  9.10s/it][I 2024-02-20 15:02:59,626] Trial 18 finished with value: 0.5020903113802613 and parameters: {'num_leaves': 50}. Best is trial 8 with value: 0.5020903113802613.\n",
      "num_leaves, val_score: 0.502090:  60%|######    | 12/20 [01:44<01:12,  9.10s/it]"
     ]
    },
    {
     "name": "stdout",
     "output_type": "stream",
     "text": [
      "Early stopping, best iteration is:\n",
      "[108]\tvalid_0's binary_logloss: 0.334172\tvalid_1's binary_logloss: 0.50209\n"
     ]
    },
    {
     "name": "stderr",
     "output_type": "stream",
     "text": [
      "num_leaves, val_score: 0.500605:  65%|######5   | 13/20 [01:52<01:03,  9.04s/it][I 2024-02-20 15:03:08,530] Trial 19 finished with value: 0.5006048734001206 and parameters: {'num_leaves': 104}. Best is trial 19 with value: 0.5006048734001206.\n",
      "num_leaves, val_score: 0.500605:  65%|######5   | 13/20 [01:52<01:03,  9.04s/it]"
     ]
    },
    {
     "name": "stdout",
     "output_type": "stream",
     "text": [
      "Early stopping, best iteration is:\n",
      "[95]\tvalid_0's binary_logloss: 0.304116\tvalid_1's binary_logloss: 0.500605\n"
     ]
    },
    {
     "name": "stderr",
     "output_type": "stream",
     "text": [
      "num_leaves, val_score: 0.500605:  70%|#######   | 14/20 [02:03<00:56,  9.49s/it][I 2024-02-20 15:03:19,075] Trial 20 finished with value: 0.5006048734001206 and parameters: {'num_leaves': 115}. Best is trial 19 with value: 0.5006048734001206.\n",
      "num_leaves, val_score: 0.500605:  70%|#######   | 14/20 [02:03<00:56,  9.49s/it]"
     ]
    },
    {
     "name": "stdout",
     "output_type": "stream",
     "text": [
      "Early stopping, best iteration is:\n",
      "[95]\tvalid_0's binary_logloss: 0.304116\tvalid_1's binary_logloss: 0.500605\n"
     ]
    },
    {
     "name": "stderr",
     "output_type": "stream",
     "text": [
      "num_leaves, val_score: 0.500605:  75%|#######5  | 15/20 [02:14<00:49,  9.90s/it][I 2024-02-20 15:03:29,908] Trial 21 finished with value: 0.5006048734001206 and parameters: {'num_leaves': 118}. Best is trial 19 with value: 0.5006048734001206.\n",
      "num_leaves, val_score: 0.500605:  75%|#######5  | 15/20 [02:14<00:49,  9.90s/it]"
     ]
    },
    {
     "name": "stdout",
     "output_type": "stream",
     "text": [
      "Early stopping, best iteration is:\n",
      "[95]\tvalid_0's binary_logloss: 0.304116\tvalid_1's binary_logloss: 0.500605\n"
     ]
    },
    {
     "name": "stderr",
     "output_type": "stream",
     "text": [
      "num_leaves, val_score: 0.500605:  80%|########  | 16/20 [02:24<00:39,  9.99s/it][I 2024-02-20 15:03:40,107] Trial 22 finished with value: 0.5006048734001206 and parameters: {'num_leaves': 123}. Best is trial 19 with value: 0.5006048734001206.\n",
      "num_leaves, val_score: 0.500605:  80%|########  | 16/20 [02:24<00:39,  9.99s/it]"
     ]
    },
    {
     "name": "stdout",
     "output_type": "stream",
     "text": [
      "Early stopping, best iteration is:\n",
      "[95]\tvalid_0's binary_logloss: 0.304116\tvalid_1's binary_logloss: 0.500605\n"
     ]
    },
    {
     "name": "stderr",
     "output_type": "stream",
     "text": [
      "num_leaves, val_score: 0.500605:  85%|########5 | 17/20 [02:37<00:32, 10.86s/it][I 2024-02-20 15:03:52,982] Trial 23 finished with value: 0.5006048734001206 and parameters: {'num_leaves': 168}. Best is trial 19 with value: 0.5006048734001206.\n",
      "num_leaves, val_score: 0.500605:  85%|########5 | 17/20 [02:37<00:32, 10.86s/it]"
     ]
    },
    {
     "name": "stdout",
     "output_type": "stream",
     "text": [
      "Early stopping, best iteration is:\n",
      "[95]\tvalid_0's binary_logloss: 0.304116\tvalid_1's binary_logloss: 0.500605\n"
     ]
    },
    {
     "name": "stderr",
     "output_type": "stream",
     "text": [
      "num_leaves, val_score: 0.500605:  90%|######### | 18/20 [02:47<00:20, 10.50s/it][I 2024-02-20 15:04:02,640] Trial 24 finished with value: 0.5006048734001206 and parameters: {'num_leaves': 116}. Best is trial 19 with value: 0.5006048734001206.\n",
      "num_leaves, val_score: 0.500605:  90%|######### | 18/20 [02:47<00:20, 10.50s/it]"
     ]
    },
    {
     "name": "stdout",
     "output_type": "stream",
     "text": [
      "Early stopping, best iteration is:\n",
      "[95]\tvalid_0's binary_logloss: 0.304116\tvalid_1's binary_logloss: 0.500605\n"
     ]
    },
    {
     "name": "stderr",
     "output_type": "stream",
     "text": [
      "num_leaves, val_score: 0.500605:  95%|#########5| 19/20 [03:01<00:11, 11.61s/it][I 2024-02-20 15:04:16,854] Trial 25 finished with value: 0.5006048734001206 and parameters: {'num_leaves': 192}. Best is trial 19 with value: 0.5006048734001206.\n",
      "num_leaves, val_score: 0.500605:  95%|#########5| 19/20 [03:01<00:11, 11.61s/it]"
     ]
    },
    {
     "name": "stdout",
     "output_type": "stream",
     "text": [
      "Early stopping, best iteration is:\n",
      "[95]\tvalid_0's binary_logloss: 0.304116\tvalid_1's binary_logloss: 0.500605\n"
     ]
    },
    {
     "name": "stderr",
     "output_type": "stream",
     "text": [
      "num_leaves, val_score: 0.500605: 100%|##########| 20/20 [03:09<00:00, 10.75s/it][I 2024-02-20 15:04:25,597] Trial 26 finished with value: 0.5006048734001206 and parameters: {'num_leaves': 101}. Best is trial 19 with value: 0.5006048734001206.\n",
      "num_leaves, val_score: 0.500605: 100%|##########| 20/20 [03:09<00:00,  9.50s/it]\n"
     ]
    },
    {
     "name": "stdout",
     "output_type": "stream",
     "text": [
      "Early stopping, best iteration is:\n",
      "[95]\tvalid_0's binary_logloss: 0.304116\tvalid_1's binary_logloss: 0.500605\n"
     ]
    },
    {
     "name": "stderr",
     "output_type": "stream",
     "text": [
      "bagging, val_score: 0.500605:  10%|#         | 1/10 [00:08<01:19,  8.80s/it][I 2024-02-20 15:04:34,410] Trial 27 finished with value: 0.5006048734001206 and parameters: {'bagging_fraction': 0.8290966202970953, 'bagging_freq': 5}. Best is trial 27 with value: 0.5006048734001206.\n",
      "bagging, val_score: 0.500605:  10%|#         | 1/10 [00:08<01:19,  8.80s/it]"
     ]
    },
    {
     "name": "stdout",
     "output_type": "stream",
     "text": [
      "Early stopping, best iteration is:\n",
      "[95]\tvalid_0's binary_logloss: 0.304116\tvalid_1's binary_logloss: 0.500605\n"
     ]
    },
    {
     "name": "stderr",
     "output_type": "stream",
     "text": [
      "bagging, val_score: 0.500605:  20%|##        | 2/10 [00:17<01:07,  8.47s/it][I 2024-02-20 15:04:42,650] Trial 28 finished with value: 0.5006048734001206 and parameters: {'bagging_fraction': 0.4507667621429555, 'bagging_freq': 1}. Best is trial 27 with value: 0.5006048734001206.\n",
      "bagging, val_score: 0.500605:  20%|##        | 2/10 [00:17<01:07,  8.47s/it]"
     ]
    },
    {
     "name": "stdout",
     "output_type": "stream",
     "text": [
      "Early stopping, best iteration is:\n",
      "[95]\tvalid_0's binary_logloss: 0.304116\tvalid_1's binary_logloss: 0.500605\n"
     ]
    },
    {
     "name": "stderr",
     "output_type": "stream",
     "text": [
      "bagging, val_score: 0.500605:  30%|###       | 3/10 [00:26<01:01,  8.74s/it][I 2024-02-20 15:04:51,706] Trial 29 finished with value: 0.5006048734001206 and parameters: {'bagging_fraction': 0.9928650935900654, 'bagging_freq': 7}. Best is trial 27 with value: 0.5006048734001206.\n",
      "bagging, val_score: 0.500605:  30%|###       | 3/10 [00:26<01:01,  8.74s/it]"
     ]
    },
    {
     "name": "stdout",
     "output_type": "stream",
     "text": [
      "Early stopping, best iteration is:\n",
      "[95]\tvalid_0's binary_logloss: 0.304116\tvalid_1's binary_logloss: 0.500605\n"
     ]
    },
    {
     "name": "stderr",
     "output_type": "stream",
     "text": [
      "bagging, val_score: 0.500605:  40%|####      | 4/10 [00:34<00:50,  8.49s/it][I 2024-02-20 15:04:59,809] Trial 30 finished with value: 0.5006048734001206 and parameters: {'bagging_fraction': 0.40230288654025664, 'bagging_freq': 2}. Best is trial 27 with value: 0.5006048734001206.\n",
      "bagging, val_score: 0.500605:  40%|####      | 4/10 [00:34<00:50,  8.49s/it]"
     ]
    },
    {
     "name": "stdout",
     "output_type": "stream",
     "text": [
      "Early stopping, best iteration is:\n",
      "[95]\tvalid_0's binary_logloss: 0.304116\tvalid_1's binary_logloss: 0.500605\n"
     ]
    },
    {
     "name": "stderr",
     "output_type": "stream",
     "text": [
      "bagging, val_score: 0.500605:  50%|#####     | 5/10 [00:42<00:42,  8.49s/it][I 2024-02-20 15:05:08,309] Trial 31 finished with value: 0.5006048734001206 and parameters: {'bagging_fraction': 0.6455902284260232, 'bagging_freq': 4}. Best is trial 27 with value: 0.5006048734001206.\n",
      "bagging, val_score: 0.500605:  50%|#####     | 5/10 [00:42<00:42,  8.49s/it]"
     ]
    },
    {
     "name": "stdout",
     "output_type": "stream",
     "text": [
      "Early stopping, best iteration is:\n",
      "[95]\tvalid_0's binary_logloss: 0.304116\tvalid_1's binary_logloss: 0.500605\n"
     ]
    },
    {
     "name": "stderr",
     "output_type": "stream",
     "text": [
      "bagging, val_score: 0.500605:  60%|######    | 6/10 [00:51<00:33,  8.50s/it][I 2024-02-20 15:05:16,818] Trial 32 finished with value: 0.5006048734001206 and parameters: {'bagging_fraction': 0.6409107096395048, 'bagging_freq': 7}. Best is trial 27 with value: 0.5006048734001206.\n",
      "bagging, val_score: 0.500605:  60%|######    | 6/10 [00:51<00:33,  8.50s/it]"
     ]
    },
    {
     "name": "stdout",
     "output_type": "stream",
     "text": [
      "Early stopping, best iteration is:\n",
      "[95]\tvalid_0's binary_logloss: 0.304116\tvalid_1's binary_logloss: 0.500605\n"
     ]
    },
    {
     "name": "stderr",
     "output_type": "stream",
     "text": [
      "bagging, val_score: 0.500605:  70%|#######   | 7/10 [01:00<00:25,  8.65s/it][I 2024-02-20 15:05:25,789] Trial 33 finished with value: 0.5006048734001206 and parameters: {'bagging_fraction': 0.9877395996139684, 'bagging_freq': 4}. Best is trial 27 with value: 0.5006048734001206.\n",
      "bagging, val_score: 0.500605:  70%|#######   | 7/10 [01:00<00:25,  8.65s/it]"
     ]
    },
    {
     "name": "stdout",
     "output_type": "stream",
     "text": [
      "Early stopping, best iteration is:\n",
      "[95]\tvalid_0's binary_logloss: 0.304116\tvalid_1's binary_logloss: 0.500605\n"
     ]
    },
    {
     "name": "stderr",
     "output_type": "stream",
     "text": [
      "bagging, val_score: 0.500605:  80%|########  | 8/10 [01:09<00:17,  8.93s/it][I 2024-02-20 15:05:35,309] Trial 34 finished with value: 0.5006048734001206 and parameters: {'bagging_fraction': 0.7972185404201217, 'bagging_freq': 2}. Best is trial 27 with value: 0.5006048734001206.\n",
      "bagging, val_score: 0.500605:  80%|########  | 8/10 [01:09<00:17,  8.93s/it]"
     ]
    },
    {
     "name": "stdout",
     "output_type": "stream",
     "text": [
      "Early stopping, best iteration is:\n",
      "[95]\tvalid_0's binary_logloss: 0.304116\tvalid_1's binary_logloss: 0.500605\n"
     ]
    },
    {
     "name": "stderr",
     "output_type": "stream",
     "text": [
      "bagging, val_score: 0.500605:  90%|######### | 9/10 [01:18<00:08,  8.99s/it][I 2024-02-20 15:05:44,433] Trial 35 finished with value: 0.5006048734001206 and parameters: {'bagging_fraction': 0.52426135995336, 'bagging_freq': 5}. Best is trial 27 with value: 0.5006048734001206.\n",
      "bagging, val_score: 0.500605:  90%|######### | 9/10 [01:18<00:08,  8.99s/it]"
     ]
    },
    {
     "name": "stdout",
     "output_type": "stream",
     "text": [
      "Early stopping, best iteration is:\n",
      "[95]\tvalid_0's binary_logloss: 0.304116\tvalid_1's binary_logloss: 0.500605\n"
     ]
    },
    {
     "name": "stderr",
     "output_type": "stream",
     "text": [
      "bagging, val_score: 0.500605: 100%|##########| 10/10 [01:27<00:00,  8.85s/it][I 2024-02-20 15:05:52,955] Trial 36 finished with value: 0.5006048734001206 and parameters: {'bagging_fraction': 0.5501286373091325, 'bagging_freq': 6}. Best is trial 27 with value: 0.5006048734001206.\n",
      "bagging, val_score: 0.500605: 100%|##########| 10/10 [01:27<00:00,  8.74s/it]\n"
     ]
    },
    {
     "name": "stdout",
     "output_type": "stream",
     "text": [
      "Early stopping, best iteration is:\n",
      "[95]\tvalid_0's binary_logloss: 0.304116\tvalid_1's binary_logloss: 0.500605\n"
     ]
    },
    {
     "name": "stderr",
     "output_type": "stream",
     "text": [
      "feature_fraction_stage2, val_score: 0.500605:  17%|#6        | 1/6 [00:09<00:48,  9.60s/it][I 2024-02-20 15:06:02,565] Trial 37 finished with value: 0.5006048734001206 and parameters: {'feature_fraction': 0.616}. Best is trial 37 with value: 0.5006048734001206.\n",
      "feature_fraction_stage2, val_score: 0.500605:  17%|#6        | 1/6 [00:09<00:48,  9.60s/it]"
     ]
    },
    {
     "name": "stdout",
     "output_type": "stream",
     "text": [
      "Early stopping, best iteration is:\n",
      "[95]\tvalid_0's binary_logloss: 0.304116\tvalid_1's binary_logloss: 0.500605\n"
     ]
    },
    {
     "name": "stderr",
     "output_type": "stream",
     "text": [
      "feature_fraction_stage2, val_score: 0.500605:  33%|###3      | 2/6 [00:18<00:36,  9.06s/it][I 2024-02-20 15:06:11,253] Trial 38 finished with value: 0.5006048734001206 and parameters: {'feature_fraction': 0.584}. Best is trial 37 with value: 0.5006048734001206.\n",
      "feature_fraction_stage2, val_score: 0.500605:  33%|###3      | 2/6 [00:18<00:36,  9.06s/it]"
     ]
    },
    {
     "name": "stdout",
     "output_type": "stream",
     "text": [
      "Early stopping, best iteration is:\n",
      "[95]\tvalid_0's binary_logloss: 0.304116\tvalid_1's binary_logloss: 0.500605\n"
     ]
    },
    {
     "name": "stderr",
     "output_type": "stream",
     "text": [
      "feature_fraction_stage2, val_score: 0.500605:  50%|#####     | 3/6 [00:26<00:25,  8.61s/it][I 2024-02-20 15:06:19,333] Trial 39 finished with value: 0.5006048734001206 and parameters: {'feature_fraction': 0.52}. Best is trial 37 with value: 0.5006048734001206.\n",
      "feature_fraction_stage2, val_score: 0.500605:  50%|#####     | 3/6 [00:26<00:25,  8.61s/it]"
     ]
    },
    {
     "name": "stdout",
     "output_type": "stream",
     "text": [
      "Early stopping, best iteration is:\n",
      "[95]\tvalid_0's binary_logloss: 0.304116\tvalid_1's binary_logloss: 0.500605\n"
     ]
    },
    {
     "name": "stderr",
     "output_type": "stream",
     "text": [
      "feature_fraction_stage2, val_score: 0.500605:  67%|######6   | 4/6 [00:35<00:17,  8.86s/it][I 2024-02-20 15:06:28,577] Trial 40 finished with value: 0.5006048734001206 and parameters: {'feature_fraction': 0.6479999999999999}. Best is trial 37 with value: 0.5006048734001206.\n",
      "feature_fraction_stage2, val_score: 0.500605:  67%|######6   | 4/6 [00:35<00:17,  8.86s/it]"
     ]
    },
    {
     "name": "stdout",
     "output_type": "stream",
     "text": [
      "Early stopping, best iteration is:\n",
      "[95]\tvalid_0's binary_logloss: 0.304116\tvalid_1's binary_logloss: 0.500605\n"
     ]
    },
    {
     "name": "stderr",
     "output_type": "stream",
     "text": [
      "feature_fraction_stage2, val_score: 0.500605:  83%|########3 | 5/6 [00:44<00:08,  8.69s/it][I 2024-02-20 15:06:36,972] Trial 41 finished with value: 0.5006048734001206 and parameters: {'feature_fraction': 0.552}. Best is trial 37 with value: 0.5006048734001206.\n",
      "feature_fraction_stage2, val_score: 0.500605:  83%|########3 | 5/6 [00:44<00:08,  8.69s/it]"
     ]
    },
    {
     "name": "stdout",
     "output_type": "stream",
     "text": [
      "Early stopping, best iteration is:\n",
      "[95]\tvalid_0's binary_logloss: 0.304116\tvalid_1's binary_logloss: 0.500605\n"
     ]
    },
    {
     "name": "stderr",
     "output_type": "stream",
     "text": [
      "feature_fraction_stage2, val_score: 0.500605: 100%|##########| 6/6 [00:53<00:00,  8.96s/it][I 2024-02-20 15:06:46,452] Trial 42 finished with value: 0.5006048734001206 and parameters: {'feature_fraction': 0.6799999999999999}. Best is trial 37 with value: 0.5006048734001206.\n",
      "feature_fraction_stage2, val_score: 0.500605: 100%|##########| 6/6 [00:53<00:00,  8.92s/it]\n"
     ]
    },
    {
     "name": "stdout",
     "output_type": "stream",
     "text": [
      "Early stopping, best iteration is:\n",
      "[95]\tvalid_0's binary_logloss: 0.304116\tvalid_1's binary_logloss: 0.500605\n"
     ]
    },
    {
     "name": "stderr",
     "output_type": "stream",
     "text": [
      "regularization_factors, val_score: 0.500605:   5%|5         | 1/20 [00:11<03:29, 11.02s/it][I 2024-02-20 15:06:57,479] Trial 43 finished with value: 0.5006048734001206 and parameters: {'lambda_l1': 0.027318025396945597, 'lambda_l2': 0.0039995152383668865}. Best is trial 43 with value: 0.5006048734001206.\n",
      "regularization_factors, val_score: 0.500605:   5%|5         | 1/20 [00:11<03:29, 11.02s/it]"
     ]
    },
    {
     "name": "stdout",
     "output_type": "stream",
     "text": [
      "Early stopping, best iteration is:\n",
      "[95]\tvalid_0's binary_logloss: 0.304116\tvalid_1's binary_logloss: 0.500605\n"
     ]
    },
    {
     "name": "stderr",
     "output_type": "stream",
     "text": [
      "regularization_factors, val_score: 0.500562:  10%|#         | 2/20 [00:21<03:10, 10.59s/it][I 2024-02-20 15:07:07,780] Trial 44 finished with value: 0.5005617463475084 and parameters: {'lambda_l1': 5.774327768712259e-08, 'lambda_l2': 1.1818171572391107e-08}. Best is trial 44 with value: 0.5005617463475084.\n",
      "regularization_factors, val_score: 0.500562:  10%|#         | 2/20 [00:21<03:10, 10.59s/it]"
     ]
    },
    {
     "name": "stdout",
     "output_type": "stream",
     "text": [
      "Early stopping, best iteration is:\n",
      "[95]\tvalid_0's binary_logloss: 0.304116\tvalid_1's binary_logloss: 0.500562\n"
     ]
    },
    {
     "name": "stderr",
     "output_type": "stream",
     "text": [
      "regularization_factors, val_score: 0.500561:  15%|#5        | 3/20 [00:31<02:57, 10.46s/it][I 2024-02-20 15:07:18,085] Trial 45 finished with value: 0.5005608331394009 and parameters: {'lambda_l1': 2.6203374505370756e-08, 'lambda_l2': 1.143089848692053e-08}. Best is trial 45 with value: 0.5005608331394009.\n",
      "regularization_factors, val_score: 0.500561:  15%|#5        | 3/20 [00:31<02:57, 10.46s/it]"
     ]
    },
    {
     "name": "stdout",
     "output_type": "stream",
     "text": [
      "Early stopping, best iteration is:\n",
      "[95]\tvalid_0's binary_logloss: 0.304116\tvalid_1's binary_logloss: 0.500561\n"
     ]
    },
    {
     "name": "stderr",
     "output_type": "stream",
     "text": [
      "regularization_factors, val_score: 0.500531:  20%|##        | 4/20 [00:41<02:46, 10.41s/it][I 2024-02-20 15:07:28,414] Trial 46 finished with value: 0.5005310336601385 and parameters: {'lambda_l1': 1.0827876610430767e-08, 'lambda_l2': 9.762144175011304e-08}. Best is trial 46 with value: 0.5005310336601385.\n",
      "regularization_factors, val_score: 0.500531:  20%|##        | 4/20 [00:41<02:46, 10.41s/it]"
     ]
    },
    {
     "name": "stdout",
     "output_type": "stream",
     "text": [
      "Early stopping, best iteration is:\n",
      "[95]\tvalid_0's binary_logloss: 0.304116\tvalid_1's binary_logloss: 0.500531\n"
     ]
    },
    {
     "name": "stderr",
     "output_type": "stream",
     "text": [
      "regularization_factors, val_score: 0.500531:  25%|##5       | 5/20 [00:52<02:35, 10.39s/it][I 2024-02-20 15:07:38,762] Trial 47 finished with value: 0.5005310336601385 and parameters: {'lambda_l1': 1.2909084488273607e-08, 'lambda_l2': 1.0726580414868991e-08}. Best is trial 46 with value: 0.5005310336601385.\n",
      "regularization_factors, val_score: 0.500531:  25%|##5       | 5/20 [00:52<02:35, 10.39s/it]"
     ]
    },
    {
     "name": "stdout",
     "output_type": "stream",
     "text": [
      "Early stopping, best iteration is:\n",
      "[95]\tvalid_0's binary_logloss: 0.304116\tvalid_1's binary_logloss: 0.500531\n"
     ]
    },
    {
     "name": "stderr",
     "output_type": "stream",
     "text": [
      "regularization_factors, val_score: 0.500531:  30%|###       | 6/20 [01:02<02:25, 10.36s/it][I 2024-02-20 15:07:49,081] Trial 48 finished with value: 0.5005310336601385 and parameters: {'lambda_l1': 1.5737576210885603e-08, 'lambda_l2': 1.552378211751721e-08}. Best is trial 46 with value: 0.5005310336601385.\n",
      "regularization_factors, val_score: 0.500531:  30%|###       | 6/20 [01:02<02:25, 10.36s/it]"
     ]
    },
    {
     "name": "stdout",
     "output_type": "stream",
     "text": [
      "Early stopping, best iteration is:\n",
      "[95]\tvalid_0's binary_logloss: 0.304116\tvalid_1's binary_logloss: 0.500531\n"
     ]
    },
    {
     "name": "stderr",
     "output_type": "stream",
     "text": [
      "regularization_factors, val_score: 0.500531:  35%|###5      | 7/20 [01:13<02:14, 10.38s/it][I 2024-02-20 15:07:59,504] Trial 49 finished with value: 0.5005310336601385 and parameters: {'lambda_l1': 1.1275348123800862e-08, 'lambda_l2': 1.0482521038888561e-08}. Best is trial 46 with value: 0.5005310336601385.\n",
      "regularization_factors, val_score: 0.500531:  35%|###5      | 7/20 [01:13<02:14, 10.38s/it]"
     ]
    },
    {
     "name": "stdout",
     "output_type": "stream",
     "text": [
      "Early stopping, best iteration is:\n",
      "[95]\tvalid_0's binary_logloss: 0.304116\tvalid_1's binary_logloss: 0.500531\n"
     ]
    },
    {
     "name": "stderr",
     "output_type": "stream",
     "text": [
      "regularization_factors, val_score: 0.500531:  40%|####      | 8/20 [01:23<02:04, 10.35s/it][I 2024-02-20 15:08:09,783] Trial 50 finished with value: 0.5005310336601385 and parameters: {'lambda_l1': 1.0615386148338533e-08, 'lambda_l2': 2.0627348938383477e-08}. Best is trial 46 with value: 0.5005310336601385.\n",
      "regularization_factors, val_score: 0.500531:  40%|####      | 8/20 [01:23<02:04, 10.35s/it]"
     ]
    },
    {
     "name": "stdout",
     "output_type": "stream",
     "text": [
      "Early stopping, best iteration is:\n",
      "[95]\tvalid_0's binary_logloss: 0.304116\tvalid_1's binary_logloss: 0.500531\n"
     ]
    },
    {
     "name": "stderr",
     "output_type": "stream",
     "text": [
      "regularization_factors, val_score: 0.500531:  45%|####5     | 9/20 [01:33<01:54, 10.37s/it][I 2024-02-20 15:08:20,210] Trial 51 finished with value: 0.5005310336601385 and parameters: {'lambda_l1': 1.2360411279707158e-08, 'lambda_l2': 1.40657628480856e-08}. Best is trial 46 with value: 0.5005310336601385.\n",
      "regularization_factors, val_score: 0.500531:  45%|####5     | 9/20 [01:33<01:54, 10.37s/it]"
     ]
    },
    {
     "name": "stdout",
     "output_type": "stream",
     "text": [
      "Early stopping, best iteration is:\n",
      "[95]\tvalid_0's binary_logloss: 0.304116\tvalid_1's binary_logloss: 0.500531\n"
     ]
    },
    {
     "name": "stderr",
     "output_type": "stream",
     "text": [
      "regularization_factors, val_score: 0.500531:  50%|#####     | 10/20 [01:44<01:43, 10.37s/it][I 2024-02-20 15:08:30,565] Trial 52 finished with value: 0.5005310336601385 and parameters: {'lambda_l1': 1.309932386375396e-08, 'lambda_l2': 1.3953904286893867e-08}. Best is trial 46 with value: 0.5005310336601385.\n",
      "regularization_factors, val_score: 0.500531:  50%|#####     | 10/20 [01:44<01:43, 10.37s/it]"
     ]
    },
    {
     "name": "stdout",
     "output_type": "stream",
     "text": [
      "Early stopping, best iteration is:\n",
      "[95]\tvalid_0's binary_logloss: 0.304116\tvalid_1's binary_logloss: 0.500531\n"
     ]
    },
    {
     "name": "stderr",
     "output_type": "stream",
     "text": [
      "regularization_factors, val_score: 0.500531:  55%|#####5    | 11/20 [01:54<01:33, 10.36s/it][I 2024-02-20 15:08:40,921] Trial 53 finished with value: 0.5005310336601385 and parameters: {'lambda_l1': 1.0138806492328524e-08, 'lambda_l2': 1.821665178665474e-08}. Best is trial 46 with value: 0.5005310336601385.\n",
      "regularization_factors, val_score: 0.500531:  55%|#####5    | 11/20 [01:54<01:33, 10.36s/it]"
     ]
    },
    {
     "name": "stdout",
     "output_type": "stream",
     "text": [
      "Early stopping, best iteration is:\n",
      "[95]\tvalid_0's binary_logloss: 0.304116\tvalid_1's binary_logloss: 0.500531\n"
     ]
    },
    {
     "name": "stderr",
     "output_type": "stream",
     "text": [
      "regularization_factors, val_score: 0.500526:  60%|######    | 12/20 [02:05<01:24, 10.51s/it][I 2024-02-20 15:08:51,754] Trial 54 finished with value: 0.5005260752002821 and parameters: {'lambda_l1': 1.174108279927266e-08, 'lambda_l2': 1.8208684212945965e-08}. Best is trial 54 with value: 0.5005260752002821.\n",
      "regularization_factors, val_score: 0.500526:  60%|######    | 12/20 [02:05<01:24, 10.51s/it]"
     ]
    },
    {
     "name": "stdout",
     "output_type": "stream",
     "text": [
      "Early stopping, best iteration is:\n",
      "[95]\tvalid_0's binary_logloss: 0.304116\tvalid_1's binary_logloss: 0.500526\n"
     ]
    },
    {
     "name": "stderr",
     "output_type": "stream",
     "text": [
      "regularization_factors, val_score: 0.500526:  65%|######5   | 13/20 [02:15<01:13, 10.45s/it][I 2024-02-20 15:09:02,070] Trial 55 finished with value: 0.5005260752002821 and parameters: {'lambda_l1': 1.0634069099713028e-08, 'lambda_l2': 7.994312712339153e-08}. Best is trial 54 with value: 0.5005260752002821.\n",
      "regularization_factors, val_score: 0.500526:  65%|######5   | 13/20 [02:15<01:13, 10.45s/it]"
     ]
    },
    {
     "name": "stdout",
     "output_type": "stream",
     "text": [
      "Early stopping, best iteration is:\n",
      "[95]\tvalid_0's binary_logloss: 0.304116\tvalid_1's binary_logloss: 0.500526\n"
     ]
    },
    {
     "name": "stderr",
     "output_type": "stream",
     "text": [
      "regularization_factors, val_score: 0.500526:  70%|#######   | 14/20 [02:25<01:02, 10.40s/it][I 2024-02-20 15:09:12,346] Trial 56 finished with value: 0.5005260752002821 and parameters: {'lambda_l1': 4.912998295121209e-07, 'lambda_l2': 1.4925348017846683e-06}. Best is trial 54 with value: 0.5005260752002821.\n",
      "regularization_factors, val_score: 0.500526:  70%|#######   | 14/20 [02:25<01:02, 10.40s/it]"
     ]
    },
    {
     "name": "stdout",
     "output_type": "stream",
     "text": [
      "Early stopping, best iteration is:\n",
      "[95]\tvalid_0's binary_logloss: 0.304116\tvalid_1's binary_logloss: 0.500526\n"
     ]
    },
    {
     "name": "stderr",
     "output_type": "stream",
     "text": [
      "regularization_factors, val_score: 0.500526:  75%|#######5  | 15/20 [02:36<00:52, 10.40s/it][I 2024-02-20 15:09:22,752] Trial 57 finished with value: 0.5005260752002821 and parameters: {'lambda_l1': 1.1351505089101847e-06, 'lambda_l2': 1.2704768267462965e-06}. Best is trial 54 with value: 0.5005260752002821.\n",
      "regularization_factors, val_score: 0.500526:  75%|#######5  | 15/20 [02:36<00:52, 10.40s/it]"
     ]
    },
    {
     "name": "stdout",
     "output_type": "stream",
     "text": [
      "Early stopping, best iteration is:\n",
      "[95]\tvalid_0's binary_logloss: 0.304116\tvalid_1's binary_logloss: 0.500526\n"
     ]
    },
    {
     "name": "stderr",
     "output_type": "stream",
     "text": [
      "regularization_factors, val_score: 0.500526:  80%|########  | 16/20 [02:46<00:41, 10.37s/it][I 2024-02-20 15:09:33,048] Trial 58 finished with value: 0.5005260752002821 and parameters: {'lambda_l1': 1.583748622820711e-06, 'lambda_l2': 1.928734233721784e-06}. Best is trial 54 with value: 0.5005260752002821.\n",
      "regularization_factors, val_score: 0.500526:  80%|########  | 16/20 [02:46<00:41, 10.37s/it]"
     ]
    },
    {
     "name": "stdout",
     "output_type": "stream",
     "text": [
      "Early stopping, best iteration is:\n",
      "[95]\tvalid_0's binary_logloss: 0.304116\tvalid_1's binary_logloss: 0.500526\n"
     ]
    },
    {
     "name": "stderr",
     "output_type": "stream",
     "text": [
      "regularization_factors, val_score: 0.500526:  85%|########5 | 17/20 [02:57<00:31, 10.39s/it][I 2024-02-20 15:09:43,488] Trial 59 finished with value: 0.5005260752002821 and parameters: {'lambda_l1': 1.2687572754636755e-06, 'lambda_l2': 1.4193913001249008e-06}. Best is trial 54 with value: 0.5005260752002821.\n",
      "regularization_factors, val_score: 0.500526:  85%|########5 | 17/20 [02:57<00:31, 10.39s/it]"
     ]
    },
    {
     "name": "stdout",
     "output_type": "stream",
     "text": [
      "Early stopping, best iteration is:\n",
      "[95]\tvalid_0's binary_logloss: 0.304116\tvalid_1's binary_logloss: 0.500526\n"
     ]
    },
    {
     "name": "stderr",
     "output_type": "stream",
     "text": [
      "regularization_factors, val_score: 0.500526:  90%|######### | 18/20 [03:07<00:20, 10.38s/it][I 2024-02-20 15:09:53,864] Trial 60 finished with value: 0.5005260752002821 and parameters: {'lambda_l1': 1.0327613759272451e-06, 'lambda_l2': 2.498097594533717e-06}. Best is trial 54 with value: 0.5005260752002821.\n",
      "regularization_factors, val_score: 0.500526:  90%|######### | 18/20 [03:07<00:20, 10.38s/it]"
     ]
    },
    {
     "name": "stdout",
     "output_type": "stream",
     "text": [
      "Early stopping, best iteration is:\n",
      "[95]\tvalid_0's binary_logloss: 0.304116\tvalid_1's binary_logloss: 0.500526\n"
     ]
    },
    {
     "name": "stderr",
     "output_type": "stream",
     "text": [
      "regularization_factors, val_score: 0.500526:  95%|#########5| 19/20 [03:17<00:10, 10.38s/it][I 2024-02-20 15:10:04,211] Trial 61 finished with value: 0.5005260752002821 and parameters: {'lambda_l1': 1.620425325283705e-06, 'lambda_l2': 1.4345602047159974e-06}. Best is trial 54 with value: 0.5005260752002821.\n",
      "regularization_factors, val_score: 0.500526:  95%|#########5| 19/20 [03:17<00:10, 10.38s/it]"
     ]
    },
    {
     "name": "stdout",
     "output_type": "stream",
     "text": [
      "Early stopping, best iteration is:\n",
      "[95]\tvalid_0's binary_logloss: 0.304116\tvalid_1's binary_logloss: 0.500526\n"
     ]
    },
    {
     "name": "stderr",
     "output_type": "stream",
     "text": [
      "regularization_factors, val_score: 0.500526: 100%|##########| 20/20 [03:28<00:00, 10.38s/it][I 2024-02-20 15:10:14,590] Trial 62 finished with value: 0.5005260752002821 and parameters: {'lambda_l1': 1.6496364397444507e-06, 'lambda_l2': 3.2234657679467983e-06}. Best is trial 54 with value: 0.5005260752002821.\n",
      "regularization_factors, val_score: 0.500526: 100%|##########| 20/20 [03:28<00:00, 10.41s/it]\n"
     ]
    },
    {
     "name": "stdout",
     "output_type": "stream",
     "text": [
      "Early stopping, best iteration is:\n",
      "[95]\tvalid_0's binary_logloss: 0.304116\tvalid_1's binary_logloss: 0.500526\n"
     ]
    },
    {
     "name": "stderr",
     "output_type": "stream",
     "text": [
      "min_child_samples, val_score: 0.500526:  20%|##        | 1/5 [00:09<00:39,  9.85s/it][I 2024-02-20 15:10:24,452] Trial 63 finished with value: 0.5005260752002821 and parameters: {'min_child_samples': 50}. Best is trial 63 with value: 0.5005260752002821.\n",
      "min_child_samples, val_score: 0.500526:  20%|##        | 1/5 [00:09<00:39,  9.85s/it]"
     ]
    },
    {
     "name": "stdout",
     "output_type": "stream",
     "text": [
      "Early stopping, best iteration is:\n",
      "[95]\tvalid_0's binary_logloss: 0.304116\tvalid_1's binary_logloss: 0.500526\n"
     ]
    },
    {
     "name": "stderr",
     "output_type": "stream",
     "text": [
      "min_child_samples, val_score: 0.500526:  40%|####      | 2/5 [00:20<00:30, 10.06s/it][I 2024-02-20 15:10:34,666] Trial 64 finished with value: 0.5005260752002821 and parameters: {'min_child_samples': 25}. Best is trial 63 with value: 0.5005260752002821.\n",
      "min_child_samples, val_score: 0.500526:  40%|####      | 2/5 [00:20<00:30, 10.06s/it]"
     ]
    },
    {
     "name": "stdout",
     "output_type": "stream",
     "text": [
      "Early stopping, best iteration is:\n",
      "[95]\tvalid_0's binary_logloss: 0.304116\tvalid_1's binary_logloss: 0.500526\n"
     ]
    },
    {
     "name": "stderr",
     "output_type": "stream",
     "text": [
      "min_child_samples, val_score: 0.500526:  60%|######    | 3/5 [00:31<00:21, 10.57s/it][I 2024-02-20 15:10:45,835] Trial 65 finished with value: 0.5005260752002821 and parameters: {'min_child_samples': 5}. Best is trial 63 with value: 0.5005260752002821.\n",
      "min_child_samples, val_score: 0.500526:  60%|######    | 3/5 [00:31<00:21, 10.57s/it]"
     ]
    },
    {
     "name": "stdout",
     "output_type": "stream",
     "text": [
      "Early stopping, best iteration is:\n",
      "[95]\tvalid_0's binary_logloss: 0.304116\tvalid_1's binary_logloss: 0.500526\n"
     ]
    },
    {
     "name": "stderr",
     "output_type": "stream",
     "text": [
      "min_child_samples, val_score: 0.500526:  80%|########  | 4/5 [00:40<00:10, 10.17s/it][I 2024-02-20 15:10:55,405] Trial 66 finished with value: 0.5005260752002821 and parameters: {'min_child_samples': 100}. Best is trial 63 with value: 0.5005260752002821.\n",
      "min_child_samples, val_score: 0.500526:  80%|########  | 4/5 [00:40<00:10, 10.17s/it]"
     ]
    },
    {
     "name": "stdout",
     "output_type": "stream",
     "text": [
      "Early stopping, best iteration is:\n",
      "[95]\tvalid_0's binary_logloss: 0.304116\tvalid_1's binary_logloss: 0.500526\n"
     ]
    },
    {
     "name": "stderr",
     "output_type": "stream",
     "text": [
      "min_child_samples, val_score: 0.500526: 100%|##########| 5/5 [00:51<00:00, 10.42s/it][I 2024-02-20 15:11:06,257] Trial 67 finished with value: 0.5005260752002821 and parameters: {'min_child_samples': 10}. Best is trial 63 with value: 0.5005260752002821.\n",
      "min_child_samples, val_score: 0.500526: 100%|##########| 5/5 [00:51<00:00, 10.33s/it]\n",
      "[I 2024-02-20 15:11:06,322] A new study created in memory with name: no-name-588efc04-ffae-4644-8abc-10e6b29bd2d8\n"
     ]
    },
    {
     "name": "stdout",
     "output_type": "stream",
     "text": [
      "Early stopping, best iteration is:\n",
      "[95]\tvalid_0's binary_logloss: 0.304116\tvalid_1's binary_logloss: 0.500526\n"
     ]
    },
    {
     "name": "stderr",
     "output_type": "stream",
     "text": [
      "feature_fraction, val_score: inf:   0%|          | 0/7 [00:00<?, ?it/s]"
     ]
    },
    {
     "name": "stdout",
     "output_type": "stream",
     "text": [
      "Training until validation scores don't improve for 100 rounds\n"
     ]
    },
    {
     "name": "stderr",
     "output_type": "stream",
     "text": [
      "feature_fraction, val_score: 0.518210:  14%|#4        | 1/7 [00:04<00:26,  4.49s/it][I 2024-02-20 15:11:10,821] Trial 0 finished with value: 0.5182097852043978 and parameters: {'feature_fraction': 0.5}. Best is trial 0 with value: 0.5182097852043978.\n",
      "feature_fraction, val_score: 0.518210:  14%|#4        | 1/7 [00:04<00:26,  4.49s/it]"
     ]
    },
    {
     "name": "stdout",
     "output_type": "stream",
     "text": [
      "Early stopping, best iteration is:\n",
      "[126]\tvalid_0's binary_logloss: 0.422255\tvalid_1's binary_logloss: 0.51821\n"
     ]
    },
    {
     "name": "stderr",
     "output_type": "stream",
     "text": [
      "feature_fraction, val_score: 0.516984:  29%|##8       | 2/7 [00:09<00:23,  4.74s/it][I 2024-02-20 15:11:15,727] Trial 1 finished with value: 0.5169841857412474 and parameters: {'feature_fraction': 0.7}. Best is trial 1 with value: 0.5169841857412474.\n",
      "feature_fraction, val_score: 0.516984:  29%|##8       | 2/7 [00:09<00:23,  4.74s/it]"
     ]
    },
    {
     "name": "stdout",
     "output_type": "stream",
     "text": [
      "Early stopping, best iteration is:\n",
      "[99]\tvalid_0's binary_logloss: 0.437858\tvalid_1's binary_logloss: 0.516984\n"
     ]
    },
    {
     "name": "stderr",
     "output_type": "stream",
     "text": [
      "feature_fraction, val_score: 0.516984:  43%|####2     | 3/7 [00:14<00:20,  5.03s/it][I 2024-02-20 15:11:21,110] Trial 2 finished with value: 0.5169841857412474 and parameters: {'feature_fraction': 0.8}. Best is trial 1 with value: 0.5169841857412474.\n",
      "feature_fraction, val_score: 0.516984:  43%|####2     | 3/7 [00:14<00:20,  5.03s/it]"
     ]
    },
    {
     "name": "stdout",
     "output_type": "stream",
     "text": [
      "Early stopping, best iteration is:\n",
      "[99]\tvalid_0's binary_logloss: 0.437858\tvalid_1's binary_logloss: 0.516984\n"
     ]
    },
    {
     "name": "stderr",
     "output_type": "stream",
     "text": [
      "feature_fraction, val_score: 0.516984:  57%|#####7    | 4/7 [00:18<00:13,  4.49s/it][I 2024-02-20 15:11:24,764] Trial 3 finished with value: 0.5169841857412474 and parameters: {'feature_fraction': 0.4}. Best is trial 1 with value: 0.5169841857412474.\n",
      "feature_fraction, val_score: 0.516984:  57%|#####7    | 4/7 [00:18<00:13,  4.49s/it]"
     ]
    },
    {
     "name": "stdout",
     "output_type": "stream",
     "text": [
      "Early stopping, best iteration is:\n",
      "[99]\tvalid_0's binary_logloss: 0.437858\tvalid_1's binary_logloss: 0.516984\n"
     ]
    },
    {
     "name": "stderr",
     "output_type": "stream",
     "text": [
      "feature_fraction, val_score: 0.516984:  71%|#######1  | 5/7 [00:22<00:08,  4.49s/it][I 2024-02-20 15:11:29,266] Trial 4 finished with value: 0.5169841857412474 and parameters: {'feature_fraction': 0.6}. Best is trial 1 with value: 0.5169841857412474.\n",
      "feature_fraction, val_score: 0.516984:  71%|#######1  | 5/7 [00:22<00:08,  4.49s/it]"
     ]
    },
    {
     "name": "stdout",
     "output_type": "stream",
     "text": [
      "Early stopping, best iteration is:\n",
      "[99]\tvalid_0's binary_logloss: 0.437858\tvalid_1's binary_logloss: 0.516984\n"
     ]
    },
    {
     "name": "stderr",
     "output_type": "stream",
     "text": [
      "feature_fraction, val_score: 0.516984:  86%|########5 | 6/7 [00:28<00:04,  4.88s/it][I 2024-02-20 15:11:34,908] Trial 5 finished with value: 0.5169841857412474 and parameters: {'feature_fraction': 0.8999999999999999}. Best is trial 1 with value: 0.5169841857412474.\n",
      "feature_fraction, val_score: 0.516984:  86%|########5 | 6/7 [00:28<00:04,  4.88s/it]"
     ]
    },
    {
     "name": "stdout",
     "output_type": "stream",
     "text": [
      "Early stopping, best iteration is:\n",
      "[99]\tvalid_0's binary_logloss: 0.437858\tvalid_1's binary_logloss: 0.516984\n"
     ]
    },
    {
     "name": "stderr",
     "output_type": "stream",
     "text": [
      "feature_fraction, val_score: 0.516984: 100%|##########| 7/7 [00:34<00:00,  5.26s/it][I 2024-02-20 15:11:40,953] Trial 6 finished with value: 0.5169841857412474 and parameters: {'feature_fraction': 1.0}. Best is trial 1 with value: 0.5169841857412474.\n",
      "feature_fraction, val_score: 0.516984: 100%|##########| 7/7 [00:34<00:00,  4.95s/it]\n"
     ]
    },
    {
     "name": "stdout",
     "output_type": "stream",
     "text": [
      "Early stopping, best iteration is:\n",
      "[99]\tvalid_0's binary_logloss: 0.437858\tvalid_1's binary_logloss: 0.516984\n"
     ]
    },
    {
     "name": "stderr",
     "output_type": "stream",
     "text": [
      "num_leaves, val_score: 0.516984:   5%|5         | 1/20 [00:15<04:51, 15.34s/it][I 2024-02-20 15:11:56,301] Trial 7 finished with value: 0.5169841857412474 and parameters: {'num_leaves': 179}. Best is trial 7 with value: 0.5169841857412474.\n",
      "num_leaves, val_score: 0.516984:   5%|5         | 1/20 [00:15<04:51, 15.34s/it]"
     ]
    },
    {
     "name": "stdout",
     "output_type": "stream",
     "text": [
      "Early stopping, best iteration is:\n",
      "[99]\tvalid_0's binary_logloss: 0.437858\tvalid_1's binary_logloss: 0.516984\n"
     ]
    },
    {
     "name": "stderr",
     "output_type": "stream",
     "text": [
      "num_leaves, val_score: 0.515038:  10%|#         | 2/20 [00:22<03:10, 10.60s/it][I 2024-02-20 15:12:03,577] Trial 8 finished with value: 0.5150383402596086 and parameters: {'num_leaves': 74}. Best is trial 8 with value: 0.5150383402596086.\n",
      "num_leaves, val_score: 0.515038:  10%|#         | 2/20 [00:22<03:10, 10.60s/it]"
     ]
    },
    {
     "name": "stdout",
     "output_type": "stream",
     "text": [
      "Early stopping, best iteration is:\n",
      "[74]\tvalid_0's binary_logloss: 0.385952\tvalid_1's binary_logloss: 0.515038\n"
     ]
    },
    {
     "name": "stderr",
     "output_type": "stream",
     "text": [
      "num_leaves, val_score: 0.515038:  15%|#5        | 3/20 [00:28<02:26,  8.65s/it][I 2024-02-20 15:12:09,903] Trial 9 finished with value: 0.5150383402596086 and parameters: {'num_leaves': 59}. Best is trial 8 with value: 0.5150383402596086.\n",
      "num_leaves, val_score: 0.515038:  15%|#5        | 3/20 [00:28<02:26,  8.65s/it]"
     ]
    },
    {
     "name": "stdout",
     "output_type": "stream",
     "text": [
      "Early stopping, best iteration is:\n",
      "[74]\tvalid_0's binary_logloss: 0.385952\tvalid_1's binary_logloss: 0.515038\n"
     ]
    },
    {
     "name": "stderr",
     "output_type": "stream",
     "text": [
      "num_leaves, val_score: 0.515038:  20%|##        | 4/20 [00:33<01:50,  6.90s/it][I 2024-02-20 15:12:14,130] Trial 10 finished with value: 0.5150383402596086 and parameters: {'num_leaves': 26}. Best is trial 8 with value: 0.5150383402596086.\n",
      "num_leaves, val_score: 0.515038:  20%|##        | 4/20 [00:33<01:50,  6.90s/it]"
     ]
    },
    {
     "name": "stdout",
     "output_type": "stream",
     "text": [
      "Early stopping, best iteration is:\n",
      "[74]\tvalid_0's binary_logloss: 0.385952\tvalid_1's binary_logloss: 0.515038\n"
     ]
    },
    {
     "name": "stderr",
     "output_type": "stream",
     "text": [
      "num_leaves, val_score: 0.515038:  25%|##5       | 5/20 [00:39<01:40,  6.72s/it][I 2024-02-20 15:12:20,534] Trial 11 finished with value: 0.5150383402596086 and parameters: {'num_leaves': 59}. Best is trial 8 with value: 0.5150383402596086.\n",
      "num_leaves, val_score: 0.515038:  25%|##5       | 5/20 [00:39<01:40,  6.72s/it]"
     ]
    },
    {
     "name": "stdout",
     "output_type": "stream",
     "text": [
      "Early stopping, best iteration is:\n",
      "[74]\tvalid_0's binary_logloss: 0.385952\tvalid_1's binary_logloss: 0.515038\n"
     ]
    },
    {
     "name": "stderr",
     "output_type": "stream",
     "text": [
      "num_leaves, val_score: 0.515038:  30%|###       | 6/20 [00:48<01:46,  7.58s/it][I 2024-02-20 15:12:29,794] Trial 12 finished with value: 0.5150383402596086 and parameters: {'num_leaves': 93}. Best is trial 8 with value: 0.5150383402596086.\n",
      "num_leaves, val_score: 0.515038:  30%|###       | 6/20 [00:48<01:46,  7.58s/it]"
     ]
    },
    {
     "name": "stdout",
     "output_type": "stream",
     "text": [
      "Early stopping, best iteration is:\n",
      "[74]\tvalid_0's binary_logloss: 0.385952\tvalid_1's binary_logloss: 0.515038\n"
     ]
    },
    {
     "name": "stderr",
     "output_type": "stream",
     "text": [
      "num_leaves, val_score: 0.515038:  35%|###5      | 7/20 [01:00<01:54,  8.83s/it][I 2024-02-20 15:12:41,194] Trial 13 finished with value: 0.5150383402596086 and parameters: {'num_leaves': 124}. Best is trial 8 with value: 0.5150383402596086.\n",
      "num_leaves, val_score: 0.515038:  35%|###5      | 7/20 [01:00<01:54,  8.83s/it]"
     ]
    },
    {
     "name": "stdout",
     "output_type": "stream",
     "text": [
      "Early stopping, best iteration is:\n",
      "[74]\tvalid_0's binary_logloss: 0.385952\tvalid_1's binary_logloss: 0.515038\n"
     ]
    },
    {
     "name": "stderr",
     "output_type": "stream",
     "text": [
      "num_leaves, val_score: 0.515038:  40%|####      | 8/20 [01:03<01:24,  7.02s/it][I 2024-02-20 15:12:44,329] Trial 14 finished with value: 0.5150383402596086 and parameters: {'num_leaves': 10}. Best is trial 8 with value: 0.5150383402596086.\n",
      "num_leaves, val_score: 0.515038:  40%|####      | 8/20 [01:03<01:24,  7.02s/it]"
     ]
    },
    {
     "name": "stdout",
     "output_type": "stream",
     "text": [
      "Early stopping, best iteration is:\n",
      "[74]\tvalid_0's binary_logloss: 0.385952\tvalid_1's binary_logloss: 0.515038\n"
     ]
    },
    {
     "name": "stderr",
     "output_type": "stream",
     "text": [
      "num_leaves, val_score: 0.515038:  45%|####5     | 9/20 [01:22<01:59, 10.87s/it][I 2024-02-20 15:13:03,677] Trial 15 finished with value: 0.5150383402596086 and parameters: {'num_leaves': 249}. Best is trial 8 with value: 0.5150383402596086.\n",
      "num_leaves, val_score: 0.515038:  45%|####5     | 9/20 [01:22<01:59, 10.87s/it]"
     ]
    },
    {
     "name": "stdout",
     "output_type": "stream",
     "text": [
      "Early stopping, best iteration is:\n",
      "[74]\tvalid_0's binary_logloss: 0.385952\tvalid_1's binary_logloss: 0.515038\n"
     ]
    },
    {
     "name": "stderr",
     "output_type": "stream",
     "text": [
      "num_leaves, val_score: 0.515038:  50%|#####     | 10/20 [01:30<01:38,  9.88s/it][I 2024-02-20 15:13:11,326] Trial 16 finished with value: 0.5150383402596086 and parameters: {'num_leaves': 79}. Best is trial 8 with value: 0.5150383402596086.\n",
      "num_leaves, val_score: 0.515038:  50%|#####     | 10/20 [01:30<01:38,  9.88s/it]"
     ]
    },
    {
     "name": "stdout",
     "output_type": "stream",
     "text": [
      "Early stopping, best iteration is:\n",
      "[74]\tvalid_0's binary_logloss: 0.385952\tvalid_1's binary_logloss: 0.515038\n"
     ]
    },
    {
     "name": "stderr",
     "output_type": "stream",
     "text": [
      "num_leaves, val_score: 0.515038:  55%|#####5    | 11/20 [01:42<01:35, 10.57s/it][I 2024-02-20 15:13:23,466] Trial 17 finished with value: 0.5150383402596086 and parameters: {'num_leaves': 152}. Best is trial 8 with value: 0.5150383402596086.\n",
      "num_leaves, val_score: 0.515038:  55%|#####5    | 11/20 [01:42<01:35, 10.57s/it]"
     ]
    },
    {
     "name": "stdout",
     "output_type": "stream",
     "text": [
      "Early stopping, best iteration is:\n",
      "[74]\tvalid_0's binary_logloss: 0.385952\tvalid_1's binary_logloss: 0.515038\n"
     ]
    },
    {
     "name": "stderr",
     "output_type": "stream",
     "text": [
      "num_leaves, val_score: 0.515038:  60%|######    | 12/20 [01:48<01:12,  9.11s/it][I 2024-02-20 15:13:29,225] Trial 18 finished with value: 0.5150383402596086 and parameters: {'num_leaves': 50}. Best is trial 8 with value: 0.5150383402596086.\n",
      "num_leaves, val_score: 0.515038:  60%|######    | 12/20 [01:48<01:12,  9.11s/it]"
     ]
    },
    {
     "name": "stdout",
     "output_type": "stream",
     "text": [
      "Early stopping, best iteration is:\n",
      "[74]\tvalid_0's binary_logloss: 0.385952\tvalid_1's binary_logloss: 0.515038\n"
     ]
    },
    {
     "name": "stderr",
     "output_type": "stream",
     "text": [
      "num_leaves, val_score: 0.515038:  65%|######5   | 13/20 [01:57<01:03,  9.13s/it][I 2024-02-20 15:13:38,420] Trial 19 finished with value: 0.5150383402596086 and parameters: {'num_leaves': 104}. Best is trial 8 with value: 0.5150383402596086.\n",
      "num_leaves, val_score: 0.515038:  65%|######5   | 13/20 [01:57<01:03,  9.13s/it]"
     ]
    },
    {
     "name": "stdout",
     "output_type": "stream",
     "text": [
      "Early stopping, best iteration is:\n",
      "[74]\tvalid_0's binary_logloss: 0.385952\tvalid_1's binary_logloss: 0.515038\n"
     ]
    },
    {
     "name": "stderr",
     "output_type": "stream",
     "text": [
      "num_leaves, val_score: 0.515038:  70%|#######   | 14/20 [02:02<00:47,  7.99s/it][I 2024-02-20 15:13:43,770] Trial 20 finished with value: 0.5150383402596086 and parameters: {'num_leaves': 44}. Best is trial 8 with value: 0.5150383402596086.\n",
      "num_leaves, val_score: 0.515038:  70%|#######   | 14/20 [02:02<00:47,  7.99s/it]"
     ]
    },
    {
     "name": "stdout",
     "output_type": "stream",
     "text": [
      "Early stopping, best iteration is:\n",
      "[74]\tvalid_0's binary_logloss: 0.385952\tvalid_1's binary_logloss: 0.515038\n"
     ]
    },
    {
     "name": "stderr",
     "output_type": "stream",
     "text": [
      "num_leaves, val_score: 0.515038:  75%|#######5  | 15/20 [02:05<00:31,  6.32s/it][I 2024-02-20 15:13:46,228] Trial 21 finished with value: 0.5150383402596086 and parameters: {'num_leaves': 5}. Best is trial 8 with value: 0.5150383402596086.\n",
      "num_leaves, val_score: 0.515038:  75%|#######5  | 15/20 [02:05<00:31,  6.32s/it]"
     ]
    },
    {
     "name": "stdout",
     "output_type": "stream",
     "text": [
      "Early stopping, best iteration is:\n",
      "[74]\tvalid_0's binary_logloss: 0.385952\tvalid_1's binary_logloss: 0.515038\n"
     ]
    },
    {
     "name": "stderr",
     "output_type": "stream",
     "text": [
      "num_leaves, val_score: 0.515038:  80%|########  | 16/20 [02:10<00:23,  5.88s/it][I 2024-02-20 15:13:51,066] Trial 22 finished with value: 0.5150383402596086 and parameters: {'num_leaves': 35}. Best is trial 8 with value: 0.5150383402596086.\n",
      "num_leaves, val_score: 0.515038:  80%|########  | 16/20 [02:10<00:23,  5.88s/it]"
     ]
    },
    {
     "name": "stdout",
     "output_type": "stream",
     "text": [
      "Early stopping, best iteration is:\n",
      "[74]\tvalid_0's binary_logloss: 0.385952\tvalid_1's binary_logloss: 0.515038\n"
     ]
    },
    {
     "name": "stderr",
     "output_type": "stream",
     "text": [
      "num_leaves, val_score: 0.515038:  85%|########5 | 17/20 [02:18<00:19,  6.49s/it][I 2024-02-20 15:13:58,968] Trial 23 finished with value: 0.5150383402596086 and parameters: {'num_leaves': 83}. Best is trial 8 with value: 0.5150383402596086.\n",
      "num_leaves, val_score: 0.515038:  85%|########5 | 17/20 [02:18<00:19,  6.49s/it]"
     ]
    },
    {
     "name": "stdout",
     "output_type": "stream",
     "text": [
      "Early stopping, best iteration is:\n",
      "[74]\tvalid_0's binary_logloss: 0.385952\tvalid_1's binary_logloss: 0.515038\n"
     ]
    },
    {
     "name": "stderr",
     "output_type": "stream",
     "text": [
      "num_leaves, val_score: 0.515038:  90%|######### | 18/20 [02:22<00:11,  5.92s/it][I 2024-02-20 15:14:03,570] Trial 24 finished with value: 0.5150383402596086 and parameters: {'num_leaves': 32}. Best is trial 8 with value: 0.5150383402596086.\n",
      "num_leaves, val_score: 0.515038:  90%|######### | 18/20 [02:22<00:11,  5.92s/it]"
     ]
    },
    {
     "name": "stdout",
     "output_type": "stream",
     "text": [
      "Early stopping, best iteration is:\n",
      "[74]\tvalid_0's binary_logloss: 0.385952\tvalid_1's binary_logloss: 0.515038\n"
     ]
    },
    {
     "name": "stderr",
     "output_type": "stream",
     "text": [
      "num_leaves, val_score: 0.515038:  95%|#########5| 19/20 [02:29<00:06,  6.34s/it][I 2024-02-20 15:14:10,892] Trial 25 finished with value: 0.5150383402596086 and parameters: {'num_leaves': 74}. Best is trial 8 with value: 0.5150383402596086.\n",
      "num_leaves, val_score: 0.515038:  95%|#########5| 19/20 [02:29<00:06,  6.34s/it]"
     ]
    },
    {
     "name": "stdout",
     "output_type": "stream",
     "text": [
      "Early stopping, best iteration is:\n",
      "[74]\tvalid_0's binary_logloss: 0.385952\tvalid_1's binary_logloss: 0.515038\n"
     ]
    },
    {
     "name": "stderr",
     "output_type": "stream",
     "text": [
      "num_leaves, val_score: 0.515038: 100%|##########| 20/20 [02:39<00:00,  7.33s/it][I 2024-02-20 15:14:20,539] Trial 26 finished with value: 0.5150383402596086 and parameters: {'num_leaves': 113}. Best is trial 8 with value: 0.5150383402596086.\n",
      "num_leaves, val_score: 0.515038: 100%|##########| 20/20 [02:39<00:00,  7.98s/it]\n"
     ]
    },
    {
     "name": "stdout",
     "output_type": "stream",
     "text": [
      "Early stopping, best iteration is:\n",
      "[74]\tvalid_0's binary_logloss: 0.385952\tvalid_1's binary_logloss: 0.515038\n"
     ]
    },
    {
     "name": "stderr",
     "output_type": "stream",
     "text": [
      "bagging, val_score: 0.515038:  10%|#         | 1/10 [00:07<01:04,  7.17s/it][I 2024-02-20 15:14:27,725] Trial 27 finished with value: 0.5150383402596086 and parameters: {'bagging_fraction': 0.8290966202970953, 'bagging_freq': 5}. Best is trial 27 with value: 0.5150383402596086.\n",
      "bagging, val_score: 0.515038:  10%|#         | 1/10 [00:07<01:04,  7.17s/it]"
     ]
    },
    {
     "name": "stdout",
     "output_type": "stream",
     "text": [
      "Early stopping, best iteration is:\n",
      "[74]\tvalid_0's binary_logloss: 0.385952\tvalid_1's binary_logloss: 0.515038\n"
     ]
    },
    {
     "name": "stderr",
     "output_type": "stream",
     "text": [
      "bagging, val_score: 0.515038:  20%|##        | 2/10 [00:13<00:54,  6.79s/it][I 2024-02-20 15:14:34,245] Trial 28 finished with value: 0.5150383402596086 and parameters: {'bagging_fraction': 0.4507667621429555, 'bagging_freq': 1}. Best is trial 27 with value: 0.5150383402596086.\n",
      "bagging, val_score: 0.515038:  20%|##        | 2/10 [00:13<00:54,  6.79s/it]"
     ]
    },
    {
     "name": "stdout",
     "output_type": "stream",
     "text": [
      "Early stopping, best iteration is:\n",
      "[74]\tvalid_0's binary_logloss: 0.385952\tvalid_1's binary_logloss: 0.515038\n"
     ]
    },
    {
     "name": "stderr",
     "output_type": "stream",
     "text": [
      "bagging, val_score: 0.515038:  30%|###       | 3/10 [00:21<00:49,  7.03s/it][I 2024-02-20 15:14:41,554] Trial 29 finished with value: 0.5150383402596086 and parameters: {'bagging_fraction': 0.9928650935900654, 'bagging_freq': 7}. Best is trial 27 with value: 0.5150383402596086.\n",
      "bagging, val_score: 0.515038:  30%|###       | 3/10 [00:21<00:49,  7.03s/it]"
     ]
    },
    {
     "name": "stdout",
     "output_type": "stream",
     "text": [
      "Early stopping, best iteration is:\n",
      "[74]\tvalid_0's binary_logloss: 0.385952\tvalid_1's binary_logloss: 0.515038\n"
     ]
    },
    {
     "name": "stderr",
     "output_type": "stream",
     "text": [
      "bagging, val_score: 0.515038:  40%|####      | 4/10 [00:27<00:40,  6.78s/it][I 2024-02-20 15:14:47,965] Trial 30 finished with value: 0.5150383402596086 and parameters: {'bagging_fraction': 0.40230288654025664, 'bagging_freq': 2}. Best is trial 27 with value: 0.5150383402596086.\n",
      "bagging, val_score: 0.515038:  40%|####      | 4/10 [00:27<00:40,  6.78s/it]"
     ]
    },
    {
     "name": "stdout",
     "output_type": "stream",
     "text": [
      "Early stopping, best iteration is:\n",
      "[74]\tvalid_0's binary_logloss: 0.385952\tvalid_1's binary_logloss: 0.515038\n"
     ]
    },
    {
     "name": "stderr",
     "output_type": "stream",
     "text": [
      "bagging, val_score: 0.515038:  50%|#####     | 5/10 [00:34<00:34,  6.82s/it][I 2024-02-20 15:14:54,856] Trial 31 finished with value: 0.5150383402596086 and parameters: {'bagging_fraction': 0.6455902284260232, 'bagging_freq': 4}. Best is trial 27 with value: 0.5150383402596086.\n",
      "bagging, val_score: 0.515038:  50%|#####     | 5/10 [00:34<00:34,  6.82s/it]"
     ]
    },
    {
     "name": "stdout",
     "output_type": "stream",
     "text": [
      "Early stopping, best iteration is:\n",
      "[74]\tvalid_0's binary_logloss: 0.385952\tvalid_1's binary_logloss: 0.515038\n"
     ]
    },
    {
     "name": "stderr",
     "output_type": "stream",
     "text": [
      "bagging, val_score: 0.515038:  60%|######    | 6/10 [00:41<00:27,  6.86s/it][I 2024-02-20 15:15:01,801] Trial 32 finished with value: 0.5150383402596086 and parameters: {'bagging_fraction': 0.6409107096395048, 'bagging_freq': 7}. Best is trial 27 with value: 0.5150383402596086.\n",
      "bagging, val_score: 0.515038:  60%|######    | 6/10 [00:41<00:27,  6.86s/it]"
     ]
    },
    {
     "name": "stdout",
     "output_type": "stream",
     "text": [
      "Early stopping, best iteration is:\n",
      "[74]\tvalid_0's binary_logloss: 0.385952\tvalid_1's binary_logloss: 0.515038\n"
     ]
    },
    {
     "name": "stderr",
     "output_type": "stream",
     "text": [
      "bagging, val_score: 0.515038:  70%|#######   | 7/10 [00:48<00:21,  7.03s/it][I 2024-02-20 15:15:09,178] Trial 33 finished with value: 0.5150383402596086 and parameters: {'bagging_fraction': 0.9877395996139684, 'bagging_freq': 4}. Best is trial 27 with value: 0.5150383402596086.\n",
      "bagging, val_score: 0.515038:  70%|#######   | 7/10 [00:48<00:21,  7.03s/it]"
     ]
    },
    {
     "name": "stdout",
     "output_type": "stream",
     "text": [
      "Early stopping, best iteration is:\n",
      "[74]\tvalid_0's binary_logloss: 0.385952\tvalid_1's binary_logloss: 0.515038\n"
     ]
    },
    {
     "name": "stderr",
     "output_type": "stream",
     "text": [
      "bagging, val_score: 0.515038:  80%|########  | 8/10 [00:55<00:14,  7.07s/it][I 2024-02-20 15:15:16,336] Trial 34 finished with value: 0.5150383402596086 and parameters: {'bagging_fraction': 0.7972185404201217, 'bagging_freq': 2}. Best is trial 27 with value: 0.5150383402596086.\n",
      "bagging, val_score: 0.515038:  80%|########  | 8/10 [00:55<00:14,  7.07s/it]"
     ]
    },
    {
     "name": "stdout",
     "output_type": "stream",
     "text": [
      "Early stopping, best iteration is:\n",
      "[74]\tvalid_0's binary_logloss: 0.385952\tvalid_1's binary_logloss: 0.515038\n"
     ]
    },
    {
     "name": "stderr",
     "output_type": "stream",
     "text": [
      "bagging, val_score: 0.515038:  90%|######### | 9/10 [01:02<00:06,  6.97s/it][I 2024-02-20 15:15:23,077] Trial 35 finished with value: 0.5150383402596086 and parameters: {'bagging_fraction': 0.52426135995336, 'bagging_freq': 5}. Best is trial 27 with value: 0.5150383402596086.\n",
      "bagging, val_score: 0.515038:  90%|######### | 9/10 [01:02<00:06,  6.97s/it]"
     ]
    },
    {
     "name": "stdout",
     "output_type": "stream",
     "text": [
      "Early stopping, best iteration is:\n",
      "[74]\tvalid_0's binary_logloss: 0.385952\tvalid_1's binary_logloss: 0.515038\n"
     ]
    },
    {
     "name": "stderr",
     "output_type": "stream",
     "text": [
      "bagging, val_score: 0.515038: 100%|##########| 10/10 [01:09<00:00,  6.89s/it][I 2024-02-20 15:15:29,787] Trial 36 finished with value: 0.5150383402596086 and parameters: {'bagging_fraction': 0.5501286373091325, 'bagging_freq': 6}. Best is trial 27 with value: 0.5150383402596086.\n",
      "bagging, val_score: 0.515038: 100%|##########| 10/10 [01:09<00:00,  6.92s/it]\n"
     ]
    },
    {
     "name": "stdout",
     "output_type": "stream",
     "text": [
      "Early stopping, best iteration is:\n",
      "[74]\tvalid_0's binary_logloss: 0.385952\tvalid_1's binary_logloss: 0.515038\n"
     ]
    },
    {
     "name": "stderr",
     "output_type": "stream",
     "text": [
      "feature_fraction_stage2, val_score: 0.515038:  17%|#6        | 1/6 [00:07<00:36,  7.30s/it][I 2024-02-20 15:15:37,096] Trial 37 finished with value: 0.5150383402596086 and parameters: {'feature_fraction': 0.716}. Best is trial 37 with value: 0.5150383402596086.\n",
      "feature_fraction_stage2, val_score: 0.515038:  17%|#6        | 1/6 [00:07<00:36,  7.30s/it]"
     ]
    },
    {
     "name": "stdout",
     "output_type": "stream",
     "text": [
      "Early stopping, best iteration is:\n",
      "[74]\tvalid_0's binary_logloss: 0.385952\tvalid_1's binary_logloss: 0.515038\n"
     ]
    },
    {
     "name": "stderr",
     "output_type": "stream",
     "text": [
      "feature_fraction_stage2, val_score: 0.515038:  33%|###3      | 2/6 [00:14<00:28,  7.18s/it][I 2024-02-20 15:15:44,190] Trial 38 finished with value: 0.5150383402596086 and parameters: {'feature_fraction': 0.6839999999999999}. Best is trial 37 with value: 0.5150383402596086.\n",
      "feature_fraction_stage2, val_score: 0.515038:  33%|###3      | 2/6 [00:14<00:28,  7.18s/it]"
     ]
    },
    {
     "name": "stdout",
     "output_type": "stream",
     "text": [
      "Early stopping, best iteration is:\n",
      "[74]\tvalid_0's binary_logloss: 0.385952\tvalid_1's binary_logloss: 0.515038\n"
     ]
    },
    {
     "name": "stderr",
     "output_type": "stream",
     "text": [
      "feature_fraction_stage2, val_score: 0.515038:  50%|#####     | 3/6 [00:21<00:20,  6.98s/it][I 2024-02-20 15:15:50,947] Trial 39 finished with value: 0.5150383402596086 and parameters: {'feature_fraction': 0.62}. Best is trial 37 with value: 0.5150383402596086.\n",
      "feature_fraction_stage2, val_score: 0.515038:  50%|#####     | 3/6 [00:21<00:20,  6.98s/it]"
     ]
    },
    {
     "name": "stdout",
     "output_type": "stream",
     "text": [
      "Early stopping, best iteration is:\n",
      "[74]\tvalid_0's binary_logloss: 0.385952\tvalid_1's binary_logloss: 0.515038\n"
     ]
    },
    {
     "name": "stderr",
     "output_type": "stream",
     "text": [
      "feature_fraction_stage2, val_score: 0.515038:  67%|######6   | 4/6 [00:28<00:14,  7.20s/it][I 2024-02-20 15:15:58,473] Trial 40 finished with value: 0.5150383402596086 and parameters: {'feature_fraction': 0.748}. Best is trial 37 with value: 0.5150383402596086.\n",
      "feature_fraction_stage2, val_score: 0.515038:  67%|######6   | 4/6 [00:28<00:14,  7.20s/it]"
     ]
    },
    {
     "name": "stdout",
     "output_type": "stream",
     "text": [
      "Early stopping, best iteration is:\n",
      "[74]\tvalid_0's binary_logloss: 0.385952\tvalid_1's binary_logloss: 0.515038\n"
     ]
    },
    {
     "name": "stderr",
     "output_type": "stream",
     "text": [
      "feature_fraction_stage2, val_score: 0.514389:  83%|########3 | 5/6 [00:35<00:07,  7.16s/it][I 2024-02-20 15:16:05,554] Trial 41 finished with value: 0.5143893061949137 and parameters: {'feature_fraction': 0.652}. Best is trial 41 with value: 0.5143893061949137.\n",
      "feature_fraction_stage2, val_score: 0.514389:  83%|########3 | 5/6 [00:35<00:07,  7.16s/it]"
     ]
    },
    {
     "name": "stdout",
     "output_type": "stream",
     "text": [
      "Early stopping, best iteration is:\n",
      "[80]\tvalid_0's binary_logloss: 0.377198\tvalid_1's binary_logloss: 0.514389\n"
     ]
    },
    {
     "name": "stderr",
     "output_type": "stream",
     "text": [
      "feature_fraction_stage2, val_score: 0.514389: 100%|##########| 6/6 [00:43<00:00,  7.47s/it][I 2024-02-20 15:16:13,629] Trial 42 finished with value: 0.5143893061949137 and parameters: {'feature_fraction': 0.7799999999999999}. Best is trial 41 with value: 0.5143893061949137.\n",
      "feature_fraction_stage2, val_score: 0.514389: 100%|##########| 6/6 [00:43<00:00,  7.31s/it]\n"
     ]
    },
    {
     "name": "stdout",
     "output_type": "stream",
     "text": [
      "Early stopping, best iteration is:\n",
      "[80]\tvalid_0's binary_logloss: 0.377198\tvalid_1's binary_logloss: 0.514389\n"
     ]
    },
    {
     "name": "stderr",
     "output_type": "stream",
     "text": [
      "regularization_factors, val_score: 0.514389:   5%|5         | 1/20 [00:08<02:46,  8.74s/it][I 2024-02-20 15:16:22,376] Trial 43 finished with value: 0.5143893061949137 and parameters: {'lambda_l1': 0.027318025396945597, 'lambda_l2': 0.0039995152383668865}. Best is trial 43 with value: 0.5143893061949137.\n",
      "regularization_factors, val_score: 0.514389:   5%|5         | 1/20 [00:08<02:46,  8.74s/it]"
     ]
    },
    {
     "name": "stdout",
     "output_type": "stream",
     "text": [
      "Early stopping, best iteration is:\n",
      "[80]\tvalid_0's binary_logloss: 0.377198\tvalid_1's binary_logloss: 0.514389\n"
     ]
    },
    {
     "name": "stderr",
     "output_type": "stream",
     "text": [
      "regularization_factors, val_score: 0.514389:  10%|#         | 2/20 [00:17<02:39,  8.87s/it][I 2024-02-20 15:16:31,349] Trial 44 finished with value: 0.5143893061949137 and parameters: {'lambda_l1': 0.032569732010790324, 'lambda_l2': 0.0036351284448458785}. Best is trial 43 with value: 0.5143893061949137.\n",
      "regularization_factors, val_score: 0.514389:  10%|#         | 2/20 [00:17<02:39,  8.87s/it]"
     ]
    },
    {
     "name": "stdout",
     "output_type": "stream",
     "text": [
      "Early stopping, best iteration is:\n",
      "[80]\tvalid_0's binary_logloss: 0.377198\tvalid_1's binary_logloss: 0.514389\n"
     ]
    },
    {
     "name": "stderr",
     "output_type": "stream",
     "text": [
      "regularization_factors, val_score: 0.514389:  15%|#5        | 3/20 [00:26<02:33,  9.01s/it][I 2024-02-20 15:16:40,519] Trial 45 finished with value: 0.5143893061949137 and parameters: {'lambda_l1': 0.05683178411522928, 'lambda_l2': 0.004099360977417471}. Best is trial 43 with value: 0.5143893061949137.\n",
      "regularization_factors, val_score: 0.514389:  15%|#5        | 3/20 [00:26<02:33,  9.01s/it]"
     ]
    },
    {
     "name": "stdout",
     "output_type": "stream",
     "text": [
      "Early stopping, best iteration is:\n",
      "[80]\tvalid_0's binary_logloss: 0.377198\tvalid_1's binary_logloss: 0.514389\n"
     ]
    },
    {
     "name": "stderr",
     "output_type": "stream",
     "text": [
      "regularization_factors, val_score: 0.514389:  20%|##        | 4/20 [00:35<02:23,  8.94s/it][I 2024-02-20 15:16:49,355] Trial 46 finished with value: 0.5143893061949137 and parameters: {'lambda_l1': 0.04861093773494768, 'lambda_l2': 0.004875582493406628}. Best is trial 43 with value: 0.5143893061949137.\n",
      "regularization_factors, val_score: 0.514389:  20%|##        | 4/20 [00:35<02:23,  8.94s/it]"
     ]
    },
    {
     "name": "stdout",
     "output_type": "stream",
     "text": [
      "Early stopping, best iteration is:\n",
      "[80]\tvalid_0's binary_logloss: 0.377198\tvalid_1's binary_logloss: 0.514389\n"
     ]
    },
    {
     "name": "stderr",
     "output_type": "stream",
     "text": [
      "regularization_factors, val_score: 0.514389:  25%|##5       | 5/20 [00:44<02:13,  8.88s/it][I 2024-02-20 15:16:58,126] Trial 47 finished with value: 0.5143893061949137 and parameters: {'lambda_l1': 0.05387270607483972, 'lambda_l2': 0.0029876446213801013}. Best is trial 43 with value: 0.5143893061949137.\n",
      "regularization_factors, val_score: 0.514389:  25%|##5       | 5/20 [00:44<02:13,  8.88s/it]"
     ]
    },
    {
     "name": "stdout",
     "output_type": "stream",
     "text": [
      "Early stopping, best iteration is:\n",
      "[80]\tvalid_0's binary_logloss: 0.377198\tvalid_1's binary_logloss: 0.514389\n"
     ]
    },
    {
     "name": "stderr",
     "output_type": "stream",
     "text": [
      "regularization_factors, val_score: 0.513600:  30%|###       | 6/20 [00:52<02:02,  8.75s/it][I 2024-02-20 15:17:06,617] Trial 48 finished with value: 0.5136000243287782 and parameters: {'lambda_l1': 0.024975365562465462, 'lambda_l2': 0.004343556299932595}. Best is trial 48 with value: 0.5136000243287782.\n",
      "regularization_factors, val_score: 0.513600:  30%|###       | 6/20 [00:52<02:02,  8.75s/it]"
     ]
    },
    {
     "name": "stdout",
     "output_type": "stream",
     "text": [
      "Early stopping, best iteration is:\n",
      "[76]\tvalid_0's binary_logloss: 0.383887\tvalid_1's binary_logloss: 0.5136\n"
     ]
    },
    {
     "name": "stderr",
     "output_type": "stream",
     "text": [
      "regularization_factors, val_score: 0.513600:  35%|###5      | 7/20 [01:01<01:53,  8.69s/it][I 2024-02-20 15:17:15,199] Trial 49 finished with value: 0.5136000243287782 and parameters: {'lambda_l1': 0.00042794419484392293, 'lambda_l2': 0.11512091585668485}. Best is trial 48 with value: 0.5136000243287782.\n",
      "regularization_factors, val_score: 0.513600:  35%|###5      | 7/20 [01:01<01:53,  8.69s/it]"
     ]
    },
    {
     "name": "stdout",
     "output_type": "stream",
     "text": [
      "Early stopping, best iteration is:\n",
      "[76]\tvalid_0's binary_logloss: 0.383887\tvalid_1's binary_logloss: 0.5136\n"
     ]
    },
    {
     "name": "stderr",
     "output_type": "stream",
     "text": [
      "regularization_factors, val_score: 0.513600:  40%|####      | 8/20 [01:11<01:47,  8.97s/it][I 2024-02-20 15:17:24,755] Trial 50 finished with value: 0.5136000243287782 and parameters: {'lambda_l1': 1.8076027876114348e-05, 'lambda_l2': 6.906804717972961}. Best is trial 48 with value: 0.5136000243287782.\n",
      "regularization_factors, val_score: 0.513600:  40%|####      | 8/20 [01:11<01:47,  8.97s/it]"
     ]
    },
    {
     "name": "stdout",
     "output_type": "stream",
     "text": [
      "Early stopping, best iteration is:\n",
      "[76]\tvalid_0's binary_logloss: 0.383887\tvalid_1's binary_logloss: 0.5136\n"
     ]
    },
    {
     "name": "stderr",
     "output_type": "stream",
     "text": [
      "regularization_factors, val_score: 0.512807:  45%|####5     | 9/20 [01:20<01:39,  9.02s/it][I 2024-02-20 15:17:33,901] Trial 51 finished with value: 0.5128071534225307 and parameters: {'lambda_l1': 9.555724409193705e-06, 'lambda_l2': 3.5493637534583087}. Best is trial 51 with value: 0.5128071534225307.\n",
      "regularization_factors, val_score: 0.512807:  45%|####5     | 9/20 [01:20<01:39,  9.02s/it]"
     ]
    },
    {
     "name": "stdout",
     "output_type": "stream",
     "text": [
      "Early stopping, best iteration is:\n",
      "[79]\tvalid_0's binary_logloss: 0.386148\tvalid_1's binary_logloss: 0.512807\n"
     ]
    },
    {
     "name": "stderr",
     "output_type": "stream",
     "text": [
      "regularization_factors, val_score: 0.512807:  50%|#####     | 10/20 [01:29<01:31,  9.11s/it][I 2024-02-20 15:17:43,202] Trial 52 finished with value: 0.5128071534225307 and parameters: {'lambda_l1': 1.5882217048673307e-05, 'lambda_l2': 8.995753735818221}. Best is trial 51 with value: 0.5128071534225307.\n",
      "regularization_factors, val_score: 0.512807:  50%|#####     | 10/20 [01:29<01:31,  9.11s/it]"
     ]
    },
    {
     "name": "stdout",
     "output_type": "stream",
     "text": [
      "Early stopping, best iteration is:\n",
      "[79]\tvalid_0's binary_logloss: 0.386148\tvalid_1's binary_logloss: 0.512807\n"
     ]
    },
    {
     "name": "stderr",
     "output_type": "stream",
     "text": [
      "regularization_factors, val_score: 0.512807:  55%|#####5    | 11/20 [01:38<01:22,  9.18s/it][I 2024-02-20 15:17:52,530] Trial 53 finished with value: 0.5128071534225307 and parameters: {'lambda_l1': 1.4081495651363446e-05, 'lambda_l2': 6.140372669686626}. Best is trial 51 with value: 0.5128071534225307.\n",
      "regularization_factors, val_score: 0.512807:  55%|#####5    | 11/20 [01:38<01:22,  9.18s/it]"
     ]
    },
    {
     "name": "stdout",
     "output_type": "stream",
     "text": [
      "Early stopping, best iteration is:\n",
      "[79]\tvalid_0's binary_logloss: 0.386148\tvalid_1's binary_logloss: 0.512807\n"
     ]
    },
    {
     "name": "stderr",
     "output_type": "stream",
     "text": [
      "regularization_factors, val_score: 0.512807:  60%|######    | 12/20 [01:48<01:14,  9.26s/it][I 2024-02-20 15:18:01,978] Trial 54 finished with value: 0.5128071534225307 and parameters: {'lambda_l1': 8.491120603119682e-06, 'lambda_l2': 8.698086956719779}. Best is trial 51 with value: 0.5128071534225307.\n",
      "regularization_factors, val_score: 0.512807:  60%|######    | 12/20 [01:48<01:14,  9.26s/it]"
     ]
    },
    {
     "name": "stdout",
     "output_type": "stream",
     "text": [
      "Early stopping, best iteration is:\n",
      "[79]\tvalid_0's binary_logloss: 0.386148\tvalid_1's binary_logloss: 0.512807\n"
     ]
    },
    {
     "name": "stderr",
     "output_type": "stream",
     "text": [
      "regularization_factors, val_score: 0.512425:  65%|######5   | 13/20 [01:58<01:07,  9.68s/it][I 2024-02-20 15:18:12,614] Trial 55 finished with value: 0.5124254568774517 and parameters: {'lambda_l1': 6.427447660929544e-06, 'lambda_l2': 7.148296123828162}. Best is trial 55 with value: 0.5124254568774517.\n",
      "regularization_factors, val_score: 0.512425:  65%|######5   | 13/20 [01:58<01:07,  9.68s/it]"
     ]
    },
    {
     "name": "stdout",
     "output_type": "stream",
     "text": [
      "Early stopping, best iteration is:\n",
      "[112]\tvalid_0's binary_logloss: 0.350096\tvalid_1's binary_logloss: 0.512425\n"
     ]
    },
    {
     "name": "stderr",
     "output_type": "stream",
     "text": [
      "regularization_factors, val_score: 0.512425:  70%|#######   | 14/20 [02:09<00:59,  9.97s/it][I 2024-02-20 15:18:23,271] Trial 56 finished with value: 0.5124254568774517 and parameters: {'lambda_l1': 4.118385353150332e-06, 'lambda_l2': 6.6747868952879115}. Best is trial 55 with value: 0.5124254568774517.\n",
      "regularization_factors, val_score: 0.512425:  70%|#######   | 14/20 [02:09<00:59,  9.97s/it]"
     ]
    },
    {
     "name": "stdout",
     "output_type": "stream",
     "text": [
      "Early stopping, best iteration is:\n",
      "[112]\tvalid_0's binary_logloss: 0.350096\tvalid_1's binary_logloss: 0.512425\n"
     ]
    },
    {
     "name": "stderr",
     "output_type": "stream",
     "text": [
      "regularization_factors, val_score: 0.512425:  75%|#######5  | 15/20 [02:20<00:50, 10.15s/it][I 2024-02-20 15:18:33,837] Trial 57 finished with value: 0.5124254568774517 and parameters: {'lambda_l1': 3.3407286992009468e-06, 'lambda_l2': 6.650143544429121}. Best is trial 55 with value: 0.5124254568774517.\n",
      "regularization_factors, val_score: 0.512425:  75%|#######5  | 15/20 [02:20<00:50, 10.15s/it]"
     ]
    },
    {
     "name": "stdout",
     "output_type": "stream",
     "text": [
      "Early stopping, best iteration is:\n",
      "[112]\tvalid_0's binary_logloss: 0.350096\tvalid_1's binary_logloss: 0.512425\n"
     ]
    },
    {
     "name": "stderr",
     "output_type": "stream",
     "text": [
      "regularization_factors, val_score: 0.512425:  80%|########  | 16/20 [02:30<00:41, 10.33s/it][I 2024-02-20 15:18:44,581] Trial 58 finished with value: 0.5124254568774517 and parameters: {'lambda_l1': 1.034080304682702e-06, 'lambda_l2': 9.246527210027784}. Best is trial 55 with value: 0.5124254568774517.\n",
      "regularization_factors, val_score: 0.512425:  80%|########  | 16/20 [02:30<00:41, 10.33s/it]"
     ]
    },
    {
     "name": "stdout",
     "output_type": "stream",
     "text": [
      "Early stopping, best iteration is:\n",
      "[112]\tvalid_0's binary_logloss: 0.350096\tvalid_1's binary_logloss: 0.512425\n"
     ]
    },
    {
     "name": "stderr",
     "output_type": "stream",
     "text": [
      "regularization_factors, val_score: 0.512425:  85%|########5 | 17/20 [02:41<00:31, 10.42s/it][I 2024-02-20 15:18:55,196] Trial 59 finished with value: 0.5124254568774517 and parameters: {'lambda_l1': 4.020747861696242e-07, 'lambda_l2': 7.282608078471784}. Best is trial 55 with value: 0.5124254568774517.\n",
      "regularization_factors, val_score: 0.512425:  85%|########5 | 17/20 [02:41<00:31, 10.42s/it]"
     ]
    },
    {
     "name": "stdout",
     "output_type": "stream",
     "text": [
      "Early stopping, best iteration is:\n",
      "[112]\tvalid_0's binary_logloss: 0.350096\tvalid_1's binary_logloss: 0.512425\n"
     ]
    },
    {
     "name": "stderr",
     "output_type": "stream",
     "text": [
      "regularization_factors, val_score: 0.512425:  90%|######### | 18/20 [02:51<00:20, 10.31s/it][I 2024-02-20 15:19:05,265] Trial 60 finished with value: 0.5124254568774517 and parameters: {'lambda_l1': 3.3754453352922706e-07, 'lambda_l2': 0.5930188314142223}. Best is trial 55 with value: 0.5124254568774517.\n",
      "regularization_factors, val_score: 0.512425:  90%|######### | 18/20 [02:51<00:20, 10.31s/it]"
     ]
    },
    {
     "name": "stdout",
     "output_type": "stream",
     "text": [
      "Early stopping, best iteration is:\n",
      "[112]\tvalid_0's binary_logloss: 0.350096\tvalid_1's binary_logloss: 0.512425\n"
     ]
    },
    {
     "name": "stderr",
     "output_type": "stream",
     "text": [
      "regularization_factors, val_score: 0.512425:  95%|#########5| 19/20 [03:01<00:10, 10.20s/it][I 2024-02-20 15:19:15,198] Trial 61 finished with value: 0.5124254568774517 and parameters: {'lambda_l1': 2.3962073396665357e-07, 'lambda_l2': 0.6750511005473202}. Best is trial 55 with value: 0.5124254568774517.\n",
      "regularization_factors, val_score: 0.512425:  95%|#########5| 19/20 [03:01<00:10, 10.20s/it]"
     ]
    },
    {
     "name": "stdout",
     "output_type": "stream",
     "text": [
      "Early stopping, best iteration is:\n",
      "[112]\tvalid_0's binary_logloss: 0.350096\tvalid_1's binary_logloss: 0.512425\n"
     ]
    },
    {
     "name": "stderr",
     "output_type": "stream",
     "text": [
      "regularization_factors, val_score: 0.512425: 100%|##########| 20/20 [03:11<00:00, 10.12s/it][I 2024-02-20 15:19:25,154] Trial 62 finished with value: 0.5124254568774517 and parameters: {'lambda_l1': 1.8112168220383542e-07, 'lambda_l2': 0.6111612107973848}. Best is trial 55 with value: 0.5124254568774517.\n",
      "regularization_factors, val_score: 0.512425: 100%|##########| 20/20 [03:11<00:00,  9.58s/it]\n"
     ]
    },
    {
     "name": "stdout",
     "output_type": "stream",
     "text": [
      "Early stopping, best iteration is:\n",
      "[112]\tvalid_0's binary_logloss: 0.350096\tvalid_1's binary_logloss: 0.512425\n"
     ]
    },
    {
     "name": "stderr",
     "output_type": "stream",
     "text": [
      "min_child_samples, val_score: 0.512425:  20%|##        | 1/5 [00:09<00:39,  9.97s/it][I 2024-02-20 15:19:35,141] Trial 63 finished with value: 0.5124254568774517 and parameters: {'min_child_samples': 50}. Best is trial 63 with value: 0.5124254568774517.\n",
      "min_child_samples, val_score: 0.512425:  20%|##        | 1/5 [00:09<00:39,  9.97s/it]"
     ]
    },
    {
     "name": "stdout",
     "output_type": "stream",
     "text": [
      "Early stopping, best iteration is:\n",
      "[112]\tvalid_0's binary_logloss: 0.350096\tvalid_1's binary_logloss: 0.512425\n"
     ]
    },
    {
     "name": "stderr",
     "output_type": "stream",
     "text": [
      "min_child_samples, val_score: 0.512425:  40%|####      | 2/5 [00:20<00:30, 10.26s/it][I 2024-02-20 15:19:45,606] Trial 64 finished with value: 0.5124254568774517 and parameters: {'min_child_samples': 25}. Best is trial 63 with value: 0.5124254568774517.\n",
      "min_child_samples, val_score: 0.512425:  40%|####      | 2/5 [00:20<00:30, 10.26s/it]"
     ]
    },
    {
     "name": "stdout",
     "output_type": "stream",
     "text": [
      "Early stopping, best iteration is:\n",
      "[112]\tvalid_0's binary_logloss: 0.350096\tvalid_1's binary_logloss: 0.512425\n"
     ]
    },
    {
     "name": "stderr",
     "output_type": "stream",
     "text": [
      "min_child_samples, val_score: 0.512425:  60%|######    | 3/5 [00:31<00:21, 10.71s/it][I 2024-02-20 15:19:56,840] Trial 65 finished with value: 0.5124254568774517 and parameters: {'min_child_samples': 5}. Best is trial 63 with value: 0.5124254568774517.\n",
      "min_child_samples, val_score: 0.512425:  60%|######    | 3/5 [00:31<00:21, 10.71s/it]"
     ]
    },
    {
     "name": "stdout",
     "output_type": "stream",
     "text": [
      "Early stopping, best iteration is:\n",
      "[112]\tvalid_0's binary_logloss: 0.350096\tvalid_1's binary_logloss: 0.512425\n"
     ]
    },
    {
     "name": "stderr",
     "output_type": "stream",
     "text": [
      "min_child_samples, val_score: 0.512425:  80%|########  | 4/5 [00:41<00:10, 10.24s/it][I 2024-02-20 15:20:06,354] Trial 66 finished with value: 0.5124254568774517 and parameters: {'min_child_samples': 100}. Best is trial 63 with value: 0.5124254568774517.\n",
      "min_child_samples, val_score: 0.512425:  80%|########  | 4/5 [00:41<00:10, 10.24s/it]"
     ]
    },
    {
     "name": "stdout",
     "output_type": "stream",
     "text": [
      "Early stopping, best iteration is:\n",
      "[112]\tvalid_0's binary_logloss: 0.350096\tvalid_1's binary_logloss: 0.512425\n"
     ]
    },
    {
     "name": "stderr",
     "output_type": "stream",
     "text": [
      "min_child_samples, val_score: 0.512425: 100%|##########| 5/5 [00:52<00:00, 10.50s/it][I 2024-02-20 15:20:17,321] Trial 67 finished with value: 0.5124254568774517 and parameters: {'min_child_samples': 10}. Best is trial 63 with value: 0.5124254568774517.\n",
      "min_child_samples, val_score: 0.512425: 100%|##########| 5/5 [00:52<00:00, 10.43s/it]"
     ]
    },
    {
     "name": "stdout",
     "output_type": "stream",
     "text": [
      "Early stopping, best iteration is:\n",
      "[112]\tvalid_0's binary_logloss: 0.350096\tvalid_1's binary_logloss: 0.512425\n"
     ]
    },
    {
     "name": "stderr",
     "output_type": "stream",
     "text": [
      "\n"
     ]
    }
   ],
   "source": [
    "for i, year in enumerate(sorted(subsets.keys())):\n",
    "    if year in params_dict.keys():\n",
    "        continue\n",
    "    \n",
    "    # split into training and validation sets\n",
    "    df_train = subsets[year]['train']\n",
    "    df_valid = subsets[year]['val']\n",
    "\n",
    "    # create train and valid features\n",
    "    train_features = np.array(df_train.drop(non_features, axis = 1))\n",
    "    valid_features = np.array(df_valid.drop(non_features, axis = 1))\n",
    "\n",
    "    # create train and valid labels\n",
    "    train_labels = np.array(df_train['nq_eps_actual_direction'])\n",
    "    valid_labels = np.array(df_valid['nq_eps_actual_direction'])\n",
    "\n",
    "    # train model\n",
    "    params = {\n",
    "        'objective': 'binary',\n",
    "        'metric': 'binary_logloss',\n",
    "        \"verbosity\": -1,\n",
    "        'boosting_type': 'gbdt',\n",
    "    }\n",
    "    \n",
    "    train_data = lgb.Dataset(train_features, label=train_labels)\n",
    "    valid_data = lgb.Dataset(valid_features, label=valid_labels)\n",
    "\n",
    "    model = lgb.train(params, train_data, \n",
    "                      valid_sets=[train_data, valid_data],\n",
    "                      callbacks=[early_stopping(100)],\n",
    "                      optuna_seed = 123)\n",
    "    \n",
    "    # save best parameters\n",
    "    params_dict[year]= model.params\n",
    "    \n",
    "    file = open('../model/best_parameters.pkl','wb')\n",
    "    pickle.dump(params_dict, file)\n",
    "    file.close()"
   ]
  }
 ],
 "metadata": {
  "kernelspec": {
   "display_name": "base",
   "language": "python",
   "name": "python3"
  },
  "language_info": {
   "codemirror_mode": {
    "name": "ipython",
    "version": 3
   },
   "file_extension": ".py",
   "mimetype": "text/x-python",
   "name": "python",
   "nbconvert_exporter": "python",
   "pygments_lexer": "ipython3",
   "version": "3.11.4"
  }
 },
 "nbformat": 4,
 "nbformat_minor": 5
}
